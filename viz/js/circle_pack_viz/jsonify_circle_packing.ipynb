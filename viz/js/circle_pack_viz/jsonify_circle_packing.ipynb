{
 "cells": [
  {
   "cell_type": "markdown",
   "metadata": {},
   "source": [
    "## Create a JSON for the circle pack visualization"
   ]
  },
  {
   "cell_type": "code",
   "execution_count": 1,
   "metadata": {},
   "outputs": [
    {
     "name": "stdout",
     "output_type": "stream",
     "text": [
      "ln: ./tools/tools: File exists\n"
     ]
    }
   ],
   "source": [
    "# Important!\n",
    "# Rather than copy the tools from the src folder of the repository, \n",
    "## we create a symbolic link to it instead\n",
    "!ln -s ../../../src/tools/ ./tools"
   ]
  },
  {
   "cell_type": "code",
   "execution_count": 2,
   "metadata": {},
   "outputs": [
    {
     "name": "stderr",
     "output_type": "stream",
     "text": [
      "/anaconda3/lib/python3.7/site-packages/smart_open/ssh.py:34: UserWarning: paramiko missing, opening SSH/SCP/SFTP paths will be disabled.  `pip install paramiko` to suppress\n",
      "  warnings.warn('paramiko missing, opening SSH/SCP/SFTP paths will be disabled.  `pip install paramiko` to suppress')\n"
     ]
    }
   ],
   "source": [
    "import pandas as pd\n",
    "import numpy as np\n",
    "import functools as ft\n",
    "import itertools as it\n",
    "import multiprocessing as mp\n",
    "import scipy.sparse as sp\n",
    "import itertools\n",
    "import matplotlib.pyplot as plt\n",
    "from gensim import corpora\n",
    "from collections import defaultdict\n",
    "from gensim.models import TfidfModel\n",
    "from collections import Counter\n",
    "import json\n",
    "\n",
    "from tools import networkHelpers as nh\n",
    "\n",
    "%matplotlib notebook"
   ]
  },
  {
   "cell_type": "markdown",
   "metadata": {},
   "source": [
    "## HGNC mapper"
   ]
  },
  {
   "cell_type": "code",
   "execution_count": 3,
   "metadata": {},
   "outputs": [],
   "source": [
    "hgnc_mapper = nh.fetch_hgnc_mapper(path_to_hgnc='../../../data/miscReference/hgnc_alias_list.txt', path_to_kmast='../../../data/miscReference/KINASESmasterlist_w_Aliases.xlsx')"
   ]
  },
  {
   "cell_type": "code",
   "execution_count": 4,
   "metadata": {},
   "outputs": [
    {
     "data": {
      "text/html": [
       "<div>\n",
       "<style scoped>\n",
       "    .dataframe tbody tr th:only-of-type {\n",
       "        vertical-align: middle;\n",
       "    }\n",
       "\n",
       "    .dataframe tbody tr th {\n",
       "        vertical-align: top;\n",
       "    }\n",
       "\n",
       "    .dataframe thead th {\n",
       "        text-align: right;\n",
       "    }\n",
       "</style>\n",
       "<table border=\"1\" class=\"dataframe\">\n",
       "  <thead>\n",
       "    <tr style=\"text-align: right;\">\n",
       "      <th></th>\n",
       "      <th>cluster</th>\n",
       "    </tr>\n",
       "    <tr>\n",
       "      <th>names</th>\n",
       "      <th></th>\n",
       "    </tr>\n",
       "  </thead>\n",
       "  <tbody>\n",
       "    <tr>\n",
       "      <th>MST1R</th>\n",
       "      <td>3</td>\n",
       "    </tr>\n",
       "    <tr>\n",
       "      <th>YES1</th>\n",
       "      <td>3</td>\n",
       "    </tr>\n",
       "    <tr>\n",
       "      <th>TYRO3</th>\n",
       "      <td>3</td>\n",
       "    </tr>\n",
       "    <tr>\n",
       "      <th>FGR</th>\n",
       "      <td>3</td>\n",
       "    </tr>\n",
       "    <tr>\n",
       "      <th>SRC</th>\n",
       "      <td>3</td>\n",
       "    </tr>\n",
       "  </tbody>\n",
       "</table>\n",
       "</div>"
      ],
      "text/plain": [
       "       cluster\n",
       "names         \n",
       "MST1R        3\n",
       "YES1         3\n",
       "TYRO3        3\n",
       "FGR          3\n",
       "SRC          3"
      ]
     },
     "metadata": {},
     "output_type": "display_data"
    },
    {
     "data": {
      "text/html": [
       "<div>\n",
       "<style scoped>\n",
       "    .dataframe tbody tr th:only-of-type {\n",
       "        vertical-align: middle;\n",
       "    }\n",
       "\n",
       "    .dataframe tbody tr th {\n",
       "        vertical-align: top;\n",
       "    }\n",
       "\n",
       "    .dataframe thead th {\n",
       "        text-align: right;\n",
       "    }\n",
       "</style>\n",
       "<table border=\"1\" class=\"dataframe\">\n",
       "  <thead>\n",
       "    <tr style=\"text-align: right;\">\n",
       "      <th></th>\n",
       "      <th>cluster</th>\n",
       "    </tr>\n",
       "    <tr>\n",
       "      <th>names</th>\n",
       "      <th></th>\n",
       "    </tr>\n",
       "  </thead>\n",
       "  <tbody>\n",
       "    <tr>\n",
       "      <th>MST1R</th>\n",
       "      <td>11</td>\n",
       "    </tr>\n",
       "    <tr>\n",
       "      <th>YES1</th>\n",
       "      <td>11</td>\n",
       "    </tr>\n",
       "    <tr>\n",
       "      <th>TYRO3</th>\n",
       "      <td>11</td>\n",
       "    </tr>\n",
       "    <tr>\n",
       "      <th>FGR</th>\n",
       "      <td>11</td>\n",
       "    </tr>\n",
       "    <tr>\n",
       "      <th>SRC</th>\n",
       "      <td>11</td>\n",
       "    </tr>\n",
       "  </tbody>\n",
       "</table>\n",
       "</div>"
      ],
      "text/plain": [
       "       cluster\n",
       "names         \n",
       "MST1R       11\n",
       "YES1        11\n",
       "TYRO3       11\n",
       "FGR         11\n",
       "SRC         11"
      ]
     },
     "metadata": {},
     "output_type": "display_data"
    }
   ],
   "source": [
    "cluster_dir = '../../../results/networkClusters/'\n",
    "# cluster_dir = '../../../results/sensitivityNetworkClusters/'\n",
    "\n",
    "louvain_clusters =pd.read_csv(cluster_dir+'louvain_clusters.txt', sep ='\\t').set_index('names')\n",
    "# louvain_clusters =pd.read_csv(cluster_dir+'fgr_mapk11_clusts.txt', sep ='\\t').set_index('names')\n",
    "louvain_clusters.index = pd.Series(louvain_clusters.index).apply(lambda x: hgnc_mapper[x])\n",
    "display(louvain_clusters.head(5))\n",
    "\n",
    "louvain_small_clusters =pd.read_csv(cluster_dir+'louvain_small_clusters.txt', sep ='\\t').set_index('names')\n",
    "# louvain_small_clusters =pd.read_csv(cluster_dir+'fgr_mapk11_small_clusts.txt', sep ='\\t').set_index('names')\n",
    "louvain_small_clusters.index = pd.Series(louvain_small_clusters.index).apply(lambda x: hgnc_mapper[x])\n",
    "display(louvain_small_clusters.head(5))"
   ]
  },
  {
   "cell_type": "code",
   "execution_count": 5,
   "metadata": {},
   "outputs": [
    {
     "data": {
      "text/plain": [
       "<matplotlib.axes._subplots.AxesSubplot at 0x10bf0a780>"
      ]
     },
     "execution_count": 5,
     "metadata": {},
     "output_type": "execute_result"
    },
    {
     "data": {
      "image/png": "[encoded data removed]",
      "text/plain": [
       "<Figure size 864x432 with 2 Axes>"
      ]
     },
     "metadata": {
      "needs_background": "light"
     },
     "output_type": "display_data"
    }
   ],
   "source": [
    "import seaborn as sns\n",
    "from sklearn.metrics.cluster import contingency_matrix\n",
    "\n",
    "cont_mat = pd.DataFrame(contingency_matrix(louvain_clusters, louvain_small_clusters))\n",
    "#print(cont_mat.sum(axis=1))\n",
    "cont_mat = cont_mat.divide(other = cont_mat.sum(axis=0),axis = 1)\n",
    "\n",
    "fig, ax = plt.subplots(figsize=(12,6))\n",
    "\n",
    "ann = np.copy(cont_mat)\n",
    "sns.heatmap(cont_mat, ax=ax, cmap='viridis')"
   ]
  },
  {
   "cell_type": "code",
   "execution_count": 6,
   "metadata": {},
   "outputs": [],
   "source": [
    "parent_mapper = dict(zip(map(lambda x: 'subcluster_'+str(x), louvain_small_clusters['cluster']), map(lambda x: 'supercluster_'+str(x), louvain_clusters['cluster'])))\n",
    "parent_mapper.update({x:x for x in set(map(lambda x: 'subcluster_'+str(x), list(louvain_small_clusters['cluster'].unique())))-set(parent_mapper.keys())})"
   ]
  },
  {
   "cell_type": "code",
   "execution_count": 7,
   "metadata": {
    "scrolled": true
   },
   "outputs": [
    {
     "data": {
      "text/plain": [
       "{'subcluster_11': 'supercluster_3',\n",
       " 'subcluster_2': 'supercluster_2',\n",
       " 'subcluster_1': 'supercluster_4',\n",
       " 'subcluster_3': 'supercluster_7',\n",
       " 'subcluster_14': 'supercluster_6',\n",
       " 'subcluster_13': 'supercluster_5',\n",
       " 'subcluster_15': 'supercluster_5',\n",
       " 'subcluster_6': 'supercluster_6',\n",
       " 'subcluster_5': 'supercluster_8',\n",
       " 'subcluster_8': 'supercluster_1',\n",
       " 'subcluster_16': 'supercluster_4',\n",
       " 'subcluster_9': 'supercluster_2',\n",
       " 'subcluster_18': 'supercluster_6',\n",
       " 'subcluster_7': 'supercluster_1',\n",
       " 'subcluster_17': 'supercluster_6',\n",
       " 'subcluster_4': 'supercluster_6',\n",
       " 'subcluster_12': 'supercluster_8',\n",
       " 'subcluster_20': 'supercluster_8',\n",
       " 'subcluster_23': 'supercluster_6',\n",
       " 'subcluster_10': 'supercluster_6',\n",
       " 'subcluster_24': 'supercluster_2',\n",
       " 'subcluster_21': 'supercluster_1',\n",
       " 'subcluster_19': 'supercluster_4',\n",
       " 'subcluster_26': 'supercluster_9',\n",
       " 'subcluster_22': 'supercluster_6',\n",
       " 'subcluster_25': 'supercluster_6'}"
      ]
     },
     "execution_count": 7,
     "metadata": {},
     "output_type": "execute_result"
    }
   ],
   "source": [
    "parent_mapper"
   ]
  },
  {
   "cell_type": "code",
   "execution_count": 8,
   "metadata": {},
   "outputs": [
    {
     "data": {
      "text/html": [
       "<div>\n",
       "<style scoped>\n",
       "    .dataframe tbody tr th:only-of-type {\n",
       "        vertical-align: middle;\n",
       "    }\n",
       "\n",
       "    .dataframe tbody tr th {\n",
       "        vertical-align: top;\n",
       "    }\n",
       "\n",
       "    .dataframe thead th {\n",
       "        text-align: right;\n",
       "    }\n",
       "</style>\n",
       "<table border=\"1\" class=\"dataframe\">\n",
       "  <thead>\n",
       "    <tr style=\"text-align: right;\">\n",
       "      <th></th>\n",
       "      <th>0</th>\n",
       "      <th>1</th>\n",
       "      <th>2</th>\n",
       "    </tr>\n",
       "  </thead>\n",
       "  <tbody>\n",
       "    <tr>\n",
       "      <th>0</th>\n",
       "      <td>MST1R</td>\n",
       "      <td>YES1</td>\n",
       "      <td>1.224745</td>\n",
       "    </tr>\n",
       "    <tr>\n",
       "      <th>1</th>\n",
       "      <td>TYRO3</td>\n",
       "      <td>YES1</td>\n",
       "      <td>1.224745</td>\n",
       "    </tr>\n",
       "    <tr>\n",
       "      <th>2</th>\n",
       "      <td>FGR</td>\n",
       "      <td>SRC</td>\n",
       "      <td>2.345208</td>\n",
       "    </tr>\n",
       "    <tr>\n",
       "      <th>3</th>\n",
       "      <td>ATR</td>\n",
       "      <td>FLT1</td>\n",
       "      <td>1.224745</td>\n",
       "    </tr>\n",
       "    <tr>\n",
       "      <th>4</th>\n",
       "      <td>LYN</td>\n",
       "      <td>PRKCD</td>\n",
       "      <td>3.082207</td>\n",
       "    </tr>\n",
       "  </tbody>\n",
       "</table>\n",
       "</div>"
      ],
      "text/plain": [
       "       0      1         2\n",
       "0  MST1R   YES1  1.224745\n",
       "1  TYRO3   YES1  1.224745\n",
       "2    FGR    SRC  2.345208\n",
       "3    ATR   FLT1  1.224745\n",
       "4    LYN  PRKCD  3.082207"
      ]
     },
     "execution_count": 8,
     "metadata": {},
     "output_type": "execute_result"
    }
   ],
   "source": [
    "edges_df = pd.read_csv('../../../data/interactionNetworks/kin_anscombe_weighted.csv', sep='\\t', header=None)\n",
    "\n",
    "total_edges = pd.concat([edges_df[0], edges_df[1]])\n",
    "\n",
    "edges_df.head()"
   ]
  },
  {
   "cell_type": "code",
   "execution_count": 9,
   "metadata": {},
   "outputs": [
    {
     "data": {
      "text/html": [
       "<div>\n",
       "<style scoped>\n",
       "    .dataframe tbody tr th:only-of-type {\n",
       "        vertical-align: middle;\n",
       "    }\n",
       "\n",
       "    .dataframe tbody tr th {\n",
       "        vertical-align: top;\n",
       "    }\n",
       "\n",
       "    .dataframe thead th {\n",
       "        text-align: right;\n",
       "    }\n",
       "</style>\n",
       "<table border=\"1\" class=\"dataframe\">\n",
       "  <thead>\n",
       "    <tr style=\"text-align: right;\">\n",
       "      <th></th>\n",
       "      <th>Target</th>\n",
       "      <th>Drug</th>\n",
       "      <th>At</th>\n",
       "      <th>CATDS</th>\n",
       "    </tr>\n",
       "  </thead>\n",
       "  <tbody>\n",
       "    <tr>\n",
       "      <th>0</th>\n",
       "      <td>AURKA</td>\n",
       "      <td>MK-5108</td>\n",
       "      <td>0.120921</td>\n",
       "      <td>0.657165</td>\n",
       "    </tr>\n",
       "    <tr>\n",
       "      <th>1</th>\n",
       "      <td>CHEK1</td>\n",
       "      <td>PF-477736</td>\n",
       "      <td>0.243725</td>\n",
       "      <td>0.733257</td>\n",
       "    </tr>\n",
       "    <tr>\n",
       "      <th>2</th>\n",
       "      <td>FLT3</td>\n",
       "      <td>Dovitinib</td>\n",
       "      <td>0.265240</td>\n",
       "      <td>0.860803</td>\n",
       "    </tr>\n",
       "    <tr>\n",
       "      <th>4</th>\n",
       "      <td>MET</td>\n",
       "      <td>Capmatinib</td>\n",
       "      <td>0.337514</td>\n",
       "      <td>1.000000</td>\n",
       "    </tr>\n",
       "    <tr>\n",
       "      <th>5</th>\n",
       "      <td>MAPKAPK2</td>\n",
       "      <td>VX-702</td>\n",
       "      <td>0.342705</td>\n",
       "      <td>0.743594</td>\n",
       "    </tr>\n",
       "  </tbody>\n",
       "</table>\n",
       "</div>"
      ],
      "text/plain": [
       "     Target        Drug        At     CATDS\n",
       "0     AURKA     MK-5108  0.120921  0.657165\n",
       "1     CHEK1   PF-477736  0.243725  0.733257\n",
       "2      FLT3   Dovitinib  0.265240  0.860803\n",
       "4       MET  Capmatinib  0.337514  1.000000\n",
       "5  MAPKAPK2      VX-702  0.342705  0.743594"
      ]
     },
     "execution_count": 9,
     "metadata": {},
     "output_type": "execute_result"
    }
   ],
   "source": [
    "drug_data = pd.read_excel('../../../data/KlaegerScience2017/Klaeger_Science_2017 Supplementary Table 6 Selectivities.xlsx', sheet_name='CATDS target')\n",
    "\n",
    "double_drug_targets = drug_data[drug_data['Target'].apply(lambda x: ';' in x)]\n",
    "#double_drug_targets.shape\n",
    "\n",
    "first_genes = double_drug_targets['Target'].apply(lambda x: x.split(';')[0])\n",
    "second_genes = double_drug_targets['Target'].apply(lambda x: x.split(';')[1])\n",
    "\n",
    "repaired_double_targets = double_drug_targets.drop('Target', axis=1).assign(**{'Target':first_genes})\n",
    "repaired_double_targets = repaired_double_targets.append(double_drug_targets.drop('Target', axis=1).assign(**{'Target':second_genes})) \n",
    "#repaired_double_targets = repaired_double_targets[cols_to_keep]\n",
    "\n",
    "drug_data = drug_data.drop(double_drug_targets.index).append(repaired_double_targets, sort=False)\n",
    "\n",
    "# filter to hgnc\n",
    "drug_data = drug_data[drug_data.Target.isin(hgnc_mapper.keys())]\n",
    "\n",
    "# convert to hgnc\n",
    "drug_data.Target = drug_data.Target.apply(lambda x: hgnc_mapper[x])\n",
    "\n",
    "# sort columns\n",
    "drug_data = drug_data[['Target', 'Drug', 'At', 'CATDS']]\n",
    "drug_data.head()"
   ]
  },
  {
   "cell_type": "code",
   "execution_count": 10,
   "metadata": {},
   "outputs": [],
   "source": [
    "# get a list of the kinases\n",
    "kin_list = list(louvain_small_clusters.index)\n",
    "\n",
    "# define the sizes\n",
    "sizes = {n:int(np.log(np.sum(drug_data.Target==n)+1)+1) for n in kin_list}\n",
    "#sizes = {n:int(10) for n in louvain_small_clusters['names'].unique()}\n",
    "\n",
    "# handy to have a kin_arr\n",
    "kin_arr = np.array(kin_list)"
   ]
  },
  {
   "cell_type": "code",
   "execution_count": 11,
   "metadata": {},
   "outputs": [
    {
     "name": "stdout",
     "output_type": "stream",
     "text": [
      "{'MST1R': 3, 'YES1': 4, 'TYRO3': 1, 'FGR': 2, 'SRC': 4, 'ATR': 1, 'FLT1': 1, 'LYN': 4, 'PRKCD': 4, 'SYK': 3, 'MAP4K1': 4, 'PDGFRB': 4, 'PIK3CA': 1, 'PHKG1': 1, 'PHKG2': 3, 'PDGFRA': 1, 'EIF2AK2': 1, 'ARAF': 2, 'MAP2K1': 4, 'RPS6KA4': 3, 'KSR2': 1, 'ABL1': 5, 'ZAP70': 1, 'PTK2B': 4, 'MAP2K2': 4, 'MAPK1': 2, 'RPS6KA1': 3, 'DYRK1B': 1, 'PRKCA': 4, 'MYLK': 2, 'BMPR2': 3, 'PRKCB': 3, 'MAPK6': 1, 'GSK3B': 4, 'PDPK1': 4, 'HK2': 1, 'PRKCE': 2, 'PIK3CB': 1, 'MARK4': 3, 'PRKCG': 1, 'IRAK1': 3, 'PRKCZ': 1, 'MAP2K5': 4, 'DAPK3': 1, 'PKM': 1, 'MARK2': 4, 'BTK': 4, 'PRKCQ': 3, 'OBSCN': 1, 'TTN': 1, 'MOS': 1, 'DDR2': 4, 'MATK': 1, 'TXK': 1, 'EPHB2': 3, 'PRKACA': 3, 'GUCY2C': 1, 'MAPK15': 2, 'AMHR2': 1, 'TGFBR1': 4, 'ACVRL1': 1, 'BMPR1B': 3, 'MAP3K20': 4, 'TGFBR2': 3, 'CHUK': 1, 'MAP3K8': 1, 'MAP2K4': 1, 'KDR': 1, 'NTRK1': 4, 'NTRK3': 1, 'MAPK3': 2, 'BRSK1': 1, 'WEE1': 3, 'RPS6KA3': 3, 'STK11': 2, 'PRKCI': 2, 'MAP3K11': 4, 'MAP2K7': 1, 'IKBKB': 1, 'PTK2': 4, 'MAP3K10': 1, 'MAP2K6': 3, 'MAPK14': 3, 'MAP2K3': 2, 'MAPKAPK5': 2, 'MAP3K12': 1, 'MARK3': 4, 'STK39': 1, 'RYK': 1, 'EPHB3': 3, 'PLK4': 4, 'TEC': 3, 'TRIO': 1, 'BMPR1A': 2, 'MAPK8': 4, 'PRKDC': 1, 'ATM': 1, 'CAMK2G': 3, 'PKN1': 4, 'MAP3K7': 1, 'MAP3K2': 3, 'MAPK12': 1, 'MAPK13': 1, 'CDC42BPA': 2, 'LIMK1': 4, 'LATS1': 4, 'MAPK9': 4, 'MAPK10': 3, 'RPS6KA2': 1, 'TRIM24': 1, 'TRIM28': 1, 'MKNK1': 1, 'LIMK2': 3, 'RPS6KA5': 3, 'RPS6KB1': 2, 'STRADA': 1, 'ILK': 1, 'BUB1B': 1, 'MAP3K4': 3, 'MAP3K3': 3, 'MAP3K5': 3, 'ERN1': 3, 'MAPK7': 2, 'SGK1': 1, 'PKN2': 3, 'OXSR1': 1, 'PAK1': 1, 'MAP3K14': 1, 'MAPK11': 3, 'NEK6': 1, 'CAMKK1': 1, 'PDK2': 1, 'CHEK1': 3, 'TLK1': 1, 'EIF2AK3': 1, 'RIPK1': 1, 'CHEK2': 1, 'SGK2': 1, 'SGK3': 1, 'RPS6KB2': 1, 'PRKCH': 2, 'PRKD1': 1, 'CASK': 1, 'CSNK2A2': 4, 'MAST2': 1, 'STK36': 1, 'CDK9': 4, 'TLK2': 1, 'BRSK2': 1, 'AKT1': 2, 'GRK2': 2, 'STRADB': 1, 'PLK1': 2, 'ACVR1': 4, 'NEK8': 1, 'NUAK2': 2, 'AURKB': 4, 'CDK4': 3, 'STK35': 1, 'CDK6': 3, 'CDKL1': 1, 'CSNK1A1': 3, 'DAPK2': 1, 'EIF2AK4': 1, 'IGF1R': 3, 'ITK': 1, 'MYO3A': 1, 'TSSK4': 1, 'RAF1': 1, 'STK3': 4, 'STK4': 4, 'LATS2': 1, 'EGFR': 4, 'FGFR1': 4, 'FLT4': 1, 'BRD2': 1, 'NME1': 1, 'NME4': 1, 'CLK2': 3, 'CLK3': 2, 'KALRN': 1, 'EPHA4': 4, 'FGFR2': 1, 'FGFR3': 1, 'FYN': 4, 'MET': 4, 'ERBB4': 1, 'EPHA2': 4, 'KIT': 1, 'HCK': 4, 'INSR': 3, 'JAK2': 3, 'JAK1': 3, 'LCK': 4, 'WNK1': 1, 'PIK3CG': 1, 'TYK2': 3, 'PAK4': 4, 'PAK2': 1, 'FES': 3, 'JAK3': 1, 'RIPK2': 4, 'PIP5K1B': 1, 'PIP4K2B': 1, 'PIP5K1A': 1, 'PIP5K1C': 1, 'PIP4K2A': 2, 'PIP4K2C': 3, 'ROCK1': 3, 'TBK1': 4, 'ACVR2A': 1, 'EEF2K': 1, 'DAPK1': 1, 'SGK196': 1, 'CDC7': 1, 'CDK5': 4, 'ERBB3': 1, 'CAMK2B': 1, 'CAMK2D': 3, 'WNK4': 1, 'CSK': 3, 'KSR1': 1, 'PIK3C2A': 1, 'ERBB2': 1, 'NEK11': 1, 'NEK2': 1, 'PDK1': 1, 'CAMK2A': 1, 'CSF1R': 1, 'EPHA8': 1, 'ABL2': 4, 'MERTK': 1, 'TNK2': 4, 'GSK3A': 4, 'FER': 4, 'HIPK3': 1, 'AKT2': 2, 'PAK3': 1, 'PRKAA1': 4, 'DMPK': 1, 'PBK': 1, 'IKBKE': 4, 'ROCK2': 3, 'LRRK1': 1, 'STK24': 2, 'STK25': 1, 'PASK': 1, 'STK16': 4, 'TTBK1': 1, 'TTBK2': 1, 'NEK7': 1, 'SNRK': 1, 'CSNK2A1': 4, 'LMTK2': 1, 'CDK2': 4, 'MAP3K1': 4, 'PIK3CD': 1, 'PAK6': 2, 'PI4KA': 1, 'ACVR1B': 3, 'EPHA3': 1, 'BRD4': 1, 'TAOK3': 3, 'CDKL5': 2, 'PFKL': 1, 'MYLK2': 1, 'TRIB3': 1, 'AATK': 1, 'EPHB4': 4, 'BMX': 1, 'PIM1': 3, 'KHK': 1, 'PDXK': 2, 'MELK': 4, 'SLK': 4, 'ROR1': 1, 'VRK1': 1, 'VRK3': 1, 'PI4K2B': 1, 'PGK1': 1, 'STK26': 3, 'BRAF': 3, 'PRKD2': 4, 'BLK': 1, 'CSNK1D': 3, 'CSNK1E': 3, 'CDK7': 4, 'PTK6': 4, 'SIK3': 4, 'EPHB1': 1, 'ALK': 1, 'GAK': 5, 'EPHA1': 3, 'CDC42BPB': 3, 'TAOK1': 3, 'CAMKK2': 4, 'MAP4K5': 4, 'MAST1': 1, 'PRKAA2': 1, 'ULK1': 3, 'BUB1': 3, 'HIPK2': 1, 'DYRK1A': 4, 'SRPK1': 1, 'SRPK2': 1, 'NUAK1': 1, 'TESK1': 2, 'RIOK3': 1, 'IRAK3': 4, 'SIK2': 4, 'CDK1': 3, 'PRKG1': 2, 'SIK1': 1, 'MTOR': 1, 'STK38': 1, 'TTK': 1, 'NRBP1': 1, 'RPS6KA6': 4, 'PIM2': 1, 'MOK': 1, 'AURKA': 4, 'DYRK2': 1, 'CDK13': 3, 'CKM': 1, 'CDK20': 1, 'MAK': 1, 'CDK19': 1, 'CDK8': 1, 'IRAK4': 4, 'MLKL': 1, 'RIPK3': 4, 'PRKACB': 3, 'LRRK2': 1, 'RIOK1': 1, 'PINK1': 1, 'HK1': 1, 'ICK': 3, 'GRK5': 1, 'BMP2K': 5, 'MAP4K4': 4, 'HASPIN': 1, 'TEK': 1, 'MAPK4': 1, 'PFKP': 1, 'NME2': 1, 'HIPK4': 1, 'DYRK4': 1, 'FRK': 4, 'DCLK3': 1, 'PRKACG': 2, 'CDKL3': 1, 'NLK': 2, 'MKNK2': 1, 'AURKC': 1, 'CDK16': 4, 'CDK3': 3, 'SRPK3': 1, 'GRK3': 1, 'CLK1': 4, 'FGFR4': 1, 'PRKG2': 1, 'BRD3': 1, 'RIOK2': 1, 'CAMK1': 1, 'TP53RK': 3, 'PIK3C3': 1, 'CDK12': 3, 'AKT3': 2, 'PKMYT1': 2, 'CAMK1G': 1, 'PFKM': 1, 'MAP4K2': 4, 'RET': 5, 'TAOK2': 3, 'HIPK1': 1, 'DYRK3': 1, 'NTRK2': 1, 'LTK': 1, 'STK40': 1, 'STK33': 1, 'NEK1': 2, 'TSSK2': 1, 'EPHA5': 3, 'DCLK2': 1, 'ROS1': 1, 'WNK2': 1, 'CDK15': 1, 'NME7': 1, 'FN3KRP': 1, 'IRAK2': 1, 'PAK5': 1, 'PRKX': 3, 'EPHA7': 3, 'ACVR1C': 1, 'MAP3K13': 1, 'PCK2': 1, 'ACVR2B': 2, 'EPHB6': 3, 'MAP3K6': 2, 'EPHA6': 1, 'ULK2': 1, 'MAP4K3': 4, 'FLT3': 5, 'NEK10': 1, 'MYLK3': 3, 'AXL': 1, 'CDK14': 1, 'EIF2AK1': 3, 'CSNK1G1': 2, 'CSNK1G2': 2, 'CDK17': 3, 'CDK18': 1, 'NEK3': 3, 'CAMK1D': 1, 'EPHA10': 1, 'PEAK1': 1, 'DSTYK': 1, 'PDK3': 1, 'VRK2': 1, 'SCYL1': 1, 'PRKY': 3, 'MAST3': 1, 'IP6K3': 1, 'MINK1': 2, 'MAP3K21': 1, 'TNK1': 4, 'PRPF4B': 1, 'PRKD3': 4, 'PIKFYVE': 1, 'STK17B': 1, 'TRIB1': 1, 'IP6K1': 1, 'PPIP5K2': 1, 'SCYL2': 1, 'PTK7': 1, 'STK31': 1, 'ROR2': 1, 'PIK3R4': 1, 'RIPK4': 1, 'NEK5': 1, 'CAMKV': 1, 'PDIK1L': 1, 'ADCK2': 1, 'SMG1': 1, 'CSNK1G3': 3, 'TNIK': 3, 'IP6K2': 1, 'PGK2': 1, 'CDKL4': 1, 'WEE2': 1, 'MUSK': 1, 'CAMK4': 3, 'MAPKAPK2': 3, 'DCK': 2, 'TEX14': 1, 'GRK6': 1, 'MAST4': 1, 'STK10': 5, 'TSSK3': 1, 'STK38L': 1, 'TRIB2': 1, 'TIE1': 1, 'MAPKAPK3': 2, 'CDK11A': 1, 'CDK11B': 1, 'PLK3': 1, 'TSSK1B': 1, 'CHKA': 1, 'CHKB': 1, 'NEK9': 3, 'MASTL': 1, 'NME3': 1, 'INSRR': 1, 'PLK2': 1, 'AK2': 1, 'AAK1': 4, 'TESK2': 1, 'DCLK1': 1, 'TRPM7': 1, 'CIT': 3, 'AGK': 1, 'GALK1': 1, 'GUCY2D': 1, 'MARK1': 1, 'PAN3': 1, 'STYK1': 1, 'PRAG1': 1, 'COQ8A': 2, 'UHMK1': 1, 'TRPM6': 1, 'ADK': 2, 'AK1': 1, 'RNASEL': 1, 'PPIP5K1': 1, 'IPMK': 1, 'PKN3': 1, 'NRK': 1, 'MAP3K9': 1, 'SRMS': 1, 'DDR1': 4, 'FASTKD5': 1, 'NPR1': 1, 'CDC42BPG': 1, 'CLK4': 2, 'COQ8B': 1, 'CDK10': 1, 'NRBP2': 1, 'ADCK1': 3, 'SBK1': 1, 'BCKDK': 1, 'PDK4': 1, 'CKMT2': 1, 'CDKL2': 1, 'GRK1': 1, 'GRK7': 1, 'WNK3': 1, 'HUNK': 1}\n"
     ]
    }
   ],
   "source": [
    "print(sizes)"
   ]
  },
  {
   "cell_type": "code",
   "execution_count": 12,
   "metadata": {},
   "outputs": [],
   "source": [
    "cluster_mapper = louvain_small_clusters.to_dict()['cluster']\n",
    "kin_parents = np.array([parent_mapper['subcluster_'+str(cluster_mapper[k])] for k in kin_list])\n",
    "kin_children = np.array(['subcluster_'+str(cluster_mapper[k]) for k in kin_list if 'subcluster_'+str(cluster_mapper[k])])"
   ]
  },
  {
   "cell_type": "code",
   "execution_count": 13,
   "metadata": {},
   "outputs": [],
   "source": [
    "parents = {par:set(kin_children[kin_parents==par].tolist()) for par in np.unique(kin_parents).tolist()}"
   ]
  },
  {
   "cell_type": "code",
   "execution_count": 14,
   "metadata": {},
   "outputs": [
    {
     "name": "stdout",
     "output_type": "stream",
     "text": [
      "[]\n",
      "{'supercluster_1': {'subcluster_8': ['MAPK6', 'CDC42BPA', 'LIMK1', 'LIMK2', 'PAK1', 'KALRN', 'PAK4', 'PAK2', 'HIPK3', 'PAK3', 'PAK6', 'MYLK2', 'MAPK4', 'PAK5', 'MUSK', 'TIE1', 'DDR1', 'BCKDK', 'HUNK'], 'subcluster_7': ['EPHB2', 'RYK', 'EPHB3', 'EPHA4', 'EPHA2', 'EPHA8', 'EPHA3', 'EPHB4', 'EPHB1', 'EPHA1', 'EPHA5', 'EPHA7', 'EPHB6', 'EPHA6', 'EPHA10', 'PTK7', 'SMG1'], 'subcluster_21': ['STK40', 'STK17B', 'TRIB1', 'TRIB2']}, 'supercluster_2': {'subcluster_24': ['MELK', 'MAST3', 'MAP3K21', 'TESK2', 'DCLK1'], 'subcluster_2': ['ATR', 'ABL1', 'DAPK3', 'OBSCN', 'TTN', 'DDR2', 'NTRK1', 'NTRK3', 'WEE1', 'PRKDC', 'ATM', 'LATS1', 'TRIM28', 'BUB1B', 'NEK6', 'CHEK1', 'TLK1', 'CHEK2', 'CASK', 'CSNK2A2', 'MAST2', 'STK36', 'CDK9', 'TLK2', 'PLK1', 'NEK8', 'AURKB', 'CDK4', 'CDK6', 'STK3', 'STK4', 'LATS2', 'BRD2', 'CLK2', 'CLK3', 'CDC7', 'CDK5', 'PBK', 'LRRK1', 'NEK7', 'CSNK2A1', 'LMTK2', 'CDK2', 'BRD4', 'PDXK', 'SLK', 'VRK1', 'VRK3', 'CDK7', 'GAK', 'TAOK1', 'MAST1', 'BUB1', 'SRPK1', 'SRPK2', 'NUAK1', 'RIOK3', 'CDK1', 'STK38', 'TTK', 'AURKA', 'DYRK2', 'CDK13', 'CDK20', 'MAK', 'CDK19', 'CDK8', 'LRRK2', 'RIOK1', 'ICK', 'BMP2K', 'HASPIN', 'DCLK3', 'CDKL3', 'AURKC', 'CDK16', 'CDK3', 'SRPK3', 'CLK1', 'BRD3', 'RIOK2', 'TP53RK', 'CDK12', 'NEK1', 'CDK15', 'CDK14', 'EIF2AK1', 'CDK17', 'CDK18', 'NEK3', 'PEAK1', 'DSTYK', 'SCYL1', 'TNK1', 'PRPF4B', 'SCYL2', 'STK31', 'RIPK4', 'NEK5', 'CAMKV', 'WEE2', 'DCK', 'TEX14', 'STK10', 'STK38L', 'CDK11B', 'PLK3', 'NEK9', 'MASTL', 'PLK2', 'AK2', 'AAK1', 'CIT', 'MARK1', 'PAN3', 'COQ8A', 'ADK', 'AK1', 'FASTKD5', 'CLK4', 'COQ8B', 'SBK1', 'CDKL2'], 'subcluster_9': ['MARK4', 'PLK4', 'CSNK1A1', 'DAPK2', 'EIF2AK4', 'NEK11', 'NEK2', 'TTBK1', 'TTBK2', 'CSNK1D', 'CSNK1E', 'TSSK2', 'NME7', 'CDK11A']}, 'supercluster_3': {'subcluster_11': ['MST1R', 'YES1', 'TYRO3', 'FGR', 'SRC', 'FLT1', 'LYN', 'SYK', 'PDGFRB', 'PIK3CA', 'PDGFRA', 'ZAP70', 'PTK2B', 'PIK3CB', 'BTK', 'MATK', 'TXK', 'MAPK15', 'KDR', 'PTK2', 'TEC', 'TRIO', 'ITK', 'EGFR', 'FLT4', 'FYN', 'MET', 'ERBB4', 'KIT', 'HCK', 'JAK2', 'JAK1', 'LCK', 'PIK3CG', 'TYK2', 'FES', 'JAK3', 'PIP5K1B', 'PIP4K2B', 'PIP5K1A', 'PIP5K1C', 'PIP4K2A', 'PIP4K2C', 'ROCK1', 'ERBB3', 'CSK', 'PIK3C2A', 'ERBB2', 'CSF1R', 'ABL2', 'MERTK', 'TNK2', 'FER', 'ROCK2', 'PIK3CD', 'PI4KA', 'AATK', 'BMX', 'PIM1', 'ROR1', 'PI4K2B', 'BLK', 'PTK6', 'ALK', 'TEK', 'NTRK2', 'LTK', 'FN3KRP', 'FLT3', 'AXL', 'PIKFYVE', 'PDIK1L', 'GUCY2D', 'PRAG1', 'SRMS']}, 'supercluster_4': {'subcluster_19': ['CSNK1G1', 'CSNK1G2', 'CSNK1G3'], 'subcluster_1': ['PRKCD', 'PRKCA', 'PRKCB', 'GSK3B', 'PDPK1', 'PRKCE', 'PRKCG', 'PRKCZ', 'MARK2', 'PRKCQ', 'GUCY2C', 'CHUK', 'PRKCI', 'IKBKB', 'RPS6KB1', 'ILK', 'SGK1', 'MAP3K14', 'PDK2', 'EIF2AK3', 'SGK3', 'RPS6KB2', 'PRKCH', 'PRKD1', 'AKT1', 'GRK2', 'INSR', 'TBK1', 'PDK1', 'GSK3A', 'AKT2', 'IKBKE', 'TRIB3', 'PRKD2', 'MTOR', 'NRBP1', 'CKM', 'GRK5', 'GRK3', 'AKT3', 'PDK3', 'PRKD3', 'ADCK2', 'GRK6', 'TSSK3', 'INSRR', 'STYK1', 'CDC42BPG', 'CDK10', 'NRBP2', 'PDK4', 'CKMT2'], 'subcluster_16': ['HK2', 'KHK', 'HK1']}, 'supercluster_5': {'subcluster_13': ['ARAF', 'MAP2K1', 'KSR2', 'MAP2K2', 'MAPK1', 'MOS', 'MAPK3', 'MARK3', 'TRIM24', 'MKNK1', 'SGK2', 'IGF1R', 'RAF1', 'FGFR1', 'FGFR2', 'FGFR3', 'DAPK1', 'KSR1', 'DMPK', 'PGK1', 'BRAF', 'PIM2', 'MOK', 'HIPK4', 'FRK', 'FGFR4', 'ROS1', 'PRKX', 'PGK2', 'MAST4', 'AGK'], 'subcluster_15': ['RPS6KA4', 'RPS6KA1', 'RPS6KA3', 'RPS6KA2', 'RPS6KA5', 'MAPK7', 'RPS6KA6', 'DYRK4', 'PKMYT1']}, 'supercluster_6': {'subcluster_23': ['NME1', 'NME4', 'NME2', 'NME3'], 'subcluster_17': ['PRKACA', 'CAMKK1', 'DYRK1A', 'SIK2', 'PRKG1', 'SIK1', 'PRKACB', 'PRKACG', 'CAMK1', 'CAMK1G', 'RET', 'CAMK1D', 'NPR1', 'GRK1', 'GRK7'], 'subcluster_4': ['BRSK1', 'STK11', 'STRADA', 'BRSK2', 'STRADB', 'STK24', 'STK25', 'STK26', 'SIK3'], 'subcluster_10': ['PASK', 'STK16', 'SNRK'], 'subcluster_22': ['CHKA', 'CHKB'], 'subcluster_14': ['PHKG1', 'PHKG2', 'EEF2K', 'PRKAA1', 'CAMKK2', 'PRKAA2', 'ULK1', 'PIK3C3', 'PCK2', 'ULK2', 'PIK3R4', 'GALK1'], 'subcluster_6': ['MYLK', 'CAMK2G', 'CAMK2B', 'CAMK2D', 'CAMK2A', 'CDKL5', 'PRKG2', 'CAMK4'], 'subcluster_18': ['PKM', 'PFKL', 'TESK1', 'PFKP', 'PFKM', 'HIPK1', 'DYRK3', 'STK33', 'DCLK2'], 'subcluster_25': ['TRPM7', 'TRPM6']}, 'supercluster_7': {'subcluster_3': ['MAP4K1', 'EIF2AK2', 'DYRK1B', 'IRAK1', 'MAP2K5', 'MAP3K20', 'MAP3K8', 'MAP2K4', 'MAP3K11', 'MAP2K7', 'MAP3K10', 'MAP2K6', 'MAPK14', 'MAP2K3', 'MAPKAPK5', 'MAP3K12', 'MAPK8', 'PKN1', 'MAP3K7', 'MAP3K2', 'MAPK12', 'MAPK13', 'MAPK9', 'MAPK10', 'MAP3K4', 'MAP3K3', 'MAP3K5', 'ERN1', 'PKN2', 'MAPK11', 'RIPK1', 'RIPK2', 'MAP3K1', 'TAOK3', 'CDC42BPB', 'MAP4K5', 'HIPK2', 'IRAK3', 'IRAK4', 'MLKL', 'RIPK3', 'PINK1', 'MAP4K4', 'NLK', 'MKNK2', 'MAP4K2', 'TAOK2', 'IRAK2', 'MAP3K13', 'MAP3K6', 'MAP4K3', 'NEK10', 'MYLK3', 'PRKY', 'MINK1', 'ROR2', 'TNIK', 'MAPKAPK2', 'MAPKAPK3', 'PKN3', 'NRK', 'MAP3K9', 'ADCK1']}, 'supercluster_8': {'subcluster_20': ['CDKL1', 'CDKL4'], 'subcluster_12': ['STK39', 'WNK1', 'WNK4', 'WNK2', 'WNK3'], 'subcluster_5': ['BMPR2', 'AMHR2', 'TGFBR1', 'ACVRL1', 'BMPR1B', 'TGFBR2', 'BMPR1A', 'OXSR1', 'ACVR1', 'NUAK2', 'STK35', 'MYO3A', 'TSSK4', 'ACVR2A', 'SGK196', 'ACVR1B', 'ACVR1C', 'ACVR2B', 'VRK2', 'TSSK1B', 'UHMK1']}, 'supercluster_9': {'subcluster_26': ['IP6K3', 'IP6K1', 'PPIP5K2', 'IP6K2', 'RNASEL', 'PPIP5K1', 'IPMK']}}\n"
     ]
    }
   ],
   "source": [
    "# get parents plus children for parents != children\n",
    "parents_plus_children = {x:{z:kin_arr[kin_children==z].tolist() for z in y if(list(y)[0] != x)} for x,y in parents.items()}\n",
    "\n",
    "# identify parents == children\n",
    "missing_parents = [x for x,y in parents_plus_children.items() if len(y)<1]\n",
    "print(missing_parents)\n",
    "\n",
    "# update to add kinases to remove parents == children\n",
    "parents_plus_children = {x:y for x,y in parents_plus_children.items() if x not in missing_parents}\n",
    "\n",
    "# place parents == children into separate dict\n",
    "missing_parents = {x:kin_arr[kin_parents==x].tolist() for x in missing_parents}\n",
    "\n",
    "# display \n",
    "print(parents_plus_children)"
   ]
  },
  {
   "cell_type": "code",
   "execution_count": 15,
   "metadata": {},
   "outputs": [],
   "source": [
    "j = {\"name\":\"viz\",\n",
    "     \"children\": [{\"name\": par}\n",
    "                 for par in parents_plus_children.keys()]}"
   ]
  },
  {
   "cell_type": "markdown",
   "metadata": {},
   "source": [
    "### Understudied"
   ]
  },
  {
   "cell_type": "code",
   "execution_count": 16,
   "metadata": {},
   "outputs": [
    {
     "data": {
      "text/html": [
       "<div>\n",
       "<style scoped>\n",
       "    .dataframe tbody tr th:only-of-type {\n",
       "        vertical-align: middle;\n",
       "    }\n",
       "\n",
       "    .dataframe tbody tr th {\n",
       "        vertical-align: top;\n",
       "    }\n",
       "\n",
       "    .dataframe thead th {\n",
       "        text-align: right;\n",
       "    }\n",
       "</style>\n",
       "<table border=\"1\" class=\"dataframe\">\n",
       "  <thead>\n",
       "    <tr style=\"text-align: right;\">\n",
       "      <th></th>\n",
       "      <th>hgnc_id</th>\n",
       "      <th>symbol</th>\n",
       "      <th>ensembl_gene_id</th>\n",
       "      <th>class</th>\n",
       "      <th>name</th>\n",
       "      <th>uniprot_ids</th>\n",
       "      <th>kinase_com_name</th>\n",
       "    </tr>\n",
       "  </thead>\n",
       "  <tbody>\n",
       "    <tr>\n",
       "      <th>0</th>\n",
       "      <td>HGNC:19038</td>\n",
       "      <td>ADCK1</td>\n",
       "      <td>ENSG00000063761</td>\n",
       "      <td>Dark</td>\n",
       "      <td>aarF domain containing kinase 1</td>\n",
       "      <td>Q86TW2</td>\n",
       "      <td>ADCK1</td>\n",
       "    </tr>\n",
       "    <tr>\n",
       "      <th>1</th>\n",
       "      <td>HGNC:19039</td>\n",
       "      <td>ADCK2</td>\n",
       "      <td>ENSG00000133597</td>\n",
       "      <td>Dark</td>\n",
       "      <td>aarF domain containing kinase 2</td>\n",
       "      <td>Q7Z695</td>\n",
       "      <td>ADCK2</td>\n",
       "    </tr>\n",
       "    <tr>\n",
       "      <th>2</th>\n",
       "      <td>HGNC:21738</td>\n",
       "      <td>ADCK5</td>\n",
       "      <td>ENSG00000173137</td>\n",
       "      <td>Dark</td>\n",
       "      <td>aarF domain containing kinase 5</td>\n",
       "      <td>Q3MIX3</td>\n",
       "      <td>ADCK5</td>\n",
       "    </tr>\n",
       "    <tr>\n",
       "      <th>3</th>\n",
       "      <td>HGNC:20565</td>\n",
       "      <td>ALPK2</td>\n",
       "      <td>ENSG00000198796</td>\n",
       "      <td>Dark</td>\n",
       "      <td>alpha kinase 2</td>\n",
       "      <td>Q86TB3</td>\n",
       "      <td>AlphaK2</td>\n",
       "    </tr>\n",
       "    <tr>\n",
       "      <th>4</th>\n",
       "      <td>HGNC:17574</td>\n",
       "      <td>ALPK3</td>\n",
       "      <td>ENSG00000136383</td>\n",
       "      <td>Dark</td>\n",
       "      <td>alpha kinase 3</td>\n",
       "      <td>Q96L96</td>\n",
       "      <td>AlphaK1</td>\n",
       "    </tr>\n",
       "  </tbody>\n",
       "</table>\n",
       "</div>"
      ],
      "text/plain": [
       "      hgnc_id symbol  ensembl_gene_id class                             name  \\\n",
       "0  HGNC:19038  ADCK1  ENSG00000063761  Dark  aarF domain containing kinase 1   \n",
       "1  HGNC:19039  ADCK2  ENSG00000133597  Dark  aarF domain containing kinase 2   \n",
       "2  HGNC:21738  ADCK5  ENSG00000173137  Dark  aarF domain containing kinase 5   \n",
       "3  HGNC:20565  ALPK2  ENSG00000198796  Dark                   alpha kinase 2   \n",
       "4  HGNC:17574  ALPK3  ENSG00000136383  Dark                   alpha kinase 3   \n",
       "\n",
       "  uniprot_ids kinase_com_name  \n",
       "0      Q86TW2           ADCK1  \n",
       "1      Q7Z695           ADCK2  \n",
       "2      Q3MIX3           ADCK5  \n",
       "3      Q86TB3         AlphaK2  \n",
       "4      Q96L96         AlphaK1  "
      ]
     },
     "execution_count": 16,
     "metadata": {},
     "output_type": "execute_result"
    }
   ],
   "source": [
    "dark_dict = pd.read_csv('../../../data/miscReference/dark_kinases.csv')\n",
    "dark_dict.head()"
   ]
  },
  {
   "cell_type": "code",
   "execution_count": 17,
   "metadata": {},
   "outputs": [
    {
     "name": "stdout",
     "output_type": "stream",
     "text": [
      "548\n"
     ]
    }
   ],
   "source": [
    "dark_dict = dict(zip(dark_dict.symbol.apply(lambda x: hgnc_mapper[x]), ['dark']*len(dark_dict)))\n",
    "dark_dict.update({x:'well' for x in list(set([hgnc_mapper[x] for x in kin_list])-set(dark_dict.keys()))})\n",
    "print(len(dark_dict))\n",
    "#dark_dict"
   ]
  },
  {
   "cell_type": "markdown",
   "metadata": {},
   "source": [
    "### Fold Change"
   ]
  },
  {
   "cell_type": "code",
   "execution_count": 18,
   "metadata": {},
   "outputs": [],
   "source": [
    "# fold_dict = pd.read_csv('./dist/viz_fold.csv', index_col=0)\n",
    "# fold_dict['fold_change'] = fold_dict['fold_change'].apply(lambda x: 0.0 if x == np.nan else x)\n",
    "# fold_dict = fold_dict.to_dict()['fold_change']"
   ]
  },
  {
   "cell_type": "markdown",
   "metadata": {},
   "source": [
    "### Json Creation"
   ]
  },
  {
   "cell_type": "code",
   "execution_count": 20,
   "metadata": {},
   "outputs": [],
   "source": [
    "# first get the kinases of depth 3\n",
    "json_out = {\"name\":\"viz\",\n",
    "            \"children\":[\n",
    "                {\"name\":str(parent), \n",
    "                \"children\":[\n",
    "                    {\"name\":str(child), \n",
    "                    \"children\":[\n",
    "                        {\"name\":str(k),\n",
    "                        \"size\":int(sizes[k]),\n",
    "                        \"studied\":dark_dict[k]}\n",
    "                        for k in kinases]}\n",
    "                     for child, kinases in children.items()]} \n",
    "                for parent, children in parents_plus_children.items()]}\n",
    "\n",
    "# fold support \n",
    "# json_out = {\"name\":\"viz\",\n",
    "#             \"children\":[\n",
    "#                 {\"name\":str(parent), \n",
    "#                 \"children\":[\n",
    "#                     {\"name\":str(child), \n",
    "#                     \"children\":[\n",
    "#                         {\"name\":str(k),\n",
    "#                         \"size\":int(sizes[k]),\n",
    "#                         \"studied\":dark_dict[k],\n",
    "#                         \"fold\":fold_dict[k]}\n",
    "#                         for k in kinases]}\n",
    "#                      for child, kinases in children.items()]} \n",
    "#                 for parent, children in parents_plus_children.items()]}\n",
    "\n",
    "# extra json\n",
    "missing_json = [\n",
    "    {\"name\":str(parent),\n",
    "    \"children\":[\n",
    "        {\"name\":str(k),\n",
    "        \"size\":int(sizes[k])}\n",
    "        for k in kinases]}\n",
    "    for parent, kinases in missing_parents.items()]\n",
    "\n",
    "json_out[\"children\"] = json_out[\"children\"] + missing_json"
   ]
  },
  {
   "cell_type": "code",
   "execution_count": 21,
   "metadata": {},
   "outputs": [],
   "source": [
    "# str_out is a JSON-formatted string from the json_out dictionary\n",
    "# the 'replace' steps make the file more human-readable for debugging, etc\n",
    "str_out = json.dumps(json_out).replace(\"},\", \"}, \\n\").replace('[{', '[\\n{\\n').replace(']},', ']}\\n,\\n')"
   ]
  },
  {
   "cell_type": "code",
   "execution_count": 22,
   "metadata": {},
   "outputs": [],
   "source": [
    "with open('dist/viz.json', 'w') as f:\n",
    "    f.write(str_out)"
   ]
  }
 ],
 "metadata": {
  "kernelspec": {
   "display_name": "Python 3",
   "language": "python",
   "name": "python3"
  },
  "language_info": {
   "codemirror_mode": {
    "name": "ipython",
    "version": 3
   },
   "file_extension": ".py",
   "mimetype": "text/x-python",
   "name": "python",
   "nbconvert_exporter": "python",
   "pygments_lexer": "ipython3",
   "version": "3.7.3"
  }
 },
 "nbformat": 4,
 "nbformat_minor": 2
}
