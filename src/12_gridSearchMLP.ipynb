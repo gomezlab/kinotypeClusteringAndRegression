{
 "cells": [
  {
   "cell_type": "code",
   "execution_count": 6,
   "metadata": {},
   "outputs": [],
   "source": [
    "import pandas as pd\n",
    "import numpy as np\n",
    "import itertools as it\n",
    "import functools as ft\n",
    "import multiprocessing as mp\n",
    "from time import time\n",
    "\n",
    "from sklearn.model_selection import KFold\n",
    "from sklearn.ensemble import BaggingClassifier\n",
    "from sklearn.linear_model import SGDClassifier\n",
    "from sklearn.linear_model.coordinate_descent import LinearModelCV\n",
    "from sklearn.linear_model import ElasticNetCV\n",
    "from sklearn.base import RegressorMixin\n",
    "from sklearn.linear_model.base import LinearModel\n",
    "from sklearn.ensemble import AdaBoostClassifier\n",
    "from sklearn.model_selection import cross_validate\n",
    "from sklearn.model_selection import LeaveOneGroupOut\n",
    "from sklearn.model_selection import GridSearchCV\n",
    "from sklearn.neural_network import MLPRegressor\n",
    "from sklearn.metrics import *\n",
    "\n",
    "from scipy.stats import norm\n",
    "from scipy.stats.mstats import gmean\n",
    "from collections import Counter\n",
    "\n",
    "from tqdm import tqdm\n",
    "\n",
    "%matplotlib inline\n",
    "import matplotlib.pyplot as plt\n",
    "import seaborn as sns"
   ]
  },
  {
   "cell_type": "code",
   "execution_count": 46,
   "metadata": {},
   "outputs": [
    {
     "data": {
      "text/html": [
       "<div>\n",
       "<style scoped>\n",
       "    .dataframe tbody tr th:only-of-type {\n",
       "        vertical-align: middle;\n",
       "    }\n",
       "\n",
       "    .dataframe tbody tr th {\n",
       "        vertical-align: top;\n",
       "    }\n",
       "\n",
       "    .dataframe thead th {\n",
       "        text-align: right;\n",
       "    }\n",
       "</style>\n",
       "<table border=\"1\" class=\"dataframe\">\n",
       "  <thead>\n",
       "    <tr style=\"text-align: right;\">\n",
       "      <th></th>\n",
       "      <th>Drug</th>\n",
       "      <th>Concentration</th>\n",
       "      <th>Target</th>\n",
       "      <th>Growth</th>\n",
       "      <th>AAK1</th>\n",
       "      <th>ABL1</th>\n",
       "      <th>ABL2</th>\n",
       "      <th>ACVR1</th>\n",
       "      <th>ACVR1B</th>\n",
       "      <th>ACVR2B</th>\n",
       "      <th>...</th>\n",
       "      <th>uacc812</th>\n",
       "      <th>uacc893</th>\n",
       "      <th>umc11</th>\n",
       "      <th>umuc3</th>\n",
       "      <th>vmrclcd</th>\n",
       "      <th>wm115</th>\n",
       "      <th>wm2664</th>\n",
       "      <th>yapc</th>\n",
       "      <th>zr751</th>\n",
       "      <th>zr75b</th>\n",
       "    </tr>\n",
       "  </thead>\n",
       "  <tbody>\n",
       "    <tr>\n",
       "      <th>53257</th>\n",
       "      <td>silmitasertib</td>\n",
       "      <td>3.00</td>\n",
       "      <td>-0.426184</td>\n",
       "      <td>-0.330026</td>\n",
       "      <td>0.0</td>\n",
       "      <td>0.000000</td>\n",
       "      <td>0.000000</td>\n",
       "      <td>0.0</td>\n",
       "      <td>0.000000</td>\n",
       "      <td>0.0</td>\n",
       "      <td>...</td>\n",
       "      <td>0</td>\n",
       "      <td>0</td>\n",
       "      <td>0</td>\n",
       "      <td>0</td>\n",
       "      <td>0</td>\n",
       "      <td>0</td>\n",
       "      <td>0</td>\n",
       "      <td>0</td>\n",
       "      <td>0</td>\n",
       "      <td>0</td>\n",
       "    </tr>\n",
       "    <tr>\n",
       "      <th>42989</th>\n",
       "      <td>osi027</td>\n",
       "      <td>0.03</td>\n",
       "      <td>2.489425</td>\n",
       "      <td>0.987205</td>\n",
       "      <td>0.0</td>\n",
       "      <td>0.000000</td>\n",
       "      <td>0.000000</td>\n",
       "      <td>0.0</td>\n",
       "      <td>0.076540</td>\n",
       "      <td>0.0</td>\n",
       "      <td>...</td>\n",
       "      <td>0</td>\n",
       "      <td>0</td>\n",
       "      <td>0</td>\n",
       "      <td>0</td>\n",
       "      <td>0</td>\n",
       "      <td>0</td>\n",
       "      <td>0</td>\n",
       "      <td>0</td>\n",
       "      <td>0</td>\n",
       "      <td>0</td>\n",
       "    </tr>\n",
       "    <tr>\n",
       "      <th>36715</th>\n",
       "      <td>mgcd265</td>\n",
       "      <td>0.30</td>\n",
       "      <td>3.085930</td>\n",
       "      <td>0.997971</td>\n",
       "      <td>0.0</td>\n",
       "      <td>-0.367669</td>\n",
       "      <td>-0.212716</td>\n",
       "      <td>0.0</td>\n",
       "      <td>0.000000</td>\n",
       "      <td>0.0</td>\n",
       "      <td>...</td>\n",
       "      <td>0</td>\n",
       "      <td>0</td>\n",
       "      <td>0</td>\n",
       "      <td>0</td>\n",
       "      <td>0</td>\n",
       "      <td>0</td>\n",
       "      <td>0</td>\n",
       "      <td>0</td>\n",
       "      <td>0</td>\n",
       "      <td>0</td>\n",
       "    </tr>\n",
       "    <tr>\n",
       "      <th>35826</th>\n",
       "      <td>masitinib</td>\n",
       "      <td>1.00</td>\n",
       "      <td>0.895365</td>\n",
       "      <td>0.629408</td>\n",
       "      <td>0.0</td>\n",
       "      <td>-0.478263</td>\n",
       "      <td>-0.317027</td>\n",
       "      <td>0.0</td>\n",
       "      <td>0.000000</td>\n",
       "      <td>0.0</td>\n",
       "      <td>...</td>\n",
       "      <td>0</td>\n",
       "      <td>0</td>\n",
       "      <td>0</td>\n",
       "      <td>0</td>\n",
       "      <td>0</td>\n",
       "      <td>0</td>\n",
       "      <td>0</td>\n",
       "      <td>0</td>\n",
       "      <td>0</td>\n",
       "      <td>0</td>\n",
       "    </tr>\n",
       "    <tr>\n",
       "      <th>43312</th>\n",
       "      <td>osi027</td>\n",
       "      <td>30.00</td>\n",
       "      <td>-0.056795</td>\n",
       "      <td>-0.045292</td>\n",
       "      <td>0.0</td>\n",
       "      <td>0.000000</td>\n",
       "      <td>0.000000</td>\n",
       "      <td>0.0</td>\n",
       "      <td>-9.642757</td>\n",
       "      <td>0.0</td>\n",
       "      <td>...</td>\n",
       "      <td>0</td>\n",
       "      <td>0</td>\n",
       "      <td>0</td>\n",
       "      <td>0</td>\n",
       "      <td>0</td>\n",
       "      <td>0</td>\n",
       "      <td>0</td>\n",
       "      <td>0</td>\n",
       "      <td>0</td>\n",
       "      <td>0</td>\n",
       "    </tr>\n",
       "  </tbody>\n",
       "</table>\n",
       "<p>5 rows × 666 columns</p>\n",
       "</div>"
      ],
      "text/plain": [
       "                Drug  Concentration    Target    Growth  AAK1      ABL1  \\\n",
       "53257  silmitasertib           3.00 -0.426184 -0.330026   0.0  0.000000   \n",
       "42989         osi027           0.03  2.489425  0.987205   0.0  0.000000   \n",
       "36715        mgcd265           0.30  3.085930  0.997971   0.0 -0.367669   \n",
       "35826      masitinib           1.00  0.895365  0.629408   0.0 -0.478263   \n",
       "43312         osi027          30.00 -0.056795 -0.045292   0.0  0.000000   \n",
       "\n",
       "           ABL2  ACVR1    ACVR1B  ACVR2B  ...    uacc812  uacc893  umc11  \\\n",
       "53257  0.000000    0.0  0.000000     0.0  ...          0        0      0   \n",
       "42989  0.000000    0.0  0.076540     0.0  ...          0        0      0   \n",
       "36715 -0.212716    0.0  0.000000     0.0  ...          0        0      0   \n",
       "35826 -0.317027    0.0  0.000000     0.0  ...          0        0      0   \n",
       "43312  0.000000    0.0 -9.642757     0.0  ...          0        0      0   \n",
       "\n",
       "       umuc3  vmrclcd  wm115  wm2664  yapc  zr751  zr75b  \n",
       "53257      0        0      0       0     0      0      0  \n",
       "42989      0        0      0       0     0      0      0  \n",
       "36715      0        0      0       0     0      0      0  \n",
       "35826      0        0      0       0     0      0      0  \n",
       "43312      0        0      0       0     0      0      0  \n",
       "\n",
       "[5 rows x 666 columns]"
      ]
     },
     "execution_count": 46,
     "metadata": {},
     "output_type": "execute_result"
    }
   ],
   "source": [
    "agg_data = pd.read_csv('../data/agg_growth.csv', index_col=0)\n",
    "agg_data.head()"
   ]
  },
  {
   "cell_type": "code",
   "execution_count": 47,
   "metadata": {},
   "outputs": [
    {
     "name": "stderr",
     "output_type": "stream",
     "text": [
      "/opt/anaconda/lib/python3.7/site-packages/ipykernel_launcher.py:13: RuntimeWarning: divide by zero encountered in arctanh\n",
      "  del sys.path[0]\n",
      "/opt/anaconda/lib/python3.7/site-packages/ipykernel_launcher.py:13: RuntimeWarning: invalid value encountered in arctanh\n",
      "  del sys.path[0]\n"
     ]
    },
    {
     "name": "stdout",
     "output_type": "stream",
     "text": [
      "(61824, 662)\n"
     ]
    }
   ],
   "source": [
    "# filter out the less common drugs\n",
    "drugs = agg_data.Drug\n",
    "c = Counter(drugs)\n",
    "filtered_drug_list = [x for x,y in c.most_common() if y > 50]\n",
    "drug_filter = drugs.isin(filtered_drug_list)\n",
    "drugs = drugs[drug_filter]\n",
    "agg_data = agg_data[drug_filter]\n",
    "\n",
    "conc = agg_data.Concentration\n",
    "\n",
    "# targ = agg_data.Target # deprecated\n",
    "y = agg_data.Growth\n",
    "new_y = np.arctanh(y) # throws a warning as inf occurs\n",
    "new_y[y == 1] = np.arctanh(1 - 1e-12) # replace inf with large number\n",
    "\n",
    "X = agg_data[agg_data.columns[4:]]\n",
    "\n",
    "print(X.shape)"
   ]
  },
  {
   "cell_type": "code",
   "execution_count": 48,
   "metadata": {},
   "outputs": [
    {
     "data": {
      "image/png": "[encoded data removed]",
      "text/plain": [
       "<Figure size 432x288 with 1 Axes>"
      ]
     },
     "metadata": {
      "needs_background": "light"
     },
     "output_type": "display_data"
    }
   ],
   "source": [
    "sns.distplot(new_y)\n",
    "plt.show()\n",
    "#plt.h"
   ]
  },
  {
   "cell_type": "code",
   "execution_count": 54,
   "metadata": {},
   "outputs": [],
   "source": [
    "# set parameters\n",
    "cv_jobs = 8\n",
    "n_jobs = 1\n",
    "\n",
    "# 4 layer MLP regressor\n",
    "hidden_layer_sizes = (100, 100) # n_layers - 2\n",
    "activation = 'relu'\n",
    "alphas = [1e-4, 3e-4, 1e-3, 3e-3, 1e-2]\n",
    "batch_size = 32\n",
    "learning_rate = 'invscaling'\n",
    "random_state = 1920\n",
    "nesterovs_momentum = True\n",
    "\n",
    "model = MLPRegressor(hidden_layer_sizes=hidden_layer_sizes,\n",
    "                     activation=activation,\n",
    "                     batch_size=batch_size,\n",
    "                     learning_rate=learning_rate,\n",
    "                     random_state=random_state,\n",
    "                     nesterovs_momentum=nesterovs_momentum)"
   ]
  },
  {
   "cell_type": "code",
   "execution_count": 50,
   "metadata": {},
   "outputs": [],
   "source": [
    "# cross validator\n",
    "logo = LeaveOneGroupOut()\n",
    "\n",
    "# we can't grid search across threshes, so store a dict of them\n",
    "thresh_grids = {}\n",
    "param_grid = {\n",
    "    'alpha' : alphas,\n",
    "}\n",
    "\n",
    "scorer_dict = {'mse':mean_squared_error,\n",
    "              'pearsonr':lambda x,y: pearsonr(x,y)[0]}\n",
    "\n",
    "# convert to scorers\n",
    "scorer_dict = {x:make_scorer(y) for x,y in scorer_dict.items()}"
   ]
  },
  {
   "cell_type": "code",
   "execution_count": 51,
   "metadata": {},
   "outputs": [],
   "source": [
    "# define the threshes\n",
    "search = GridSearchCV(model,\n",
    "                     cv=logo.split(X, y, groups=drugs),\n",
    "                     param_grid=param_grid,\n",
    "                     pre_dispatch='2*n_jobs',\n",
    "                     n_jobs=cv_jobs,\n",
    "                     iid=False,\n",
    "                     refit=False,\n",
    "                     return_train_score=True,\n",
    "                     verbose=True)"
   ]
  },
  {
   "cell_type": "code",
   "execution_count": 52,
   "metadata": {},
   "outputs": [
    {
     "name": "stdout",
     "output_type": "stream",
     "text": [
      "5.71 s ± 176 ms per loop (mean ± std. dev. of 3 runs, 2 loops each)\n"
     ]
    }
   ],
   "source": [
    "%%timeit -n2 -r3\n",
    "model.partial_fit(X, new_y)"
   ]
  },
  {
   "cell_type": "code",
   "execution_count": null,
   "metadata": {},
   "outputs": [
    {
     "name": "stdout",
     "output_type": "stream",
     "text": [
      "Fitting 68 folds for each of 5 candidates, totalling 340 fits\n"
     ]
    },
    {
     "name": "stderr",
     "output_type": "stream",
     "text": [
      "[Parallel(n_jobs=8)]: Using backend LokyBackend with 8 concurrent workers.\n"
     ]
    }
   ],
   "source": [
    "# fit the model\n",
    "search.fit(X, new_y)"
   ]
  },
  {
   "cell_type": "code",
   "execution_count": null,
   "metadata": {},
   "outputs": [],
   "source": [
    "for thresh, gCV in thresh_grids.items():\n",
    "    dat = pd.DataFrame(gCV.cv_results_)\n",
    "    dat.to_csv('~/Github/subnetGRcurves/results/gCV_' + str(thresh) + '.csv')"
   ]
  },
  {
   "cell_type": "code",
   "execution_count": 136,
   "metadata": {},
   "outputs": [],
   "source": [
    "res = pd.DataFrame(pd.Series(val_scores))\n",
    "res = pd.concat([res.drop(0, axis=1).reset_index(), pd.DataFrame(list(zip(*res[0]))).T], axis=1)\n",
    "res.columns = ['Loss', 'Weights', 'L1_Ratio', 'Alpha', 'Thresh', 'AP_score', 'ROC_AUC', 'Accuracy', 'F1_score', 'R2']\n",
    "res.to_csv('../results/validation_scores.csv', index=False)"
   ]
  },
  {
   "cell_type": "markdown",
   "metadata": {},
   "source": [
    "### Test Set Analysis"
   ]
  },
  {
   "cell_type": "code",
   "execution_count": 404,
   "metadata": {},
   "outputs": [
    {
     "data": {
      "image/png": "[encoded data removed]",
      "text/plain": [
       "<Figure size 864x360 with 4 Axes>"
      ]
     },
     "metadata": {
      "needs_background": "light"
     },
     "output_type": "display_data"
    }
   ],
   "source": [
    "fig, axes = plt.subplots(figsize=(12,5), ncols=2, nrows=2, sharey=True, sharex=True)\n",
    "\n",
    "plt.suptitle('GR Metrics Growth Prediction', y=1.05, fontsize=20)\n",
    "#plt.title('+1 = No Effect, 0 = Cytostatic response, -1 = Cell Death', y=1.0, fontsize=10)\n",
    "\n",
    "axes[0][0].hist(y['train'], bins=20, density=True, color='b')\n",
    "axes[0][0].set_title('Training Set, True Values', y=.8)\n",
    "\n",
    "axes[0][1].hist(y['dev'], bins=20, density=True, color='g')\n",
    "axes[0][1].set_title('Validation Set, True Values', y=.8)\n",
    "\n",
    "axes[1][0].hist((norm.cdf(p_train)-.5)*2, bins=20, density=True, color='b')\n",
    "axes[1][0].set_title('Training Set, Predicted Values', y=.8)\n",
    "\n",
    "axes[1][1].hist((norm.cdf(p_dev)-.5)*2, bins=20, density=True, color='g')\n",
    "axes[1][1].set_title('Validation Set, Predicted Values', y=.8)\n",
    "\n",
    "plt.show()"
   ]
  }
 ],
 "metadata": {
  "kernelspec": {
   "display_name": "Python 3",
   "language": "python",
   "name": "python3"
  },
  "language_info": {
   "codemirror_mode": {
    "name": "ipython",
    "version": 3
   },
   "file_extension": ".py",
   "mimetype": "text/x-python",
   "name": "python",
   "nbconvert_exporter": "python",
   "pygments_lexer": "ipython3",
   "version": "3.7.3"
  }
 },
 "nbformat": 4,
 "nbformat_minor": 2
}
