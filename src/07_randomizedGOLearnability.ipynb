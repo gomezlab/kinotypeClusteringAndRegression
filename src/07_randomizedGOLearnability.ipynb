{
 "cells": [
  {
   "cell_type": "markdown",
   "metadata": {},
   "source": [
    "## Randomized Network Learnability "
   ]
  },
  {
   "cell_type": "code",
   "execution_count": 1,
   "metadata": {},
   "outputs": [],
   "source": [
    "import pandas as pd\n",
    "import numpy as np\n",
    "import functools as ft\n",
    "import itertools as it\n",
    "import multiprocessing as mp\n",
    "import scipy.sparse as sp\n",
    "\n",
    "import itertools\n",
    "import matplotlib.pyplot as plt\n",
    "import seaborn as sns\n",
    "from gensim import corpora\n",
    "from collections import defaultdict\n",
    "from gensim.models import TfidfModel\n",
    "from collections import Counter\n",
    "from copy import copy\n",
    "\n",
    "from tools import learnabilityHelpers as lh\n",
    "\n",
    "## this suppresses the warnings encountered during normal use of Matthew's Corr Coeff from sklearn\n",
    "import warnings\n",
    "warnings.filterwarnings('ignore')\n",
    "\n",
    "%matplotlib inline"
   ]
  },
  {
   "cell_type": "markdown",
   "metadata": {},
   "source": [
    "### We don't need to generate new processes -- use from original"
   ]
  },
  {
   "cell_type": "code",
   "execution_count": 2,
   "metadata": {},
   "outputs": [],
   "source": [
    "go_file = '../data/goData/kinase_go_processes.csv'\n",
    "go_dir = './'\n",
    "\n",
    "# create a dictionary with our datasets\n",
    "go_data_dict, go_transform_dict = lh.get_go_data_dict(go_file=go_file)"
   ]
  },
  {
   "cell_type": "markdown",
   "metadata": {},
   "source": [
    "Now, we need to get our cluster data and make a few DataFrames with the clusters and go_annotations attached"
   ]
  },
  {
   "cell_type": "markdown",
   "metadata": {},
   "source": [
    "## Control 1: Randomized Network"
   ]
  },
  {
   "cell_type": "code",
   "execution_count": 3,
   "metadata": {
    "scrolled": true
   },
   "outputs": [
    {
     "name": "stdout",
     "output_type": "stream",
     "text": [
      "Dropped  0 kinases due to zero length post-processing\n",
      "Dropped  5 kinases due to zero length post-processing\n",
      "Dropped  36 kinases due to zero length post-processing\n",
      "Dropped  0 kinases due to zero length post-processing\n",
      "Dropped  5 kinases due to zero length post-processing\n",
      "Dropped  36 kinases due to zero length post-processing\n",
      "Dropped  0 kinases due to zero length post-processing\n",
      "Dropped  5 kinases due to zero length post-processing\n",
      "Dropped  36 kinases due to zero length post-processing\n",
      "Dropped  0 kinases due to zero length post-processing\n",
      "Dropped  5 kinases due to zero length post-processing\n",
      "Dropped  36 kinases due to zero length post-processing\n",
      "Dropped  0 kinases due to zero length post-processing\n",
      "Dropped  5 kinases due to zero length post-processing\n",
      "Dropped  36 kinases due to zero length post-processing\n",
      "Dropped  0 kinases due to zero length post-processing\n",
      "Dropped  5 kinases due to zero length post-processing\n",
      "Dropped  36 kinases due to zero length post-processing\n",
      "Dropped  0 kinases due to zero length post-processing\n",
      "Dropped  5 kinases due to zero length post-processing\n",
      "Dropped  36 kinases due to zero length post-processing\n",
      "Dropped  0 kinases due to zero length post-processing\n",
      "Dropped  5 kinases due to zero length post-processing\n",
      "Dropped  36 kinases due to zero length post-processing\n",
      "Dropped  0 kinases due to zero length post-processing\n",
      "Dropped  5 kinases due to zero length post-processing\n",
      "Dropped  36 kinases due to zero length post-processing\n"
     ]
    }
   ],
   "source": [
    "cluster_dir = '../results/randomizedResults/'\n",
    "\n",
    "spinglass_file = 'consensus_spinglass.txt'\n",
    "spinglass_data_dict = {key:lh.add_cluster_labels(cluster_dir+spinglass_file,\n",
    "                                  val) for key, val in go_data_dict.items()}\n",
    "\n",
    "fastgreedy_file = 'fastgreedy_clusters.txt'\n",
    "fastgreedy_data_dict = {key:lh.add_cluster_labels(cluster_dir+fastgreedy_file,\n",
    "                                  val) for key, val in go_data_dict.items()}\n",
    "\n",
    "eigen_file = 'consensus_eigenvector.txt'\n",
    "eigen_data_dict = {key:lh.add_cluster_labels(cluster_dir+eigen_file,\n",
    "                                  val) for key, val in go_data_dict.items()}\n",
    "\n",
    "labelprop_file = 'consensus_label_propagation.txt'\n",
    "labelprop_dict = {key:lh.add_cluster_labels(cluster_dir+labelprop_file,\n",
    "                                  val) for key, val in go_data_dict.items()}\n",
    "\n",
    "walktrap_file = 'consensus_walktrap.txt'\n",
    "walktrap_dict = {key:lh.add_cluster_labels(cluster_dir+walktrap_file,\n",
    "                                  val) for key, val in go_data_dict.items()}\n",
    "\n",
    "louvain_super_file = 'louvain_clusters.txt'\n",
    "louvain_super_dict = {key:lh.add_cluster_labels(cluster_dir+louvain_super_file,\n",
    "                                  val) for key, val in go_data_dict.items()}\n",
    "\n",
    "louvain_sub_file = 'louvain_small_clusters.txt'\n",
    "louvain_sub_dict = {key:lh.add_cluster_labels(cluster_dir+louvain_sub_file,\n",
    "                                  val) for key, val in go_data_dict.items()}\n",
    "\n",
    "infomap_file = 'consensus_infomap.txt'\n",
    "infomap_dict = {key:lh.add_cluster_labels(cluster_dir+infomap_file,\n",
    "                                  val) for key, val in go_data_dict.items()}\n",
    "\n",
    "edge_betweenness_file = 'edge_betweenness_community_clusters.txt'\n",
    "edge_betweenness_dict = {key:lh.add_cluster_labels(cluster_dir+edge_betweenness_file,\n",
    "                                  val) for key, val in go_data_dict.items()}\n",
    "\n",
    "method_list = ['spinglass', 'fastgreedy', 'eigen', 'labelprop', 'walktrap', 'louvain_super', 'louvain_sub', 'infomap', 'edge_between']\n",
    "method_dicts = [spinglass_data_dict, fastgreedy_data_dict, eigen_data_dict, labelprop_dict, walktrap_dict, louvain_super_dict, louvain_sub_dict, infomap_dict, edge_betweenness_dict]\n",
    "composite_data_dict = {x:y for x,y in zip(method_list, method_dicts)}"
   ]
  },
  {
   "cell_type": "markdown",
   "metadata": {},
   "source": [
    "Now, let's import a few linear classifiers"
   ]
  },
  {
   "cell_type": "code",
   "execution_count": 4,
   "metadata": {},
   "outputs": [],
   "source": [
    "from sklearn.svm import SVC\n",
    "from sklearn.naive_bayes import GaussianNB as GNB\n",
    "from sklearn.naive_bayes import ComplementNB as CNB\n",
    "\n",
    "svm = SVC(kernel='linear', class_weight='balanced')\n",
    "cnb = CNB()\n",
    "\n",
    "classifiers = [svm, cnb]\n",
    "clf_names = [str(clf.__class__).split('.')[-1][0:-2] for clf in classifiers]"
   ]
  },
  {
   "cell_type": "markdown",
   "metadata": {},
   "source": [
    "And get the accuracy and MCC scores for our datasets"
   ]
  },
  {
   "cell_type": "code",
   "execution_count": 5,
   "metadata": {},
   "outputs": [],
   "source": [
    "validation_kwargs = {'n_run':100, 'metrics':['accuracy', 'matthews'], 'parallel':min(5, mp.cpu_count()-1), 'test_size':0.3}\n",
    "results_dict = {}\n",
    "\n",
    "for method in composite_data_dict.keys():\n",
    "    # we may need to check for clusterings with a single cluster; this isn't learnable\n",
    "    if len(composite_data_dict[method]['go']['cluster'].unique())<= 2:\n",
    "        results_dict[method] = {str(clf.__class__).split('.')[-1][0:-2]:0 for key, val in composite_data_dict[method].items() for clf in classifiers}\n",
    "    else:\n",
    "        results_dict[method] = {str(clf.__class__).split('.')[-1][0:-2]:lh.validate_learnability(dat_df=val, clf=clf, **validation_kwargs) for key, val in composite_data_dict[method].items() for clf in classifiers}\n"
   ]
  },
  {
   "cell_type": "code",
   "execution_count": 6,
   "metadata": {},
   "outputs": [],
   "source": [
    "mean_results = {}\n",
    "std_results = {}\n",
    "\n",
    "for method in results_dict.keys():\n",
    "    if len(composite_data_dict[method]['go']['cluster'].unique())<= 2:\n",
    "        mean_results[method] = {key:[0,0] for key in clf_names}\n",
    "        std_results[method] = {key:[0,0] for key in clf_names}\n",
    "    else:\n",
    "        mean_results[method] = {key:np.mean(np.vstack(map(np.array, results_dict[method][key])), axis=0) for key in results_dict[method].keys()}\n",
    "        std_results[method] = {key:np.std(np.vstack(map(np.array, results_dict[method][key])), axis=0) for key in results_dict[method].keys()}\n"
   ]
  },
  {
   "cell_type": "code",
   "execution_count": 7,
   "metadata": {},
   "outputs": [
    {
     "data": {
      "text/html": [
       "<div>\n",
       "<style scoped>\n",
       "    .dataframe tbody tr th:only-of-type {\n",
       "        vertical-align: middle;\n",
       "    }\n",
       "\n",
       "    .dataframe tbody tr th {\n",
       "        vertical-align: top;\n",
       "    }\n",
       "\n",
       "    .dataframe thead th {\n",
       "        text-align: right;\n",
       "    }\n",
       "</style>\n",
       "<table border=\"1\" class=\"dataframe\">\n",
       "  <thead>\n",
       "    <tr style=\"text-align: right;\">\n",
       "      <th></th>\n",
       "      <th>No. Clusters</th>\n",
       "      <th>Mean size</th>\n",
       "      <th>sigma size</th>\n",
       "      <th>Largest clust</th>\n",
       "      <th>Mod</th>\n",
       "      <th>Comp Acc</th>\n",
       "      <th>sigma Comp Acc</th>\n",
       "      <th>Comp MCC</th>\n",
       "      <th>sigma Comp MCC</th>\n",
       "    </tr>\n",
       "  </thead>\n",
       "  <tbody>\n",
       "    <tr>\n",
       "      <th>edge_between</th>\n",
       "      <td>179</td>\n",
       "      <td>2.9</td>\n",
       "      <td>25.0</td>\n",
       "      <td>337</td>\n",
       "      <td>0.002</td>\n",
       "      <td>0.53</td>\n",
       "      <td>0.03</td>\n",
       "      <td>0.09</td>\n",
       "      <td>0.03</td>\n",
       "    </tr>\n",
       "    <tr>\n",
       "      <th>louvain_super</th>\n",
       "      <td>10</td>\n",
       "      <td>51.7</td>\n",
       "      <td>36.3</td>\n",
       "      <td>114</td>\n",
       "      <td>0.164</td>\n",
       "      <td>0.19</td>\n",
       "      <td>0.03</td>\n",
       "      <td>0.03</td>\n",
       "      <td>0.03</td>\n",
       "    </tr>\n",
       "    <tr>\n",
       "      <th>eigen</th>\n",
       "      <td>9</td>\n",
       "      <td>57.4</td>\n",
       "      <td>49.2</td>\n",
       "      <td>157</td>\n",
       "      <td>0.121</td>\n",
       "      <td>0.21</td>\n",
       "      <td>0.03</td>\n",
       "      <td>0.02</td>\n",
       "      <td>0.03</td>\n",
       "    </tr>\n",
       "    <tr>\n",
       "      <th>louvain_sub</th>\n",
       "      <td>44</td>\n",
       "      <td>11.8</td>\n",
       "      <td>23.2</td>\n",
       "      <td>99</td>\n",
       "      <td>0.153</td>\n",
       "      <td>0.14</td>\n",
       "      <td>0.04</td>\n",
       "      <td>0.02</td>\n",
       "      <td>0.02</td>\n",
       "    </tr>\n",
       "    <tr>\n",
       "      <th>walktrap</th>\n",
       "      <td>143</td>\n",
       "      <td>3.6</td>\n",
       "      <td>10.1</td>\n",
       "      <td>84</td>\n",
       "      <td>0.000</td>\n",
       "      <td>0.08</td>\n",
       "      <td>0.04</td>\n",
       "      <td>0.01</td>\n",
       "      <td>0.02</td>\n",
       "    </tr>\n",
       "    <tr>\n",
       "      <th>fastgreedy</th>\n",
       "      <td>7</td>\n",
       "      <td>73.9</td>\n",
       "      <td>43.4</td>\n",
       "      <td>133</td>\n",
       "      <td>0.009</td>\n",
       "      <td>0.20</td>\n",
       "      <td>0.03</td>\n",
       "      <td>0.00</td>\n",
       "      <td>0.03</td>\n",
       "    </tr>\n",
       "    <tr>\n",
       "      <th>infomap</th>\n",
       "      <td>2</td>\n",
       "      <td>258.5</td>\n",
       "      <td>256.5</td>\n",
       "      <td>515</td>\n",
       "      <td>0.000</td>\n",
       "      <td>0.00</td>\n",
       "      <td>0.00</td>\n",
       "      <td>0.00</td>\n",
       "      <td>0.00</td>\n",
       "    </tr>\n",
       "    <tr>\n",
       "      <th>labelprop</th>\n",
       "      <td>1</td>\n",
       "      <td>517.0</td>\n",
       "      <td>0.0</td>\n",
       "      <td>517</td>\n",
       "      <td>0.066</td>\n",
       "      <td>0.00</td>\n",
       "      <td>0.00</td>\n",
       "      <td>0.00</td>\n",
       "      <td>0.00</td>\n",
       "    </tr>\n",
       "    <tr>\n",
       "      <th>spinglass</th>\n",
       "      <td>447</td>\n",
       "      <td>1.2</td>\n",
       "      <td>0.7</td>\n",
       "      <td>10</td>\n",
       "      <td>0.153</td>\n",
       "      <td>0.00</td>\n",
       "      <td>0.00</td>\n",
       "      <td>-0.00</td>\n",
       "      <td>0.00</td>\n",
       "    </tr>\n",
       "  </tbody>\n",
       "</table>\n",
       "</div>"
      ],
      "text/plain": [
       "               No. Clusters  Mean size  sigma size  Largest clust    Mod  \\\n",
       "edge_between            179        2.9        25.0            337  0.002   \n",
       "louvain_super            10       51.7        36.3            114  0.164   \n",
       "eigen                     9       57.4        49.2            157  0.121   \n",
       "louvain_sub              44       11.8        23.2             99  0.153   \n",
       "walktrap                143        3.6        10.1             84  0.000   \n",
       "fastgreedy                7       73.9        43.4            133  0.009   \n",
       "infomap                   2      258.5       256.5            515  0.000   \n",
       "labelprop                 1      517.0         0.0            517  0.066   \n",
       "spinglass               447        1.2         0.7             10  0.153   \n",
       "\n",
       "               Comp Acc  sigma Comp Acc  Comp MCC  sigma Comp MCC  \n",
       "edge_between       0.53            0.03      0.09            0.03  \n",
       "louvain_super      0.19            0.03      0.03            0.03  \n",
       "eigen              0.21            0.03      0.02            0.03  \n",
       "louvain_sub        0.14            0.04      0.02            0.02  \n",
       "walktrap           0.08            0.04      0.01            0.02  \n",
       "fastgreedy         0.20            0.03      0.00            0.03  \n",
       "infomap            0.00            0.00      0.00            0.00  \n",
       "labelprop          0.00            0.00      0.00            0.00  \n",
       "spinglass          0.00            0.00     -0.00            0.00  "
      ]
     },
     "metadata": {},
     "output_type": "display_data"
    }
   ],
   "source": [
    "cluster_descriptions = {}\n",
    "mod_scores = {}\n",
    "\n",
    "mod_table = pd.read_csv('../results/randomizedResults/clustering_modularity_results.txt', sep='\\t')\n",
    "mod_scores = {x:y for x,y in zip(method_list, mod_table.loc[0].values)}\n",
    "\n",
    "for method in method_list:\n",
    "    # grab the cluster list from one of the datatype dictionaries\n",
    "    cluster_list = composite_data_dict[method]['go']['cluster']\n",
    "    \n",
    "    # create a counter to get the count data\n",
    "    clust_counter = Counter(cluster_list)\n",
    "    \n",
    "    # count and number of cluster data\n",
    "    cluster_counts = list(clust_counter.values())\n",
    "    n_clust = len(cluster_counts)\n",
    "    \n",
    "    # mean and std of cluster size\n",
    "    size_mean = np.round(np.mean(cluster_counts), 1)\n",
    "    size_std = np.round(np.std(cluster_counts), 1)\n",
    "    \n",
    "    # largest and smallest cluster size\n",
    "    size_max = np.max(cluster_counts) \n",
    "    \n",
    "    # update size and modularity data\n",
    "    cluster_descriptions[method] = {'N_clust':n_clust, 'Mean clust size':size_mean, 'Clust size std.':size_std, 'Largest clust size':size_max}\n",
    "    cluster_descriptions[method].update({'Modularity':np.round(mod_scores[method],3)})\n",
    "    \n",
    "    # update learnability\n",
    "    # clf-specific results\n",
    "    #cluster_descriptions[method].update({clf_name+' accuracy':np.round(mean_results[method][clf_name],2)[0] for clf_name in clf_names})\n",
    "    #cluster_descriptions[method].update({clf_name+' MCC':np.round(mean_results[method][clf_name],2)[1] for clf_name in clf_names})\n",
    "    # composite results\n",
    "    cluster_descriptions[method].update({'Composite Accuracy':np.round(np.mean([mean_results[method][clf_name][0] for clf_name in clf_names]),2)})\n",
    "    cluster_descriptions[method].update({'Comp Acc std.':np.round(np.mean([std_results[method][clf_name][0] for clf_name in clf_names]),2)})\n",
    "    cluster_descriptions[method].update({'Composite MCC':np.round(np.mean([mean_results[method][clf_name][1] for clf_name in clf_names]),2)})\n",
    "    cluster_descriptions[method].update({'Comp MCC std.':np.round(np.mean([std_results[method][clf_name][1] for clf_name in clf_names]),2)})\n",
    "    \n",
    "results_df = pd.DataFrame.from_dict(cluster_descriptions, orient='index').sort_values(by='Composite MCC', ascending=False)\n",
    "\n",
    "results_df.columns = ['No. Clusters', 'Mean size', 'sigma size', 'Largest clust',\n",
    "       'Mod', 'Comp Acc', 'sigma Comp Acc', 'Comp MCC',\n",
    "       'sigma Comp MCC']\n",
    "\n",
    "display(results_df)"
   ]
  },
  {
   "cell_type": "markdown",
   "metadata": {},
   "source": [
    "We can see that:\n",
    "\n",
    "> 1. Leading Eigenvalues does not produce valid clusterings as while accuracy is high, MCC is relatively poor\n",
    "> 2. Fast Greedy appears to have the best learnability, but we should remeber that Consensus Spinglass has many more classes\n",
    "> 3. Filtering/TFIDF does not negatively impact the learnability, so we can ignore the rare labels in our analysis\n"
   ]
  },
  {
   "cell_type": "markdown",
   "metadata": {},
   "source": [
    "## Convert pandas.DataFrame to TeX\n"
   ]
  },
  {
   "cell_type": "code",
   "execution_count": 8,
   "metadata": {},
   "outputs": [
    {
     "name": "stdout",
     "output_type": "stream",
     "text": [
      "\\begin{tabular}{lrrrrrrrrr}\n",
      "\\toprule\n",
      "{} &  No. Clusters &  Mean size &  sigma size &  Largest clust &    Mod &  Comp Acc &  sigma Comp Acc &  Comp MCC &  sigma Comp MCC \\\\\n",
      "\\midrule\n",
      "edge\\_between  &           179 &        2.9 &        25.0 &            337 &  0.002 &      0.53 &            0.03 &      0.09 &            0.03 \\\\\n",
      "louvain\\_super &            10 &       51.7 &        36.3 &            114 &  0.164 &      0.19 &            0.03 &      0.03 &            0.03 \\\\\n",
      "eigen         &             9 &       57.4 &        49.2 &            157 &  0.121 &      0.21 &            0.03 &      0.02 &            0.03 \\\\\n",
      "louvain\\_sub   &            44 &       11.8 &        23.2 &             99 &  0.153 &      0.14 &            0.04 &      0.02 &            0.02 \\\\\n",
      "walktrap      &           143 &        3.6 &        10.1 &             84 &  0.000 &      0.08 &            0.04 &      0.01 &            0.02 \\\\\n",
      "fastgreedy    &             7 &       73.9 &        43.4 &            133 &  0.009 &      0.20 &            0.03 &      0.00 &            0.03 \\\\\n",
      "infomap       &             2 &      258.5 &       256.5 &            515 &  0.000 &      0.00 &            0.00 &      0.00 &            0.00 \\\\\n",
      "labelprop     &             1 &      517.0 &         0.0 &            517 &  0.066 &      0.00 &            0.00 &      0.00 &            0.00 \\\\\n",
      "spinglass     &           447 &        1.2 &         0.7 &             10 &  0.153 &      0.00 &            0.00 &     -0.00 &            0.00 \\\\\n",
      "\\bottomrule\n",
      "\\end{tabular}\n",
      "\n"
     ]
    }
   ],
   "source": [
    "tex_string = results_df.to_latex()\n",
    "print(tex_string)"
   ]
  },
  {
   "cell_type": "markdown",
   "metadata": {},
   "source": [
    "## Generate Intra-Supercluster Analysis of Louvain Subclusters\n"
   ]
  },
  {
   "cell_type": "code",
   "execution_count": 9,
   "metadata": {},
   "outputs": [],
   "source": [
    "louvain_combined_dict = {key:louvain_super_dict[key].drop('GO Labels', axis=1).merge(louvain_sub_dict[key], on='names', how='left', suffixes = ['_super', '_sub'])\n",
    "                         for key, val in go_data_dict.items()}\n"
   ]
  },
  {
   "cell_type": "code",
   "execution_count": 10,
   "metadata": {},
   "outputs": [
    {
     "data": {
      "text/plain": [
       "cluster_super\n",
       "1          {32, 1, 3, 10, 22, 31}\n",
       "2                      {8, 21, 6}\n",
       "3                 {16, 2, 29, 38}\n",
       "4     {39, 9, 11, 17, 18, 19, 23}\n",
       "5             {33, 7, 14, 25, 30}\n",
       "6                {24, 42, 28, 13}\n",
       "7          {34, 4, 5, 40, 12, 15}\n",
       "8                    {41, 27, 36}\n",
       "9                    {35, 43, 37}\n",
       "10                   {26, 20, 44}\n",
       "Name: cluster_sub, dtype: object"
      ]
     },
     "metadata": {},
     "output_type": "display_data"
    }
   ],
   "source": [
    "# this is a map of the subclusters in each supercluster\n",
    "super_sub_dict = louvain_combined_dict['go'].groupby('cluster_super')['cluster_sub'].agg(set)\n",
    "display(super_sub_dict)"
   ]
  },
  {
   "cell_type": "code",
   "execution_count": 11,
   "metadata": {},
   "outputs": [
    {
     "data": {
      "text/plain": [
       "dict_keys(['go', 'freq', 'tfidf'])"
      ]
     },
     "execution_count": 11,
     "metadata": {},
     "output_type": "execute_result"
    }
   ],
   "source": [
    "louvain_combined_dict.keys()"
   ]
  },
  {
   "cell_type": "code",
   "execution_count": 13,
   "metadata": {},
   "outputs": [],
   "source": [
    "validation_kwargs = {'n_run':100, 'metrics':['accuracy', 'matthews'], 'parallel':mp.cpu_count()-1, 'test_size':0.3}\n",
    "intra_results_dict = {}\n",
    "\n",
    "# iterate over superclusters\n",
    "for sup_ in super_sub_dict.keys():\n",
    "    # proceed if more than one subcluster in each supercluster\n",
    "    if len(super_sub_dict[sup_]) > 1:\n",
    "        intra_results_dict[sup_] = {str(clf.__class__).split('.')[-1][0:-2]:lh.validate_learnability(dat_df=val[val.cluster_super==sup_], clf=clf, Y_col_name='cluster_sub', **validation_kwargs) for key, val in louvain_combined_dict.items() for clf in classifiers}\n"
   ]
  },
  {
   "cell_type": "code",
   "execution_count": 14,
   "metadata": {},
   "outputs": [],
   "source": [
    "validation_kwargs = {'n_run':100, 'metrics':['confusion'], 'parallel':max(mp.cpu_count()-1, 5), 'test_size':0.3}\n",
    "conf_intra_results_dict = {}\n",
    "\n",
    "# add linear unbalanced svc to the classifiers for visualization\n",
    "classifiers_ext = {str(clf.__class__).split('.')[-1][0:-2]:clf for clf in classifiers}\n",
    "unbal_svm = SVC(kernel='linear')\n",
    "classifiers_ext['unbalSVM'] = unbal_svm \n",
    "\n",
    "# iterate over superclusters\n",
    "for sup_ in super_sub_dict.keys():\n",
    "    # proceed if more than one subcluster in each supercluster\n",
    "    if len(super_sub_dict[sup_]) > 1:\n",
    "        conf_intra_results_dict[sup_] = {clf_key:lh.validate_learnability(dat_df=val[val.cluster_super==sup_], clf=clf, Y_col_name='cluster_sub', **validation_kwargs) for key, val in louvain_combined_dict.items() for clf_key, clf in classifiers_ext.items()}\n"
   ]
  },
  {
   "cell_type": "code",
   "execution_count": 15,
   "metadata": {},
   "outputs": [],
   "source": [
    "## normalize the heatmap by row\n",
    "for sup_ in conf_intra_results_dict.keys():\n",
    "    for learning_algo in conf_intra_results_dict[sup_].keys():\n",
    "        # aggregate into average confusion matrix -- not integral do to random sampling size differences\n",
    "        composite_score = np.mean(conf_intra_results_dict[sup_][learning_algo], axis=0)\n",
    "        row_sums = np.sum(composite_score, axis=1)\n",
    "        # normalize\n",
    "        for i in range(composite_score.shape[0]):\n",
    "            # add 1 for stability\n",
    "            composite_score[i,:] = composite_score[i,:] / (1 if row_sums[i] == 0 else row_sums[i])\n",
    "            \n",
    "        conf_intra_results_dict[sup_][learning_algo] = composite_score"
   ]
  },
  {
   "cell_type": "code",
   "execution_count": 16,
   "metadata": {},
   "outputs": [
    {
     "data": {
      "image/png": "[encoded data removed]",
      "text/plain": [
       "<Figure size 1080x360 with 4 Axes>"
      ]
     },
     "metadata": {},
     "output_type": "display_data"
    }
   ],
   "source": [
    "fig, axes = plt.subplots(ncols=4, nrows=1, figsize=(15,5), gridspec_kw={'width_ratios':[10,10,10,1]})\n",
    "for ax in axes[:3]:\n",
    "    ax.axis('off')\n",
    "\n",
    "## put complementNB on the right    \n",
    "intra_heatmap_matrix = np.zeros((len(set(louvain_combined_dict['go'].cluster_sub)),len(set(louvain_combined_dict['go'].cluster_sub))))\n",
    "intra_heatmap_mask = np.ones_like(intra_heatmap_matrix)\n",
    "\n",
    "running_index = 0\n",
    "for sup_ in super_sub_dict.keys():\n",
    "    num_sub_in_sup = len(super_sub_dict[sup_])\n",
    "    \n",
    "    if num_sub_in_sup > 1:\n",
    "        intra_heatmap_matrix[running_index:running_index+num_sub_in_sup, \n",
    "                            running_index:running_index+num_sub_in_sup] = conf_intra_results_dict[sup_]['ComplementNB']\n",
    "    intra_heatmap_mask[running_index:running_index+num_sub_in_sup, \n",
    "                            running_index:running_index+num_sub_in_sup] = 0    \n",
    "        \n",
    "    running_index += num_sub_in_sup\n",
    "    \n",
    "sns.heatmap(intra_heatmap_matrix, mask=intra_heatmap_mask, cmap=plt.cm.viridis, square=True, cbar=True, ax=axes[2], cbar_ax=axes[3])\n",
    "\n",
    "\n",
    "## put balanced SVC in the middle\n",
    "intra_heatmap_matrix = np.zeros_like(intra_heatmap_matrix)\n",
    "intra_heatmap_mask = np.ones_like(intra_heatmap_matrix)\n",
    "\n",
    "running_index = 0\n",
    "for sup_ in super_sub_dict.keys():\n",
    "    num_sub_in_sup = len(super_sub_dict[sup_])\n",
    "    \n",
    "    if num_sub_in_sup > 1:\n",
    "        intra_heatmap_matrix[running_index:running_index+num_sub_in_sup, \n",
    "                            running_index:running_index+num_sub_in_sup] = conf_intra_results_dict[sup_]['SVC']\n",
    "    intra_heatmap_mask[running_index:running_index+num_sub_in_sup, \n",
    "                            running_index:running_index+num_sub_in_sup] = 0    \n",
    "        \n",
    "    running_index += num_sub_in_sup\n",
    "    \n",
    "\n",
    "sns.heatmap(intra_heatmap_matrix, mask=intra_heatmap_mask, cmap=plt.cm.viridis, square=True, cbar=False, ax=axes[1])\n",
    "\n",
    "### put unbalanced svc on the left\n",
    "intra_heatmap_matrix = np.zeros_like(intra_heatmap_matrix)\n",
    "intra_heatmap_mask = np.ones_like(intra_heatmap_matrix)\n",
    "\n",
    "running_index = 0\n",
    "for sup_ in super_sub_dict.keys():\n",
    "    num_sub_in_sup = len(super_sub_dict[sup_])\n",
    "    \n",
    "    if num_sub_in_sup > 1:\n",
    "        intra_heatmap_matrix[running_index:running_index+num_sub_in_sup, \n",
    "                            running_index:running_index+num_sub_in_sup] = conf_intra_results_dict[sup_]['unbalSVM']\n",
    "    intra_heatmap_mask[running_index:running_index+num_sub_in_sup, \n",
    "                            running_index:running_index+num_sub_in_sup] = 0    \n",
    "        \n",
    "    running_index += num_sub_in_sup\n",
    "    \n",
    "sns.heatmap(intra_heatmap_matrix, mask=intra_heatmap_mask, cmap=plt.cm.viridis, square=True, cbar=False, ax=axes[0])\n",
    "\n",
    "\n",
    "## layout and titles\n",
    "plt.tight_layout()\n",
    "axes[0].set_title('Unbalanced Linear SVM')\n",
    "axes[1].set_title('Balanced Linear SVM')\n",
    "axes[2].set_title('Complement Naïve Bayes')\n",
    "\n",
    "plt.savefig('../viz/images/pdf/randomized_intracluster_learnability_comparison.pdf')\n",
    "plt.savefig('../viz/images/png/randomized_intracluster_learnability_comparison.png')\n",
    "\n",
    "plt.show()"
   ]
  },
  {
   "cell_type": "markdown",
   "metadata": {},
   "source": [
    "### Use Existing GO Slim whitelist"
   ]
  },
  {
   "cell_type": "code",
   "execution_count": 17,
   "metadata": {},
   "outputs": [],
   "source": [
    "go_slim_data_dict, go_slim_transform_dict = lh.get_go_data_dict(go_file='../data/goData/kinase_go_slim_processes.csv')"
   ]
  },
  {
   "cell_type": "code",
   "execution_count": 18,
   "metadata": {},
   "outputs": [
    {
     "data": {
      "text/plain": [
       "(247,)"
      ]
     },
     "execution_count": 18,
     "metadata": {},
     "output_type": "execute_result"
    }
   ],
   "source": [
    "go_slim_data_dict['freq'].iloc[1].shape"
   ]
  },
  {
   "cell_type": "code",
   "execution_count": 19,
   "metadata": {},
   "outputs": [],
   "source": [
    "missing = list(set(go_slim_data_dict['go'].index) - set(go_slim_data_dict['freq'].index))\n",
    "\n",
    "missing_df = pd.DataFrame([[[0]*len(go_slim_data_dict['freq'].iloc[0])]], index=missing)\n",
    "go_slim_data_dict['freq'] = go_slim_data_dict['freq'].append(missing_df)\n",
    "#missing_df"
   ]
  },
  {
   "cell_type": "code",
   "execution_count": 20,
   "metadata": {
    "scrolled": true
   },
   "outputs": [
    {
     "data": {
      "text/html": [
       "<div>\n",
       "<style scoped>\n",
       "    .dataframe tbody tr th:only-of-type {\n",
       "        vertical-align: middle;\n",
       "    }\n",
       "\n",
       "    .dataframe tbody tr th {\n",
       "        vertical-align: top;\n",
       "    }\n",
       "\n",
       "    .dataframe thead th {\n",
       "        text-align: right;\n",
       "    }\n",
       "</style>\n",
       "<table border=\"1\" class=\"dataframe\">\n",
       "  <thead>\n",
       "    <tr style=\"text-align: right;\">\n",
       "      <th></th>\n",
       "      <th>cluster_super</th>\n",
       "      <th>cluster_sub</th>\n",
       "      <th>GO Labels</th>\n",
       "    </tr>\n",
       "    <tr>\n",
       "      <th>names</th>\n",
       "      <th></th>\n",
       "      <th></th>\n",
       "      <th></th>\n",
       "    </tr>\n",
       "  </thead>\n",
       "  <tbody>\n",
       "    <tr>\n",
       "      <th>MST1R</th>\n",
       "      <td>7</td>\n",
       "      <td>4</td>\n",
       "      <td>[0, 0, 0, 0, 0, 0, 0, 0, 0, 0, 0, 0, 0, 0, 0, ...</td>\n",
       "    </tr>\n",
       "    <tr>\n",
       "      <th>YES1</th>\n",
       "      <td>7</td>\n",
       "      <td>4</td>\n",
       "      <td>[0, 0, 0, 0, 0, 0, 0, 0, 0, 0, 0, 0, 0, 0, 0, ...</td>\n",
       "    </tr>\n",
       "    <tr>\n",
       "      <th>TYRO3</th>\n",
       "      <td>2</td>\n",
       "      <td>6</td>\n",
       "      <td>[0, 0, 0, 0, 0, 0, 0, 0, 0, 0, 0, 0, 0, 0, 0, ...</td>\n",
       "    </tr>\n",
       "    <tr>\n",
       "      <th>FGR</th>\n",
       "      <td>1</td>\n",
       "      <td>1</td>\n",
       "      <td>[0, 0, 0, 0, 0, 0, 0, 0, 0, 0, 0, 0, 0, 0, 0, ...</td>\n",
       "    </tr>\n",
       "    <tr>\n",
       "      <th>SRC</th>\n",
       "      <td>1</td>\n",
       "      <td>3</td>\n",
       "      <td>[0, 0, 0, 0, 0, 0, 0, 0, 0, 0, 0, 0, 0, 0, 0, ...</td>\n",
       "    </tr>\n",
       "  </tbody>\n",
       "</table>\n",
       "</div>"
      ],
      "text/plain": [
       "       cluster_super  cluster_sub  \\\n",
       "names                               \n",
       "MST1R              7            4   \n",
       "YES1               7            4   \n",
       "TYRO3              2            6   \n",
       "FGR                1            1   \n",
       "SRC                1            3   \n",
       "\n",
       "                                               GO Labels  \n",
       "names                                                     \n",
       "MST1R  [0, 0, 0, 0, 0, 0, 0, 0, 0, 0, 0, 0, 0, 0, 0, ...  \n",
       "YES1   [0, 0, 0, 0, 0, 0, 0, 0, 0, 0, 0, 0, 0, 0, 0, ...  \n",
       "TYRO3  [0, 0, 0, 0, 0, 0, 0, 0, 0, 0, 0, 0, 0, 0, 0, ...  \n",
       "FGR    [0, 0, 0, 0, 0, 0, 0, 0, 0, 0, 0, 0, 0, 0, 0, ...  \n",
       "SRC    [0, 0, 0, 0, 0, 0, 0, 0, 0, 0, 0, 0, 0, 0, 0, ...  "
      ]
     },
     "execution_count": 20,
     "metadata": {},
     "output_type": "execute_result"
    }
   ],
   "source": [
    "louv = copy(louvain_super_dict['go'])\n",
    "louv.columns = ['cluster_super', 'GO Labels']\n",
    "louv['cluster_sub'] = louvain_sub_dict['go']['cluster']\n",
    "louv = louv[['cluster_super', 'cluster_sub', 'GO Labels']]\n",
    "louv.head()"
   ]
  },
  {
   "cell_type": "code",
   "execution_count": 21,
   "metadata": {},
   "outputs": [
    {
     "data": {
      "text/html": [
       "<div>\n",
       "<style scoped>\n",
       "    .dataframe tbody tr th:only-of-type {\n",
       "        vertical-align: middle;\n",
       "    }\n",
       "\n",
       "    .dataframe tbody tr th {\n",
       "        vertical-align: top;\n",
       "    }\n",
       "\n",
       "    .dataframe thead th {\n",
       "        text-align: right;\n",
       "    }\n",
       "</style>\n",
       "<table border=\"1\" class=\"dataframe\">\n",
       "  <thead>\n",
       "    <tr style=\"text-align: right;\">\n",
       "      <th></th>\n",
       "      <th>GO Labels</th>\n",
       "      <th>cluster</th>\n",
       "    </tr>\n",
       "  </thead>\n",
       "  <tbody>\n",
       "    <tr>\n",
       "      <th>MKNK1</th>\n",
       "      <td>[0, 0, 0, 0, 0, 0, 0, 0, 0, 0, 0, 0, 0, 0, 0, ...</td>\n",
       "      <td>8</td>\n",
       "    </tr>\n",
       "    <tr>\n",
       "      <th>CDKL4</th>\n",
       "      <td>[0, 0, 0, 0, 0, 0, 0, 0, 0, 0, 0, 0, 0, 0, 0, ...</td>\n",
       "      <td>6</td>\n",
       "    </tr>\n",
       "    <tr>\n",
       "      <th>BTK</th>\n",
       "      <td>[0, 0, 0, 1, 0, 1, 0, 0, 1, 0, 0, 1, 0, 0, 0, ...</td>\n",
       "      <td>3</td>\n",
       "    </tr>\n",
       "    <tr>\n",
       "      <th>BUB1B</th>\n",
       "      <td>[0, 0, 0, 0, 0, 0, 0, 0, 0, 0, 0, 0, 0, 0, 0, ...</td>\n",
       "      <td>7</td>\n",
       "    </tr>\n",
       "    <tr>\n",
       "      <th>WNK4</th>\n",
       "      <td>[0, 0, 0, 0, 0, 0, 0, 0, 0, 0, 0, 0, 0, 0, 0, ...</td>\n",
       "      <td>5</td>\n",
       "    </tr>\n",
       "  </tbody>\n",
       "</table>\n",
       "</div>"
      ],
      "text/plain": [
       "                                               GO Labels  cluster\n",
       "MKNK1  [0, 0, 0, 0, 0, 0, 0, 0, 0, 0, 0, 0, 0, 0, 0, ...        8\n",
       "CDKL4  [0, 0, 0, 0, 0, 0, 0, 0, 0, 0, 0, 0, 0, 0, 0, ...        6\n",
       "BTK    [0, 0, 0, 1, 0, 1, 0, 0, 1, 0, 0, 1, 0, 0, 0, ...        3\n",
       "BUB1B  [0, 0, 0, 0, 0, 0, 0, 0, 0, 0, 0, 0, 0, 0, 0, ...        7\n",
       "WNK4   [0, 0, 0, 0, 0, 0, 0, 0, 0, 0, 0, 0, 0, 0, 0, ...        5"
      ]
     },
     "execution_count": 21,
     "metadata": {},
     "output_type": "execute_result"
    }
   ],
   "source": [
    "slim_test = copy(pd.DataFrame(go_slim_data_dict['freq']))\n",
    "slim_test.columns = ['GO Labels']\n",
    "slim_test['cluster'] = pd.Series(slim_test.index, index=slim_test.index).map(louv.cluster_super.to_dict())\n",
    "slim_test.head()"
   ]
  },
  {
   "cell_type": "code",
   "execution_count": 22,
   "metadata": {},
   "outputs": [
    {
     "data": {
      "text/plain": [
       "['BMP signaling pathway',\n",
       " 'DNA damage induced protein phosphorylation',\n",
       " 'DNA repair',\n",
       " 'DNA-templated',\n",
       " 'ERK1 and ERK2 cascade',\n",
       " 'Fc-epsilon receptor signaling pathway',\n",
       " 'MAPK cascade',\n",
       " 'Mullerian duct regression',\n",
       " 'MyD88-dependent toll-like receptor signaling pathway',\n",
       " 'MyD88-independent toll-like receptor signaling pathway',\n",
       " 'Rho protein signal transduction',\n",
       " 'T cell receptor signaling pathway',\n",
       " 'Wnt signaling pathway',\n",
       " 'actin cytoskeleton organization',\n",
       " 'actin cytoskeleton reorganization',\n",
       " 'activation of GTPase activity',\n",
       " 'activation of JUN kinase activity',\n",
       " 'activin receptor signaling pathway',\n",
       " 'adherens junction assembly',\n",
       " 'angiogenesis',\n",
       " 'animal organ morphogenesis',\n",
       " 'anterior/posterior pattern specification',\n",
       " 'apoptotic mitochondrial changes',\n",
       " 'apoptotic process',\n",
       " 'apoptotic signaling pathway',\n",
       " 'attachment of spindle microtubules to kinetochore',\n",
       " 'axon guidance',\n",
       " 'blood coagulation',\n",
       " 'branching involved in blood vessel morphogenesis',\n",
       " 'branching morphogenesis of an epithelial tube',\n",
       " 'calcium ion transport',\n",
       " 'canonical Wnt signaling pathway',\n",
       " 'canonical glycolysis',\n",
       " 'cartilage condensation',\n",
       " 'cell adhesion',\n",
       " 'cell cycle arrest',\n",
       " 'cell differentiation',\n",
       " 'cell fate commitment',\n",
       " 'cell maturation',\n",
       " 'cell migration',\n",
       " 'cell morphogenesis',\n",
       " 'cell proliferation',\n",
       " 'cell surface receptor signaling pathway',\n",
       " 'cell-cell signaling',\n",
       " 'cell-matrix adhesion',\n",
       " 'cell-substrate adhesion',\n",
       " 'cellular protein modification process',\n",
       " 'cellular response to DNA damage stimulus',\n",
       " 'cellular response to granulocyte macrophage colony-stimulating factor stimulus',\n",
       " 'cellular response to insulin stimulus']"
      ]
     },
     "execution_count": 22,
     "metadata": {},
     "output_type": "execute_result"
    }
   ],
   "source": [
    "louv_X, __, louv_y, __ = lh.get_tts(dat=slim_test,test_size=0)\n",
    "louv_slim_super_characterizers = [SVC(kernel='linear', class_weight='balanced'), CNB()]\n",
    "for clf in louv_slim_super_characterizers:\n",
    "    clf.fit(louv_X, louv_y)\n",
    "    \n",
    "slim_feat = list(go_slim_transform_dict['freq'].classes_)#.to_list()\n",
    "slim_feat[:50]"
   ]
  },
  {
   "cell_type": "code",
   "execution_count": 23,
   "metadata": {},
   "outputs": [
    {
     "data": {
      "text/plain": [
       "0.5957446808510638"
      ]
     },
     "execution_count": 23,
     "metadata": {},
     "output_type": "execute_result"
    }
   ],
   "source": [
    "louv_slim_super_characterizers[0].score(louv_X, louv_y)"
   ]
  },
  {
   "cell_type": "markdown",
   "metadata": {},
   "source": [
    "### Cluster Comparison"
   ]
  },
  {
   "cell_type": "code",
   "execution_count": 24,
   "metadata": {},
   "outputs": [],
   "source": [
    "louv_sup = louv['cluster_super']\n",
    "#spin = spinglass_clusters.set_index('names').drop('GO Labels', axis=1)\n",
    "fast = pd.read_csv(cluster_dir+fastgreedy_file, sep='\\t',index_col=0)['cluster']"
   ]
  },
  {
   "cell_type": "markdown",
   "metadata": {},
   "source": [
    "Below is the fast_greedy membership of each c_spinglass cluster"
   ]
  },
  {
   "cell_type": "code",
   "execution_count": 25,
   "metadata": {},
   "outputs": [
    {
     "data": {
      "image/png": "[encoded data removed]",
      "text/plain": [
       "<Figure size 1152x504 with 3 Axes>"
      ]
     },
     "metadata": {},
     "output_type": "display_data"
    }
   ],
   "source": [
    "import seaborn as sns\n",
    "from sklearn.metrics.cluster import contingency_matrix\n",
    "\n",
    "fig, axes = plt.subplots(ncols=3, figsize=(16,7), sharey=False, gridspec_kw={'width_ratios':[10,10,1]})\n",
    "\n",
    "# fast_greedy membership of louv\n",
    "cont_mat = pd.DataFrame(contingency_matrix(fast, louv_sup))\n",
    "cont_mat = cont_mat.divide(other = cont_mat.sum(axis=0),axis = 1)\n",
    "cont_mat_mask = cont_mat.values == 0\n",
    "\n",
    "axes[0].set_title('fast_greedy Containment\\n in louvain_super', size=12)\n",
    "axes[0].tick_params(axis='both', length=0)\n",
    "sns.heatmap(cont_mat, ax=axes[0], cmap='Reds', cbar=False, square=True, annot=True, mask=cont_mat_mask)\n",
    "\n",
    "# louv membership of fast_greedy\n",
    "cont_mat_rev = pd.DataFrame(contingency_matrix(fast, louv_sup))\n",
    "cont_mat_rev = cont_mat.divide(other = cont_mat.sum(axis=1),axis = 0)\n",
    "cont_mat_rev_mask = cont_mat_rev.values == 0\n",
    "\n",
    "axes[1].set_title('louvain_super Containment\\n in fast_greedy', size=12)\n",
    "axes[1].tick_params(axis='both', length=0)\n",
    "sns.heatmap(cont_mat_rev, ax=axes[1], cmap='Purples', cbar_ax=axes[2], square=True, annot=True, mask=cont_mat_rev_mask)\n",
    "\n",
    "plt.savefig('../viz/images/pdf/randomized_louv_fast_compare.pdf')\n",
    "plt.savefig('../viz/images/png/randomized_louv_fast_compare.png')\n",
    "\n",
    "plt.show()"
   ]
  },
  {
   "cell_type": "code",
   "execution_count": 26,
   "metadata": {},
   "outputs": [
    {
     "data": {
      "image/png": "[encoded data removed]",
      "text/plain": [
       "<Figure size 720x504 with 2 Axes>"
      ]
     },
     "metadata": {},
     "output_type": "display_data"
    }
   ],
   "source": [
    "%matplotlib inline\n",
    "fig, ax = plt.subplots(figsize=(10,7))\n",
    "\n",
    "plt.rc('font', **{'family':'normal', 'size':9})    \n",
    "ax.set_title('louvain_super Containment\\n in fast_greedy clusters', size=15)\n",
    "ax.tick_params(axis='both', length=0)\n",
    "\n",
    "sns.heatmap(cont_mat_rev, ax=ax, cmap='Purples',square=True, annot=True, mask=cont_mat_rev_mask)\n",
    "plt.xlabel('\\nfast_greedy\\ncluster membership')\n",
    "plt.ylabel('Proportion of kinases from\\nlouvain supercluster\\n')\n",
    "\n",
    "plt.savefig('../viz/images/pdf/randomized_louvain_in_fast_greedy.pdf')\n",
    "plt.savefig('../viz/images/png/randomized_louvain_in_fast_greedy.png')\n",
    "\n",
    "plt.show()"
   ]
  },
  {
   "cell_type": "markdown",
   "metadata": {},
   "source": [
    "Below is the louvain membership of each fast_greedy cluster"
   ]
  },
  {
   "cell_type": "markdown",
   "metadata": {},
   "source": [
    "Rand correlation matrix"
   ]
  },
  {
   "cell_type": "code",
   "execution_count": 27,
   "metadata": {},
   "outputs": [],
   "source": [
    "clusts = {}\n",
    "for method in method_list:\n",
    "    cl = composite_data_dict[method]['go']\n",
    "    clusts[method] = np.squeeze(cl.drop(['GO Labels'], axis=1).values)"
   ]
  },
  {
   "cell_type": "code",
   "execution_count": 28,
   "metadata": {},
   "outputs": [
    {
     "data": {
      "image/png": "[encoded data removed]",
      "text/plain": [
       "<Figure size 1080x864 with 2 Axes>"
      ]
     },
     "metadata": {},
     "output_type": "display_data"
    }
   ],
   "source": [
    "from sklearn.metrics import adjusted_rand_score as rand\n",
    "rand_corr_matrix = np.zeros((len(clusts), len(clusts)))\n",
    "\n",
    "fig, ax = plt.subplots(figsize=(15,12))\n",
    "\n",
    "for i in range(len(clusts)):\n",
    "    for j in range(len(clusts)):\n",
    "        rand_corr_matrix[i,j] = rand(clusts[method_list[i]], clusts[method_list[j]])\n",
    "\n",
    "mask = np.zeros_like(rand_corr_matrix, dtype=np.bool)\n",
    "mask[np.triu_indices_from(mask)] = True\n",
    "        \n",
    "ax.tick_params(axis='both', length=0)\n",
    "ax.set_title('Randomized\\nAdj Rand Scores\\nacross clusterings')\n",
    "sns.heatmap(rand_corr_matrix,mask=mask,cmap='viridis', square=True, vmax=.85, cbar_kws={\"shrink\": .9}, linewidths=0.01, xticklabels=method_list,yticklabels=method_list, ax = ax, annot=True)\n",
    "\n",
    "plt.savefig('../viz/images/pdf/randomized_adj_rand_scores.pdf')\n",
    "plt.savefig('../viz/images/png/randomized_adj_rand_scores.png')\n",
    "\n",
    "plt.show()"
   ]
  },
  {
   "cell_type": "markdown",
   "metadata": {},
   "source": [
    "## Control 2: Randomized GO Annotations\n",
    "#### Use the same network as in 04_GOLearnability, but randomly shuffle the training predictor covariates"
   ]
  },
  {
   "cell_type": "code",
   "execution_count": 29,
   "metadata": {},
   "outputs": [],
   "source": [
    "ind = go_data_dict['go'].index\n",
    "vals = go_data_dict['go'].values\n",
    "for key in go_data_dict.keys():\n",
    "    ind = go_data_dict[key].index\n",
    "    vals = go_data_dict[key].values\n",
    "    \n",
    "    # set the same random seed to preserve across 'go', 'freq', and 'tfidf'\n",
    "    np.random.seed(1920)\n",
    "    np.random.shuffle(vals)\n",
    "    \n",
    "    go_data_dict[key] = pd.DataFrame(pd.Series(vals, index=ind, name='GO Labels'))"
   ]
  },
  {
   "cell_type": "code",
   "execution_count": 30,
   "metadata": {},
   "outputs": [
    {
     "name": "stdout",
     "output_type": "stream",
     "text": [
      "Dropped  0 kinases due to zero length post-processing\n",
      "Dropped  5 kinases due to zero length post-processing\n",
      "Dropped  36 kinases due to zero length post-processing\n",
      "Dropped  0 kinases due to zero length post-processing\n",
      "Dropped  5 kinases due to zero length post-processing\n",
      "Dropped  36 kinases due to zero length post-processing\n",
      "Dropped  0 kinases due to zero length post-processing\n",
      "Dropped  5 kinases due to zero length post-processing\n",
      "Dropped  36 kinases due to zero length post-processing\n",
      "Dropped  0 kinases due to zero length post-processing\n",
      "Dropped  5 kinases due to zero length post-processing\n",
      "Dropped  36 kinases due to zero length post-processing\n",
      "Dropped  0 kinases due to zero length post-processing\n",
      "Dropped  5 kinases due to zero length post-processing\n",
      "Dropped  36 kinases due to zero length post-processing\n",
      "Dropped  0 kinases due to zero length post-processing\n",
      "Dropped  5 kinases due to zero length post-processing\n",
      "Dropped  36 kinases due to zero length post-processing\n",
      "Dropped  0 kinases due to zero length post-processing\n",
      "Dropped  5 kinases due to zero length post-processing\n",
      "Dropped  36 kinases due to zero length post-processing\n",
      "Dropped  0 kinases due to zero length post-processing\n",
      "Dropped  5 kinases due to zero length post-processing\n",
      "Dropped  36 kinases due to zero length post-processing\n",
      "Dropped  0 kinases due to zero length post-processing\n",
      "Dropped  5 kinases due to zero length post-processing\n",
      "Dropped  36 kinases due to zero length post-processing\n"
     ]
    }
   ],
   "source": [
    "cluster_dir = '../results/weighted/'\n",
    "\n",
    "spinglass_file = 'consensus_spinglass.txt'\n",
    "spinglass_data_dict = {key:lh.add_cluster_labels(cluster_dir+spinglass_file,\n",
    "                                  val) for key, val in go_data_dict.items()}\n",
    "\n",
    "fastgreedy_file = 'fastgreedy_clusters.txt'\n",
    "fastgreedy_data_dict = {key:lh.add_cluster_labels(cluster_dir+fastgreedy_file,\n",
    "                                  val) for key, val in go_data_dict.items()}\n",
    "\n",
    "eigen_file = 'consensus_eigenvector.txt'\n",
    "eigen_data_dict = {key:lh.add_cluster_labels(cluster_dir+eigen_file,\n",
    "                                  val) for key, val in go_data_dict.items()}\n",
    "\n",
    "labelprop_file = 'consensus_label_propagation.txt'\n",
    "labelprop_dict = {key:lh.add_cluster_labels(cluster_dir+labelprop_file,\n",
    "                                  val) for key, val in go_data_dict.items()}\n",
    "\n",
    "walktrap_file = 'consensus_walktrap.txt'\n",
    "walktrap_dict = {key:lh.add_cluster_labels(cluster_dir+walktrap_file,\n",
    "                                  val) for key, val in go_data_dict.items()}\n",
    "\n",
    "louvain_super_file = 'louvain_clusters.txt'\n",
    "louvain_super_dict = {key:lh.add_cluster_labels(cluster_dir+louvain_super_file,\n",
    "                                  val) for key, val in go_data_dict.items()}\n",
    "\n",
    "louvain_sub_file = 'louvain_small_clusters.txt'\n",
    "louvain_sub_dict = {key:lh.add_cluster_labels(cluster_dir+louvain_sub_file,\n",
    "                                  val) for key, val in go_data_dict.items()}\n",
    "\n",
    "infomap_file = 'consensus_infomap.txt'\n",
    "infomap_dict = {key:lh.add_cluster_labels(cluster_dir+infomap_file,\n",
    "                                  val) for key, val in go_data_dict.items()}\n",
    "\n",
    "edge_betweenness_file = 'edge_betweenness_community_clusters.txt'\n",
    "edge_betweenness_dict = {key:lh.add_cluster_labels(cluster_dir+edge_betweenness_file,\n",
    "                                  val) for key, val in go_data_dict.items()}\n",
    "\n",
    "method_list = ['spinglass', 'fastgreedy', 'eigen', 'labelprop', 'walktrap', 'louvain_super', 'louvain_sub', 'infomap', 'edge_between']\n",
    "method_dicts = [spinglass_data_dict, fastgreedy_data_dict, eigen_data_dict, labelprop_dict, walktrap_dict, louvain_super_dict, louvain_sub_dict, infomap_dict, edge_betweenness_dict]\n",
    "composite_data_dict = {x:y for x,y in zip(method_list, method_dicts)}"
   ]
  },
  {
   "cell_type": "code",
   "execution_count": 31,
   "metadata": {},
   "outputs": [],
   "source": [
    "validation_kwargs = {'n_run':100, 'metrics':['accuracy', 'matthews', 'prf'], 'parallel':max(1, mp.cpu_count()-1), 'test_size':0.3}\n",
    "results_dict = {}\n",
    "\n",
    "for method in composite_data_dict.keys():\n",
    "    results_dict[method] = {str(clf.__class__).split('.')[-1][0:-2]:lh.validate_learnability(dat_df=val, clf=clf, **validation_kwargs) for key, val in composite_data_dict[method].items() for clf in classifiers}\n",
    "\n",
    "# break the class-wise precision, recall, and f-score results off\n",
    "prf_results = {}\n",
    "for method in composite_data_dict.keys():\n",
    "    prf_results[method] = {}\n",
    "    for key in results_dict[method].keys():\n",
    "        # convert the multiple scores to lists\n",
    "        results_dict[method][key] = list(zip(*results_dict[method][key]))\n",
    "        \n",
    "        # pop the last item in the list, the prf score\n",
    "        prf_results[method][key] = results_dict[method][key].pop(-1)    \n"
   ]
  },
  {
   "cell_type": "code",
   "execution_count": 32,
   "metadata": {},
   "outputs": [
    {
     "name": "stdout",
     "output_type": "stream",
     "text": [
      "Accuracy, MCC\n",
      "spinglass | [0.11668965517241381, -0.0030556774025551387]\n",
      "fastgreedy | [0.24172413793103448, 0.03923193394844065]\n",
      "eigen | [0.2431724137931035, 0.012302126993513867]\n",
      "labelprop | [0.9748965517241378, -0.004512910118718396]\n",
      "walktrap | [0.4707586206896552, 0.053234857664174726]\n",
      "louvain_super | [0.18103448275862072, 0.02372399471748242]\n",
      "louvain_sub | [0.1247586206896552, 0.007816391522799669]\n",
      "infomap | [0.17117241379310344, -0.007488996441803397]\n",
      "edge_between | [0.09565517241379312, 0.0019475892503043055]\n",
      "\n",
      "Acc Std, MCC Std\n",
      "spinglass | [0.05360426625078804, 0.024284672953401976]\n",
      "fastgreedy | [0.0325437599842429, 0.04147483735767249]\n",
      "eigen | [0.031748416496881426, 0.03988941182887286]\n",
      "labelprop | [0.010206896551724116, 0.004925710774217325]\n",
      "walktrap | [0.09166251494940006, 0.05601905938866726]\n",
      "louvain_super | [0.026104609822469156, 0.030762923595313265]\n",
      "louvain_sub | [0.03768692610872338, 0.024253003236910525]\n",
      "infomap | [0.1625960029227917, 0.026958163996540663]\n",
      "edge_between | [0.08252642714409753, 0.02194835476658325]\n"
     ]
    }
   ],
   "source": [
    "mean_results = {}\n",
    "std_results = {}\n",
    "\n",
    "for method in method_list:\n",
    "    mean_results[method] = {key:[np.mean(np.array(score_arr)) for score_arr in results_dict[method][key]] for key in results_dict[method].keys()}\n",
    "    std_results[method] = {key:[np.std(np.array(score_arr)) for score_arr in results_dict[method][key]] for key in results_dict[method].keys()}\n",
    "    \n",
    "print('Accuracy, MCC')\n",
    "for method in method_list:\n",
    "    print(method+' | '+str(mean_results[method]['SVC']))\n",
    "        \n",
    "print('\\nAcc Std, MCC Std')    \n",
    "for method in method_list:\n",
    "    print(method+' | '+str(std_results[method]['SVC']))"
   ]
  },
  {
   "cell_type": "code",
   "execution_count": 33,
   "metadata": {},
   "outputs": [
    {
     "data": {
      "text/html": [
       "<div>\n",
       "<style scoped>\n",
       "    .dataframe tbody tr th:only-of-type {\n",
       "        vertical-align: middle;\n",
       "    }\n",
       "\n",
       "    .dataframe tbody tr th {\n",
       "        vertical-align: top;\n",
       "    }\n",
       "\n",
       "    .dataframe thead th {\n",
       "        text-align: right;\n",
       "    }\n",
       "</style>\n",
       "<table border=\"1\" class=\"dataframe\">\n",
       "  <thead>\n",
       "    <tr style=\"text-align: right;\">\n",
       "      <th></th>\n",
       "      <th>fast_greedy</th>\n",
       "      <th>spinglass</th>\n",
       "      <th>eigen</th>\n",
       "      <th>walktrap</th>\n",
       "      <th>label</th>\n",
       "      <th>louvain</th>\n",
       "      <th>small_louvain</th>\n",
       "      <th>infomap</th>\n",
       "      <th>edge_between</th>\n",
       "    </tr>\n",
       "  </thead>\n",
       "  <tbody>\n",
       "    <tr>\n",
       "      <th>0</th>\n",
       "      <td>0.279008</td>\n",
       "      <td>0.26696</td>\n",
       "      <td>0.229506</td>\n",
       "      <td>0.06015</td>\n",
       "      <td>0.005479</td>\n",
       "      <td>0.314593</td>\n",
       "      <td>0.300422</td>\n",
       "      <td>0.174903</td>\n",
       "      <td>0.16289</td>\n",
       "    </tr>\n",
       "  </tbody>\n",
       "</table>\n",
       "</div>"
      ],
      "text/plain": [
       "   fast_greedy  spinglass     eigen  walktrap     label   louvain  \\\n",
       "0     0.279008    0.26696  0.229506   0.06015  0.005479  0.314593   \n",
       "\n",
       "   small_louvain   infomap  edge_between  \n",
       "0       0.300422  0.174903       0.16289  "
      ]
     },
     "execution_count": 33,
     "metadata": {},
     "output_type": "execute_result"
    }
   ],
   "source": [
    "mod_table = pd.read_csv('../results/weighted/clustering_modularity_results.txt', sep='\\t')\n",
    "mod_table"
   ]
  },
  {
   "cell_type": "code",
   "execution_count": 34,
   "metadata": {},
   "outputs": [
    {
     "data": {
      "text/html": [
       "<div>\n",
       "<style scoped>\n",
       "    .dataframe tbody tr th:only-of-type {\n",
       "        vertical-align: middle;\n",
       "    }\n",
       "\n",
       "    .dataframe tbody tr th {\n",
       "        vertical-align: top;\n",
       "    }\n",
       "\n",
       "    .dataframe thead th {\n",
       "        text-align: right;\n",
       "    }\n",
       "</style>\n",
       "<table border=\"1\" class=\"dataframe\">\n",
       "  <thead>\n",
       "    <tr style=\"text-align: right;\">\n",
       "      <th></th>\n",
       "      <th>No. Clusters</th>\n",
       "      <th>Mean size</th>\n",
       "      <th>sigma size</th>\n",
       "      <th>Largest clust</th>\n",
       "      <th>Mod</th>\n",
       "      <th>Comp Acc</th>\n",
       "      <th>sigma Comp Acc</th>\n",
       "      <th>Comp MCC</th>\n",
       "      <th>sigma Comp MCC</th>\n",
       "    </tr>\n",
       "  </thead>\n",
       "  <tbody>\n",
       "    <tr>\n",
       "      <th>walktrap</th>\n",
       "      <td>12</td>\n",
       "      <td>43.1</td>\n",
       "      <td>94.2</td>\n",
       "      <td>331</td>\n",
       "      <td>0.0055</td>\n",
       "      <td>0.4508</td>\n",
       "      <td>0.0623</td>\n",
       "      <td>0.0560</td>\n",
       "      <td>0.0516</td>\n",
       "    </tr>\n",
       "    <tr>\n",
       "      <th>fastgreedy</th>\n",
       "      <td>10</td>\n",
       "      <td>51.7</td>\n",
       "      <td>50.7</td>\n",
       "      <td>133</td>\n",
       "      <td>0.2670</td>\n",
       "      <td>0.2223</td>\n",
       "      <td>0.0296</td>\n",
       "      <td>0.0316</td>\n",
       "      <td>0.0361</td>\n",
       "    </tr>\n",
       "    <tr>\n",
       "      <th>louvain_super</th>\n",
       "      <td>9</td>\n",
       "      <td>57.4</td>\n",
       "      <td>35.8</td>\n",
       "      <td>142</td>\n",
       "      <td>0.3146</td>\n",
       "      <td>0.1692</td>\n",
       "      <td>0.0259</td>\n",
       "      <td>0.0201</td>\n",
       "      <td>0.0306</td>\n",
       "    </tr>\n",
       "    <tr>\n",
       "      <th>eigen</th>\n",
       "      <td>5</td>\n",
       "      <td>103.4</td>\n",
       "      <td>43.8</td>\n",
       "      <td>185</td>\n",
       "      <td>0.2295</td>\n",
       "      <td>0.2388</td>\n",
       "      <td>0.0316</td>\n",
       "      <td>0.0137</td>\n",
       "      <td>0.0399</td>\n",
       "    </tr>\n",
       "    <tr>\n",
       "      <th>spinglass</th>\n",
       "      <td>77</td>\n",
       "      <td>6.7</td>\n",
       "      <td>17.0</td>\n",
       "      <td>118</td>\n",
       "      <td>0.2790</td>\n",
       "      <td>0.1150</td>\n",
       "      <td>0.0378</td>\n",
       "      <td>0.0122</td>\n",
       "      <td>0.0228</td>\n",
       "    </tr>\n",
       "    <tr>\n",
       "      <th>louvain_sub</th>\n",
       "      <td>26</td>\n",
       "      <td>19.9</td>\n",
       "      <td>27.9</td>\n",
       "      <td>123</td>\n",
       "      <td>0.3004</td>\n",
       "      <td>0.1206</td>\n",
       "      <td>0.0301</td>\n",
       "      <td>0.0105</td>\n",
       "      <td>0.0235</td>\n",
       "    </tr>\n",
       "    <tr>\n",
       "      <th>edge_between</th>\n",
       "      <td>205</td>\n",
       "      <td>2.5</td>\n",
       "      <td>11.3</td>\n",
       "      <td>143</td>\n",
       "      <td>0.1629</td>\n",
       "      <td>0.1031</td>\n",
       "      <td>0.0518</td>\n",
       "      <td>-0.0000</td>\n",
       "      <td>0.0212</td>\n",
       "    </tr>\n",
       "    <tr>\n",
       "      <th>labelprop</th>\n",
       "      <td>4</td>\n",
       "      <td>129.2</td>\n",
       "      <td>217.5</td>\n",
       "      <td>506</td>\n",
       "      <td>0.0602</td>\n",
       "      <td>0.8301</td>\n",
       "      <td>0.0238</td>\n",
       "      <td>-0.0055</td>\n",
       "      <td>0.0287</td>\n",
       "    </tr>\n",
       "    <tr>\n",
       "      <th>infomap</th>\n",
       "      <td>52</td>\n",
       "      <td>9.9</td>\n",
       "      <td>33.1</td>\n",
       "      <td>240</td>\n",
       "      <td>0.1749</td>\n",
       "      <td>0.1916</td>\n",
       "      <td>0.0951</td>\n",
       "      <td>-0.0102</td>\n",
       "      <td>0.0281</td>\n",
       "    </tr>\n",
       "  </tbody>\n",
       "</table>\n",
       "</div>"
      ],
      "text/plain": [
       "               No. Clusters  Mean size  sigma size  Largest clust     Mod  \\\n",
       "walktrap                 12       43.1        94.2            331  0.0055   \n",
       "fastgreedy               10       51.7        50.7            133  0.2670   \n",
       "louvain_super             9       57.4        35.8            142  0.3146   \n",
       "eigen                     5      103.4        43.8            185  0.2295   \n",
       "spinglass                77        6.7        17.0            118  0.2790   \n",
       "louvain_sub              26       19.9        27.9            123  0.3004   \n",
       "edge_between            205        2.5        11.3            143  0.1629   \n",
       "labelprop                 4      129.2       217.5            506  0.0602   \n",
       "infomap                  52        9.9        33.1            240  0.1749   \n",
       "\n",
       "               Comp Acc  sigma Comp Acc  Comp MCC  sigma Comp MCC  \n",
       "walktrap         0.4508          0.0623    0.0560          0.0516  \n",
       "fastgreedy       0.2223          0.0296    0.0316          0.0361  \n",
       "louvain_super    0.1692          0.0259    0.0201          0.0306  \n",
       "eigen            0.2388          0.0316    0.0137          0.0399  \n",
       "spinglass        0.1150          0.0378    0.0122          0.0228  \n",
       "louvain_sub      0.1206          0.0301    0.0105          0.0235  \n",
       "edge_between     0.1031          0.0518   -0.0000          0.0212  \n",
       "labelprop        0.8301          0.0238   -0.0055          0.0287  \n",
       "infomap          0.1916          0.0951   -0.0102          0.0281  "
      ]
     },
     "metadata": {},
     "output_type": "display_data"
    },
    {
     "name": "stdout",
     "output_type": "stream",
     "text": [
      "\\begin{tabular}{lrrrrrrrrr}\n",
      "\\toprule\n",
      "{} &  No. Clusters &  Mean size &  sigma size &  Largest clust &     Mod &  Comp Acc &  sigma Comp Acc &  Comp MCC &  sigma Comp MCC \\\\\n",
      "\\midrule\n",
      "walktrap      &            12 &       43.1 &        94.2 &            331 &  0.0055 &    0.4508 &          0.0623 &    0.0560 &          0.0516 \\\\\n",
      "fastgreedy    &            10 &       51.7 &        50.7 &            133 &  0.2670 &    0.2223 &          0.0296 &    0.0316 &          0.0361 \\\\\n",
      "louvain\\_super &             9 &       57.4 &        35.8 &            142 &  0.3146 &    0.1692 &          0.0259 &    0.0201 &          0.0306 \\\\\n",
      "eigen         &             5 &      103.4 &        43.8 &            185 &  0.2295 &    0.2388 &          0.0316 &    0.0137 &          0.0399 \\\\\n",
      "spinglass     &            77 &        6.7 &        17.0 &            118 &  0.2790 &    0.1150 &          0.0378 &    0.0122 &          0.0228 \\\\\n",
      "louvain\\_sub   &            26 &       19.9 &        27.9 &            123 &  0.3004 &    0.1206 &          0.0301 &    0.0105 &          0.0235 \\\\\n",
      "edge\\_between  &           205 &        2.5 &        11.3 &            143 &  0.1629 &    0.1031 &          0.0518 &   -0.0000 &          0.0212 \\\\\n",
      "labelprop     &             4 &      129.2 &       217.5 &            506 &  0.0602 &    0.8301 &          0.0238 &   -0.0055 &          0.0287 \\\\\n",
      "infomap       &            52 &        9.9 &        33.1 &            240 &  0.1749 &    0.1916 &          0.0951 &   -0.0102 &          0.0281 \\\\\n",
      "\\bottomrule\n",
      "\\end{tabular}\n",
      "\n"
     ]
    }
   ],
   "source": [
    "cluster_descriptions = {}\n",
    "mod_scores = {}\n",
    "\n",
    "mod_scores = {x:y for x,y in zip(method_list, mod_table.loc[0].values)}\n",
    "\n",
    "for method in method_list:\n",
    "    # grab the cluster list from one of the datatype dictionaries\n",
    "    cluster_list = composite_data_dict[method]['go']['cluster']\n",
    "    \n",
    "    # create a counter to get the count data\n",
    "    clust_counter = Counter(cluster_list)\n",
    "    \n",
    "    # count and number of cluster data\n",
    "    cluster_counts = list(clust_counter.values())\n",
    "    n_clust = len(cluster_counts)\n",
    "    \n",
    "    # mean and std of cluster size\n",
    "    size_mean = np.round(np.mean(cluster_counts), 1)\n",
    "    size_std = np.round(np.std(cluster_counts), 1)\n",
    "    \n",
    "    # largest and smallest cluster size\n",
    "    size_max = np.max(cluster_counts) \n",
    "    \n",
    "    # update size and modularity data\n",
    "    cluster_descriptions[method] = {'N_clust':n_clust, 'Mean clust size':size_mean, 'Clust size std.':size_std, 'Largest clust size':size_max}\n",
    "    cluster_descriptions[method].update({'Modularity':np.round(mod_scores[method],4)})\n",
    "    \n",
    "    # update learnability\n",
    "    # clf-specific results\n",
    "    #cluster_descriptions[method].update({clf_name+' accuracy':np.round(mean_results[method][clf_name],2)[0] for clf_name in clf_names})\n",
    "    #cluster_descriptions[method].update({clf_name+' MCC':np.round(mean_results[method][clf_name],2)[1] for clf_name in clf_names})\n",
    "    # composite results\n",
    "    cluster_descriptions[method].update({'Composite Accuracy':np.round(np.mean([mean_results[method][clf_name][0] for clf_name in clf_names]),4)})\n",
    "    cluster_descriptions[method].update({'Comp Acc std.':np.round(np.mean([std_results[method][clf_name][0] for clf_name in clf_names]),4)})\n",
    "    cluster_descriptions[method].update({'Composite MCC':np.round(np.mean([mean_results[method][clf_name][1] for clf_name in clf_names]),4)})\n",
    "    cluster_descriptions[method].update({'Comp MCC std.':np.round(np.mean([std_results[method][clf_name][1] for clf_name in clf_names]),4)})\n",
    "    \n",
    "results_df = pd.DataFrame.from_dict(cluster_descriptions, orient='index').sort_values(by='Composite MCC', ascending=False)\n",
    "\n",
    "results_df.columns = ['No. Clusters', 'Mean size', 'sigma size', 'Largest clust',\n",
    "       'Mod', 'Comp Acc', 'sigma Comp Acc', 'Comp MCC',\n",
    "       'sigma Comp MCC']\n",
    "\n",
    "display(results_df)\n",
    "print(results_df.to_latex())"
   ]
  }
 ],
 "metadata": {
  "kernelspec": {
   "display_name": "Python [default]",
   "language": "python",
   "name": "python3"
  },
  "language_info": {
   "codemirror_mode": {
    "name": "ipython",
    "version": 3
   },
   "file_extension": ".py",
   "mimetype": "text/x-python",
   "name": "python",
   "nbconvert_exporter": "python",
   "pygments_lexer": "ipython3",
   "version": "3.6.8"
  }
 },
 "nbformat": 4,
 "nbformat_minor": 2
}
