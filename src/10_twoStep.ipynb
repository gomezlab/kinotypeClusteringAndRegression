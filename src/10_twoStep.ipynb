{
 "cells": [
  {
   "cell_type": "code",
   "execution_count": 170,
   "metadata": {},
   "outputs": [],
   "source": [
    "import pandas as pd\n",
    "import numpy as np\n",
    "import itertools as it\n",
    "import functools as ft\n",
    "import multiprocessing as mp\n",
    "from time import time\n",
    "\n",
    "from sklearn.model_selection import GridSearchCV\n",
    "from sklearn.model_selection import KFold\n",
    "from sklearn.ensemble import BaggingClassifier\n",
    "from sklearn.linear_model import SGDClassifier\n",
    "from sklearn.linear_model.coordinate_descent import LinearModelCV\n",
    "from sklearn.linear_model import ElasticNetCV\n",
    "from sklearn.base import RegressorMixin\n",
    "from sklearn.model_selection import cross_validate\n",
    "from sklearn.metrics import *\n",
    "\n",
    "from scipy.stats import norm\n",
    "from scipy.stats.mstats import gmean\n",
    "\n",
    "from tqdm import tqdm\n",
    "\n",
    "%matplotlib inline\n",
    "import matplotlib.pyplot as plt"
   ]
  },
  {
   "cell_type": "code",
   "execution_count": 5,
   "metadata": {
    "scrolled": false
   },
   "outputs": [],
   "source": [
    "# define data dictionaries\n",
    "X = {}\n",
    "y = {}\n",
    "targ = {}\n",
    "ref = {}\n",
    "\n",
    "for t in ['train', 'dev', 'test']:\n",
    "    dat = pd.read_csv('../data/modelInputs/standardizedGrowth/' + t + '.csv', index_col=0)\n",
    "    ref[t] = dat[['Drug', 'Concentration']]\n",
    "    y[t] = dat['Growth']\n",
    "    X[t] = dat[['Cellline'] + list(dat.columns[4:])]\n",
    "    \n",
    "for t in ['train', 'dev', 'test']:\n",
    "    targ[t] = norm.ppf((y[t]+1.)/2.)\n",
    "    targ[t][targ[t] > 8] = 8\n",
    "    targ[t][targ[t] < -8] = -8"
   ]
  },
  {
   "cell_type": "code",
   "execution_count": 30,
   "metadata": {},
   "outputs": [],
   "source": [
    "dummified_celllines = pd.get_dummies(X['train']['Cellline'].append(X['dev']['Cellline']).append(X['test']['Cellline']))\n",
    "\n",
    "for t in ['train', 'dev', 'test']:\n",
    "    X[t] = X[t].drop('Cellline', axis=1).merge(dummified_celllines, how='left', left_index=True, right_index=True)"
   ]
  },
  {
   "cell_type": "code",
   "execution_count": 19,
   "metadata": {},
   "outputs": [
    {
     "data": {
      "image/png": "[encoded data removed]",
      "text/plain": [
       "<Figure size 432x288 with 1 Axes>"
      ]
     },
     "metadata": {
      "needs_background": "light"
     },
     "output_type": "display_data"
    }
   ],
   "source": [
    "plt.hist(targ['train'], bins=20)\n",
    "plt.show()"
   ]
  },
  {
   "cell_type": "code",
   "execution_count": 74,
   "metadata": {},
   "outputs": [
    {
     "name": "stdout",
     "output_type": "stream",
     "text": [
      "32.293851132686086\n",
      "1.0319551593621379\n"
     ]
    }
   ],
   "source": [
    "print(1/(np.sum(clf_transformer(y['train']))/ len(y['train'])))\n",
    "print(1/(np.sum(clf_transformer(y['train'])==0)/ len(y['train'])))"
   ]
  },
  {
   "cell_type": "code",
   "execution_count": null,
   "metadata": {},
   "outputs": [],
   "source": [
    "def weighter(y, alpha=0):\n",
    "    '''\n",
    "    When alpha is set to 0, this returns the inverse class distributions for weights\n",
    "    \n",
    "    Else alpha of geomean ratio is penalized\n",
    "    '''\n",
    "    unique = np.unique(y).tolist()\n",
    "    ratios = len(y) / (2. * np.bincount(np.array(y, dtype=np.int64)))\n",
    "    \n",
    "    ratios = alpha * gmean(ratios) + (1 - alpha) * ratios\n",
    "    \n",
    "    return dict(zip(unique, ratios))"
   ]
  },
  {
   "cell_type": "code",
   "execution_count": 174,
   "metadata": {},
   "outputs": [],
   "source": [
    "# set parameters\n",
    "n_jobs = 15\n",
    "clf = None\n",
    "clf_class_weights = [None, 'balanced', weighter(clf_transformer(y['train']), .25), weighter(clf_transformer(y['train']), .5), weighter(clf_transformer(y['train']), .75)]\n",
    "threshes=[1e-12, 1e-4, 1e-3, 5e-3, 1e-2, 5e-2]\n",
    "clf_loss = ['hinge', 'log', 'modified_huber', 'squared_hinge', 'perceptron']\n",
    "l1_ratios=[0, 0.1, 0.5, 0.9, 0.99]\n",
    "clf_alphas = [.0001]\n",
    "\n",
    "def thresholder(thresh, arr):\n",
    "    return (arr > 1- thresh) * 1.\n",
    "\n",
    "def weight_hash_helper(weights):\n",
    "    if type(weights) == dict:\n",
    "        return tuple(list(weights.values()))\n",
    "    else:\n",
    "        return weights\n"
   ]
  },
  {
   "cell_type": "code",
   "execution_count": 175,
   "metadata": {},
   "outputs": [],
   "source": [
    "clf_holder = {}\n",
    "val_scores = {}\n",
    "for loss in clf_loss:\n",
    "    for weights in clf_class_weights:\n",
    "        for ratio in l1_ratios:\n",
    "            for alpha in clf_alphas:\n",
    "                clf_holder[(loss, weight_hash_helper(weights), ratio, alpha)] = BaggingClassifier(base_estimator=SGDClassifier(penalty='elasticnet',                   \n",
    "                                                                                                    loss=loss, \n",
    "                                                                                                    learning_rate='optimal',\n",
    "                                                                                                    class_weight=weights, \n",
    "                                                                                                    l1_ratio=ratio,\n",
    "                                                                                                    alpha=alpha,\n",
    "                                                                                                    random_state=1920),\n",
    "                                        n_estimators=30,\n",
    "                                        max_samples=0.632,\n",
    "                                        n_jobs=n_jobs)"
   ]
  },
  {
   "cell_type": "code",
   "execution_count": null,
   "metadata": {},
   "outputs": [],
   "source": [
    "# sample fitter\n",
    "with tqdm(total = len(threshes) * len(clf_holder)) as pbar:\n",
    "    for hyper, clf in clf_holder.items():\n",
    "        for thresh in threshes:\n",
    "            # make a transformer dynamically\n",
    "            clf_transformer = ft.partial(thresholder, thresh)\n",
    "\n",
    "            clf.fit(X['train'].sample(frac=0.02, random_state=1920), clf_transformer(pd.Series(y['train']).sample(frac=0.02, random_state=1920)))\n",
    "\n",
    "            try:\n",
    "                val_scores[hyper + (thresh,)] = roc_auc_score(clf_transformer(pd.Series(y['dev']).sample(frac=0.02, random_state=1920)), clf.predict(X['dev'].sample(frac=0.02, random_state=1920)))\n",
    "            except:\n",
    "                pass\n",
    "            \n",
    "            pbar.update(1) "
   ]
  },
  {
   "cell_type": "code",
   "execution_count": 176,
   "metadata": {},
   "outputs": [
    {
     "name": "stderr",
     "output_type": "stream",
     "text": [
      "100%|██████████| 5145/5145 [8:31:24<00:00,  6.81s/it]\n"
     ]
    }
   ],
   "source": [
    "with tqdm(total = len(threshes) * len(clf_holder)) as pbar:\n",
    "    for hyper, clf in clf_holder.items():\n",
    "        for thresh in threshes:\n",
    "            # make a transformer dynamically\n",
    "            clf_transformer = ft.partial(thresholder, thresh)\n",
    "\n",
    "            clf.fit(X['train'], clf_transformer(y['train']))\n",
    "\n",
    "            val_scores[hyper + (thresh,)] = roc_auc_score(clf_transformer(y['dev']), clf.predict(X['dev']))\n",
    "            \n",
    "            pbar.update(1)"
   ]
  },
  {
   "cell_type": "code",
   "execution_count": 178,
   "metadata": {},
   "outputs": [],
   "source": [
    "pd.Series(val_scores).to_csv('../results/validation_scores_auc.csv')"
   ]
  },
  {
   "cell_type": "code",
   "execution_count": 207,
   "metadata": {},
   "outputs": [
    {
     "name": "stdout",
     "output_type": "stream",
     "text": [
      "0.8337210231348859\n",
      "0.8568221901555235\n"
     ]
    }
   ],
   "source": [
    "clf_transformer = ft.partial(thresholder, 1e-12)\n",
    "clf =  BaggingClassifier(base_estimator=SGDClassifier(penalty='elasticnet', loss='hinge', learning_rate='optimal', class_weight='balanced', l1_ratio=0.99, alpha=3e-5, random_state=1920), n_estimators=20, max_samples=0.632, n_jobs=n_jobs)\n",
    "clf.fit(X['train'], clf_transformer(y['train']))\n",
    "preds = clf.predict(X['dev'])\n",
    "print(roc_auc_score(clf_transformer(y['dev']), preds))\n",
    "print(accuracy_score(clf_transformer(y['dev']), preds))"
   ]
  },
  {
   "cell_type": "code",
   "execution_count": 205,
   "metadata": {},
   "outputs": [
    {
     "data": {
      "text/plain": [
       "SGDClassifier(alpha=3e-05, average=False, class_weight='balanced',\n",
       "       early_stopping=False, epsilon=0.1, eta0=0.0, fit_intercept=True,\n",
       "       l1_ratio=0.99, learning_rate='optimal', loss='hinge', max_iter=None,\n",
       "       n_iter=None, n_iter_no_change=5, n_jobs=None, penalty='elasticnet',\n",
       "       power_t=0.5, random_state=1920, shuffle=True, tol=None,\n",
       "       validation_fraction=0.1, verbose=0, warm_start=False)"
      ]
     },
     "execution_count": 205,
     "metadata": {},
     "output_type": "execute_result"
    }
   ],
   "source": [
    "clf.base_estimator_\n"
   ]
  },
  {
   "cell_type": "code",
   "execution_count": 391,
   "metadata": {},
   "outputs": [
    {
     "data": {
      "image/png": "[encoded data removed]",
      "text/plain": [
       "<Figure size 864x360 with 4 Axes>"
      ]
     },
     "metadata": {
      "needs_background": "light"
     },
     "output_type": "display_data"
    }
   ],
   "source": [
    "fig, axes = plt.subplots(figsize=(12,5), ncols=2, nrows=2, sharey=True, sharex=True)\n",
    "\n",
    "axes[0][0].hist(targ['train'], bins=20, density=True, color='b')\n",
    "axes[0][1].hist(targ['dev'], bins=20, density=True, color='g')\n",
    "\n",
    "p_train = mod.predict(X['train'])\n",
    "p_dev = mod.predict(X['dev'])\n",
    "\n",
    "axes[1][0].hist(p_train, bins=20, density=True, color='b')\n",
    "axes[1][1].hist(p_dev, bins=20, density=True, color='g')\n",
    "\n",
    "plt.show()"
   ]
  },
  {
   "cell_type": "code",
   "execution_count": 404,
   "metadata": {},
   "outputs": [
    {
     "data": {
      "image/png": "[encoded data removed]",
      "text/plain": [
       "<Figure size 864x360 with 4 Axes>"
      ]
     },
     "metadata": {
      "needs_background": "light"
     },
     "output_type": "display_data"
    }
   ],
   "source": [
    "fig, axes = plt.subplots(figsize=(12,5), ncols=2, nrows=2, sharey=True, sharex=True)\n",
    "\n",
    "plt.suptitle('GR Metrics Growth Prediction', y=1.05, fontsize=20)\n",
    "#plt.title('+1 = No Effect, 0 = Cytostatic response, -1 = Cell Death', y=1.0, fontsize=10)\n",
    "\n",
    "axes[0][0].hist(y['train'], bins=20, density=True, color='b')\n",
    "axes[0][0].set_title('Training Set, True Values', y=.8)\n",
    "\n",
    "axes[0][1].hist(y['dev'], bins=20, density=True, color='g')\n",
    "axes[0][1].set_title('Validation Set, True Values', y=.8)\n",
    "\n",
    "axes[1][0].hist((norm.cdf(p_train)-.5)*2, bins=20, density=True, color='b')\n",
    "axes[1][0].set_title('Training Set, Predicted Values', y=.8)\n",
    "\n",
    "axes[1][1].hist((norm.cdf(p_dev)-.5)*2, bins=20, density=True, color='g')\n",
    "axes[1][1].set_title('Validation Set, Predicted Values', y=.8)\n",
    "\n",
    "plt.show()"
   ]
  },
  {
   "cell_type": "code",
   "execution_count": 431,
   "metadata": {},
   "outputs": [
    {
     "name": "stdout",
     "output_type": "stream",
     "text": [
      "[[1.         0.62368565]\n",
      " [0.62368565 1.        ]]\n",
      "[[1.         0.61981648]\n",
      " [0.61981648 1.        ]]\n"
     ]
    }
   ],
   "source": [
    "print(np.corrcoef(y['train'], p_train))\n",
    "print(np.corrcoef(y['dev'], p_dev))"
   ]
  },
  {
   "cell_type": "code",
   "execution_count": 429,
   "metadata": {},
   "outputs": [
    {
     "data": {
      "image/png": "[encoded data removed]",
      "text/plain": [
       "<Figure size 720x360 with 2 Axes>"
      ]
     },
     "metadata": {
      "needs_background": "light"
     },
     "output_type": "display_data"
    }
   ],
   "source": [
    "fig, axes = plt.subplots(figsize=(10,5), ncols=2, sharey=True)\n",
    "\n",
    "plt.suptitle('GR Metrics Growth Prediction', y=1.05, fontsize=20)\n",
    "#plt.title('+1 = No Effect, 0 = Cytostatic response, -1 = Cell Death', y=1.0, fontsize=10)\n",
    "\n",
    "sns.kdeplot(y['train'], (norm.cdf(p_train)-.5)*2,ax=axes[0], shade=True)\n",
    "axes[0].set_title('Training Set', y=1.05)\n",
    "\n",
    "sns.kdeplot(y['dev'], (norm.cdf(p_dev)-.5)*2, ax = axes[1], shade=True)\n",
    "axes[1].set_title('Validation Set', y=1.05)\n",
    "\n",
    "plt.show()"
   ]
  },
  {
   "cell_type": "code",
   "execution_count": null,
   "metadata": {},
   "outputs": [],
   "source": [
    "fig, axes = plt.subplots(figsize=(12,5), ncols=2, sharey=True)\n",
    "\n",
    "p_train = mod.predict(X['train'])\n",
    "p_dev = mod.predict(X['dev'])\n",
    "\n",
    "axes[0].hist(p_train, bins=20, density=True, color='b')\n",
    "axes[1].hist(p_dev, bins=20, density=True, color='g')\n",
    "\n",
    "plt.show()"
   ]
  },
  {
   "cell_type": "code",
   "execution_count": 405,
   "metadata": {},
   "outputs": [
    {
     "data": {
      "text/plain": [
       "0.8066378066378066"
      ]
     },
     "execution_count": 405,
     "metadata": {},
     "output_type": "execute_result"
    }
   ],
   "source": [
    "mod.clf.score(X['dev'], (y['dev']>1-1e-12)*1.)"
   ]
  },
  {
   "cell_type": "code",
   "execution_count": 388,
   "metadata": {},
   "outputs": [
    {
     "data": {
      "text/plain": [
       "8.0"
      ]
     },
     "metadata": {},
     "output_type": "display_data"
    },
    {
     "data": {
      "text/plain": [
       "8.0"
      ]
     },
     "metadata": {},
     "output_type": "display_data"
    }
   ],
   "source": [
    "display(np.mean(targ['train'][y['train']>1-1e-12]))\n",
    "display(np.mean(targ['dev'][y['dev']>1-1e-12]))"
   ]
  },
  {
   "cell_type": "code",
   "execution_count": 406,
   "metadata": {},
   "outputs": [
    {
     "data": {
      "image/png": "[encoded data removed]",
      "text/plain": [
       "<Figure size 432x288 with 1 Axes>"
      ]
     },
     "metadata": {
      "needs_background": "light"
     },
     "output_type": "display_data"
    }
   ],
   "source": [
    "plt.hist(mod.clf.predict(X['dev']), alpha=0.6)\n",
    "plt.hist((y['dev']>1-1e-12)*1., alpha=0.6)\n",
    "\n",
    "plt.show()"
   ]
  }
 ],
 "metadata": {
  "kernelspec": {
   "display_name": "Python 3",
   "language": "python",
   "name": "python3"
  },
  "language_info": {
   "codemirror_mode": {
    "name": "ipython",
    "version": 3
   },
   "file_extension": ".py",
   "mimetype": "text/x-python",
   "name": "python",
   "nbconvert_exporter": "python",
   "pygments_lexer": "ipython3",
   "version": "3.7.3"
  }
 },
 "nbformat": 4,
 "nbformat_minor": 2
}
