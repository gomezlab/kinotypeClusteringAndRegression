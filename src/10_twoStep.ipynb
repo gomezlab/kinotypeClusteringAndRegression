{
 "cells": [
  {
   "cell_type": "code",
   "execution_count": 310,
   "metadata": {},
   "outputs": [],
   "source": [
    "import pandas as pd\n",
    "import numpy as np\n",
    "import itertools as it\n",
    "import functools as ft\n",
    "import multiprocessing as mp\n",
    "from time import time\n",
    "\n",
    "from sklearn.model_selection import GridSearchCV\n",
    "from sklearn.model_selection import KFold\n",
    "from sklearn.ensemble import BaggingClassifier\n",
    "from sklearn.linear_model import SGDClassifier\n",
    "from sklearn.linear_model.coordinate_descent import LinearModelCV\n",
    "from sklearn.linear_model import ElasticNetCV\n",
    "from sklearn.base import RegressorMixin\n",
    "from sklearn.linear_model.base import LinearModel\n",
    "from sklearn.ensemble import AdaBoostClassifier\n",
    "from sklearn.model_selection import cross_validate\n",
    "from sklearn.model_selection import LeaveOneGroupOut\n",
    "from sklearn.metrics import *\n",
    "\n",
    "from scipy.stats import norm\n",
    "from scipy.stats.mstats import gmean\n",
    "\n",
    "from tqdm import tqdm\n",
    "\n",
    "from glmnet_py import glmnet, glmnetPredict\n",
    "\n",
    "%matplotlib inline\n",
    "import matplotlib.pyplot as plt"
   ]
  },
  {
   "cell_type": "code",
   "execution_count": 2,
   "metadata": {
    "scrolled": false
   },
   "outputs": [],
   "source": [
    "# define data dictionaries\n",
    "X = {}\n",
    "y = {}\n",
    "targ = {}\n",
    "ref = {}\n",
    "\n",
    "for t in ['train', 'dev', 'test']:\n",
    "    dat = pd.read_csv('../data/modelInputs/standardizedGrowth/' + t + '.csv', index_col=0)\n",
    "    ref[t] = dat[['Drug', 'Concentration']]\n",
    "    y[t] = dat['Growth']\n",
    "    X[t] = dat[['Cellline'] + list(dat.columns[4:])]\n",
    "    \n",
    "for t in ['train', 'dev', 'test']:\n",
    "    targ[t] = norm.ppf((y[t]+1.)/2.)\n",
    "    targ[t][targ[t] > 8] = 8\n",
    "    targ[t][targ[t] < -8] = -8"
   ]
  },
  {
   "cell_type": "code",
   "execution_count": 3,
   "metadata": {},
   "outputs": [],
   "source": [
    "dummified_celllines = pd.get_dummies(X['train']['Cellline'].append(X['dev']['Cellline']).append(X['test']['Cellline']))\n",
    "\n",
    "for t in ['train', 'dev', 'test']:\n",
    "    X[t] = X[t].drop('Cellline', axis=1).merge(dummified_celllines, how='left', left_index=True, right_index=True)"
   ]
  },
  {
   "cell_type": "code",
   "execution_count": 4,
   "metadata": {},
   "outputs": [
    {
     "data": {
      "image/png": "[encoded data removed]",
      "text/plain": [
       "<Figure size 432x288 with 1 Axes>"
      ]
     },
     "metadata": {
      "needs_background": "light"
     },
     "output_type": "display_data"
    }
   ],
   "source": [
    "plt.hist(targ['train'], bins=20)\n",
    "plt.show()"
   ]
  },
  {
   "cell_type": "code",
   "execution_count": 6,
   "metadata": {},
   "outputs": [],
   "source": [
    "def weighter(y, alpha=0):\n",
    "    '''\n",
    "    When alpha is set to 0, this returns the inverse class distributions for weights\n",
    "    \n",
    "    Else alpha of geomean ratio is penalized\n",
    "    '''\n",
    "    unique = np.unique(y).tolist()\n",
    "    ratios = len(y) / (2. * np.bincount(np.array(y, dtype=np.int64)))\n",
    "    \n",
    "    ratios = alpha * gmean(ratios) + (1 - alpha) * ratios\n",
    "    \n",
    "    return dict(zip(unique, ratios))"
   ]
  },
  {
   "cell_type": "code",
   "execution_count": 59,
   "metadata": {},
   "outputs": [
    {
     "data": {
      "text/plain": [
       "0.0003"
      ]
     },
     "execution_count": 59,
     "metadata": {},
     "output_type": "execute_result"
    }
   ],
   "source": [
    "3e-4"
   ]
  },
  {
   "cell_type": "code",
   "execution_count": 114,
   "metadata": {},
   "outputs": [],
   "source": [
    "# set parameters\n",
    "n_jobs = 15\n",
    "clf = None\n",
    "threshes=[1e-12, 1e-3, 1e-2, 5e-2]\n",
    "clf_loss = ['modified_huber']\n",
    "l1_ratios=[0.1, 0.5, 0.9, 0.99]\n",
    "clf_alphas = [3e-5, 1e-4, 3e-4, 1e-3, 3e-5]\n",
    "\n",
    "def thresholder(thresh, arr):\n",
    "    return (arr > 1- thresh) * 1.\n",
    "\n",
    "clf_transformer = ft.partial(thresholder, 1e-12)\n",
    "\n",
    "def weight_hash_helper(weights):\n",
    "    if type(weights) == dict:\n",
    "        return tuple(list(weights.values()))\n",
    "    else:\n",
    "        return weights\n",
    "\n",
    "clf_class_weights = [None, 'balanced', weighter(clf_transformer(y['train']), .25), weighter(clf_transformer(y['train']), .5), weighter(clf_transformer(y['train']), .75)]"
   ]
  },
  {
   "cell_type": "code",
   "execution_count": 115,
   "metadata": {},
   "outputs": [],
   "source": [
    "clf_holder = {}\n",
    "val_scores = {}\n",
    "for loss in clf_loss:\n",
    "    for weights in clf_class_weights:\n",
    "        for ratio in l1_ratios:\n",
    "            for alpha in clf_alphas:\n",
    "                clf_holder[(loss, weight_hash_helper(weights), ratio, alpha)] = BaggingClassifier(base_estimator=SGDClassifier(penalty='elasticnet',                   \n",
    "                                                                                                    loss=loss, \n",
    "                                                                                                    learning_rate='optimal',\n",
    "                                                                                                    class_weight=weights, \n",
    "                                                                                                    l1_ratio=ratio,\n",
    "                                                                                                    alpha=alpha,\n",
    "                                                                                                    random_state=1920),\n",
    "                                        n_estimators=30,\n",
    "                                        max_samples=0.632,\n",
    "                                        n_jobs=n_jobs)"
   ]
  },
  {
   "cell_type": "code",
   "execution_count": null,
   "metadata": {},
   "outputs": [],
   "source": [
    "# sample fitter\n",
    "with tqdm(total = len(threshes) * len(clf_holder)) as pbar:\n",
    "    for hyper, clf in clf_holder.items():\n",
    "        for thresh in threshes:\n",
    "            # make a transformer dynamically\n",
    "            clf_transformer = ft.partial(thresholder, thresh)\n",
    "\n",
    "            clf.fit(X['train'].sample(frac=0.02, random_state=1920), clf_transformer(pd.Series(y['train']).sample(frac=0.02, random_state=1920)))\n",
    "\n",
    "            try:\n",
    "                val_scores[hyper + (thresh,)] = average_precision_score(clf_transformer(pd.Series(y['dev']).sample(frac=0.02, random_state=1920)), clf.predict(X['dev'].sample(frac=0.02, random_state=1920)))\n",
    "            except:\n",
    "                pass\n",
    "            \n",
    "            pbar.update(1) "
   ]
  },
  {
   "cell_type": "code",
   "execution_count": 68,
   "metadata": {},
   "outputs": [
    {
     "data": {
      "text/html": [
       "<div>\n",
       "<style scoped>\n",
       "    .dataframe tbody tr th:only-of-type {\n",
       "        vertical-align: middle;\n",
       "    }\n",
       "\n",
       "    .dataframe tbody tr th {\n",
       "        vertical-align: top;\n",
       "    }\n",
       "\n",
       "    .dataframe thead th {\n",
       "        text-align: right;\n",
       "    }\n",
       "</style>\n",
       "<table border=\"1\" class=\"dataframe\">\n",
       "  <thead>\n",
       "    <tr style=\"text-align: right;\">\n",
       "      <th></th>\n",
       "      <th>level_0</th>\n",
       "      <th>level_1</th>\n",
       "      <th>level_2</th>\n",
       "      <th>level_3</th>\n",
       "      <th>level_4</th>\n",
       "      <th>0</th>\n",
       "    </tr>\n",
       "  </thead>\n",
       "  <tbody>\n",
       "    <tr>\n",
       "      <th>17</th>\n",
       "      <td>modified_huber</td>\n",
       "      <td>NaN</td>\n",
       "      <td>0.50</td>\n",
       "      <td>0.00030</td>\n",
       "      <td>0.05</td>\n",
       "      <td>0.729537</td>\n",
       "    </tr>\n",
       "    <tr>\n",
       "      <th>53</th>\n",
       "      <td>modified_huber</td>\n",
       "      <td>NaN</td>\n",
       "      <td>0.99</td>\n",
       "      <td>0.00003</td>\n",
       "      <td>0.05</td>\n",
       "      <td>0.709343</td>\n",
       "    </tr>\n",
       "    <tr>\n",
       "      <th>137</th>\n",
       "      <td>modified_huber</td>\n",
       "      <td>balanced</td>\n",
       "      <td>0.99</td>\n",
       "      <td>0.00030</td>\n",
       "      <td>0.05</td>\n",
       "      <td>0.707071</td>\n",
       "    </tr>\n",
       "    <tr>\n",
       "      <th>29</th>\n",
       "      <td>modified_huber</td>\n",
       "      <td>NaN</td>\n",
       "      <td>0.90</td>\n",
       "      <td>0.00003</td>\n",
       "      <td>0.05</td>\n",
       "      <td>0.704918</td>\n",
       "    </tr>\n",
       "    <tr>\n",
       "      <th>335</th>\n",
       "      <td>modified_huber</td>\n",
       "      <td>(2.2938134427437293, 6.201550439409223)</td>\n",
       "      <td>0.90</td>\n",
       "      <td>0.00100</td>\n",
       "      <td>0.05</td>\n",
       "      <td>0.702875</td>\n",
       "    </tr>\n",
       "    <tr>\n",
       "      <th>65</th>\n",
       "      <td>modified_huber</td>\n",
       "      <td>NaN</td>\n",
       "      <td>0.99</td>\n",
       "      <td>0.00030</td>\n",
       "      <td>0.05</td>\n",
       "      <td>0.701754</td>\n",
       "    </tr>\n",
       "    <tr>\n",
       "      <th>35</th>\n",
       "      <td>modified_huber</td>\n",
       "      <td>NaN</td>\n",
       "      <td>0.90</td>\n",
       "      <td>0.00010</td>\n",
       "      <td>0.05</td>\n",
       "      <td>0.699659</td>\n",
       "    </tr>\n",
       "    <tr>\n",
       "      <th>347</th>\n",
       "      <td>modified_huber</td>\n",
       "      <td>(2.2938134427437293, 6.201550439409223)</td>\n",
       "      <td>0.99</td>\n",
       "      <td>0.00010</td>\n",
       "      <td>0.05</td>\n",
       "      <td>0.692308</td>\n",
       "    </tr>\n",
       "    <tr>\n",
       "      <th>311</th>\n",
       "      <td>modified_huber</td>\n",
       "      <td>(2.2938134427437293, 6.201550439409223)</td>\n",
       "      <td>0.50</td>\n",
       "      <td>0.00100</td>\n",
       "      <td>0.05</td>\n",
       "      <td>0.690691</td>\n",
       "    </tr>\n",
       "    <tr>\n",
       "      <th>59</th>\n",
       "      <td>modified_huber</td>\n",
       "      <td>NaN</td>\n",
       "      <td>0.99</td>\n",
       "      <td>0.00010</td>\n",
       "      <td>0.05</td>\n",
       "      <td>0.690236</td>\n",
       "    </tr>\n",
       "  </tbody>\n",
       "</table>\n",
       "</div>"
      ],
      "text/plain": [
       "            level_0                                  level_1  level_2  \\\n",
       "17   modified_huber                                      NaN     0.50   \n",
       "53   modified_huber                                      NaN     0.99   \n",
       "137  modified_huber                                 balanced     0.99   \n",
       "29   modified_huber                                      NaN     0.90   \n",
       "335  modified_huber  (2.2938134427437293, 6.201550439409223)     0.90   \n",
       "65   modified_huber                                      NaN     0.99   \n",
       "35   modified_huber                                      NaN     0.90   \n",
       "347  modified_huber  (2.2938134427437293, 6.201550439409223)     0.99   \n",
       "311  modified_huber  (2.2938134427437293, 6.201550439409223)     0.50   \n",
       "59   modified_huber                                      NaN     0.99   \n",
       "\n",
       "     level_3  level_4         0  \n",
       "17   0.00030     0.05  0.729537  \n",
       "53   0.00003     0.05  0.709343  \n",
       "137  0.00030     0.05  0.707071  \n",
       "29   0.00003     0.05  0.704918  \n",
       "335  0.00100     0.05  0.702875  \n",
       "65   0.00030     0.05  0.701754  \n",
       "35   0.00010     0.05  0.699659  \n",
       "347  0.00010     0.05  0.692308  \n",
       "311  0.00100     0.05  0.690691  \n",
       "59   0.00010     0.05  0.690236  "
      ]
     },
     "execution_count": 68,
     "metadata": {},
     "output_type": "execute_result"
    }
   ],
   "source": [
    "pd.Series(val_scores).reset_index().sort_values(0, ascending=False).head(10)"
   ]
  },
  {
   "cell_type": "code",
   "execution_count": 117,
   "metadata": {},
   "outputs": [
    {
     "name": "stderr",
     "output_type": "stream",
     "text": [
      "100%|██████████| 320/320 [24:12<00:00,  4.27s/it]\n"
     ]
    }
   ],
   "source": [
    "with tqdm(total = len(threshes) * len(clf_holder)) as pbar:\n",
    "    for hyper, clf in clf_holder.items():\n",
    "        for thresh in threshes:\n",
    "            # make a transformer dynamically\n",
    "            clf_transformer = ft.partial(thresholder, thresh)\n",
    "\n",
    "            clf.fit(X['train'], clf_transformer(y['train']))\n",
    "\n",
    "            preds = clf.predict(X['dev'])\n",
    "            \n",
    "            ap_score = average_precision_score(clf_transformer(y['dev']), preds)\n",
    "            auc_score = roc_auc_score(clf_transformer(y['dev']), preds)\n",
    "            acc_score = accuracy_score(clf_transformer(y['dev']), preds)\n",
    "            f1 = f1_score(clf_transformer(y['dev']), preds)\n",
    "            r2 = pearsonr(clf_transformer(y['dev']), preds)[0]\n",
    "            \n",
    "            val_scores[hyper + (thresh,)] = (ap_score, auc_score, acc_score, f1, r2)\n",
    "            \n",
    "            pbar.update(1)"
   ]
  },
  {
   "cell_type": "code",
   "execution_count": 136,
   "metadata": {},
   "outputs": [],
   "source": [
    "res = pd.DataFrame(pd.Series(val_scores))\n",
    "res = pd.concat([res.drop(0, axis=1).reset_index(), pd.DataFrame(list(zip(*res[0]))).T], axis=1)\n",
    "res.columns = ['Loss', 'Weights', 'L1_Ratio', 'Alpha', 'Thresh', 'AP_score', 'ROC_AUC', 'Accuracy', 'F1_score', 'R2']\n",
    "res.to_csv('../results/validation_scores.csv', index=False)"
   ]
  },
  {
   "cell_type": "code",
   "execution_count": 152,
   "metadata": {},
   "outputs": [
    {
     "name": "stdout",
     "output_type": "stream",
     "text": [
      "0.6829386621167111\n",
      "0.8092298849262088\n",
      "0.754281719678434\n",
      "0.8058361391694725\n"
     ]
    }
   ],
   "source": [
    "thresh = 1e-12\n",
    "clf_transformer = ft.partial(thresholder, thresh)\n",
    "\n",
    "clf =  BaggingClassifier(base_estimator=SGDClassifier(penalty='elasticnet',\n",
    "                                                      loss='modified_huber',\n",
    "                                                      learning_rate='optimal',\n",
    "                                                      class_weight=None,\n",
    "                                                      l1_ratio=0.5,\n",
    "                                                      alpha=1e-3,\n",
    "                                                      random_state=1920),\n",
    "                         n_estimators=30,\n",
    "                         max_samples=0.632,\n",
    "                         n_jobs=n_jobs)\n",
    "\n",
    "clf.fit(X['train'], clf_transformer(y['train']))\n",
    "\n",
    "preds = clf.predict(X['dev'])\n",
    "\n",
    "print(average_precision_score(clf_transformer(y['dev']), preds))\n",
    "print(roc_auc_score(clf_transformer(y['dev']), preds))\n",
    "print(fbeta_score(clf_transformer(y['dev']), preds, beta=0.5))\n",
    "print(accuracy_score(clf_transformer(y['dev']), preds))"
   ]
  },
  {
   "cell_type": "code",
   "execution_count": 359,
   "metadata": {},
   "outputs": [
    {
     "data": {
      "text/html": [
       "<div>\n",
       "<style scoped>\n",
       "    .dataframe tbody tr th:only-of-type {\n",
       "        vertical-align: middle;\n",
       "    }\n",
       "\n",
       "    .dataframe tbody tr th {\n",
       "        vertical-align: top;\n",
       "    }\n",
       "\n",
       "    .dataframe thead th {\n",
       "        text-align: right;\n",
       "    }\n",
       "</style>\n",
       "<table border=\"1\" class=\"dataframe\">\n",
       "  <thead>\n",
       "    <tr style=\"text-align: right;\">\n",
       "      <th></th>\n",
       "      <th>Drug</th>\n",
       "      <th>Concentration</th>\n",
       "      <th>Target</th>\n",
       "      <th>Growth</th>\n",
       "      <th>AAK1</th>\n",
       "      <th>ABL1</th>\n",
       "      <th>ABL2</th>\n",
       "      <th>ACVR1</th>\n",
       "      <th>ACVR1B</th>\n",
       "      <th>ACVR2B</th>\n",
       "      <th>...</th>\n",
       "      <th>uacc812</th>\n",
       "      <th>uacc893</th>\n",
       "      <th>umc11</th>\n",
       "      <th>umuc3</th>\n",
       "      <th>vmrclcd</th>\n",
       "      <th>wm115</th>\n",
       "      <th>wm2664</th>\n",
       "      <th>yapc</th>\n",
       "      <th>zr751</th>\n",
       "      <th>zr75b</th>\n",
       "    </tr>\n",
       "  </thead>\n",
       "  <tbody>\n",
       "    <tr>\n",
       "      <th>53257</th>\n",
       "      <td>silmitasertib</td>\n",
       "      <td>3.00</td>\n",
       "      <td>-0.426184</td>\n",
       "      <td>-0.330026</td>\n",
       "      <td>0.0</td>\n",
       "      <td>0.000000</td>\n",
       "      <td>0.000000</td>\n",
       "      <td>0.0</td>\n",
       "      <td>0.000000</td>\n",
       "      <td>0.0</td>\n",
       "      <td>...</td>\n",
       "      <td>0</td>\n",
       "      <td>0</td>\n",
       "      <td>0</td>\n",
       "      <td>0</td>\n",
       "      <td>0</td>\n",
       "      <td>0</td>\n",
       "      <td>0</td>\n",
       "      <td>0</td>\n",
       "      <td>0</td>\n",
       "      <td>0</td>\n",
       "    </tr>\n",
       "    <tr>\n",
       "      <th>42989</th>\n",
       "      <td>osi027</td>\n",
       "      <td>0.03</td>\n",
       "      <td>2.489425</td>\n",
       "      <td>0.987205</td>\n",
       "      <td>0.0</td>\n",
       "      <td>0.000000</td>\n",
       "      <td>0.000000</td>\n",
       "      <td>0.0</td>\n",
       "      <td>0.076540</td>\n",
       "      <td>0.0</td>\n",
       "      <td>...</td>\n",
       "      <td>0</td>\n",
       "      <td>0</td>\n",
       "      <td>0</td>\n",
       "      <td>0</td>\n",
       "      <td>0</td>\n",
       "      <td>0</td>\n",
       "      <td>0</td>\n",
       "      <td>0</td>\n",
       "      <td>0</td>\n",
       "      <td>0</td>\n",
       "    </tr>\n",
       "    <tr>\n",
       "      <th>36715</th>\n",
       "      <td>mgcd265</td>\n",
       "      <td>0.30</td>\n",
       "      <td>3.085930</td>\n",
       "      <td>0.997971</td>\n",
       "      <td>0.0</td>\n",
       "      <td>-0.367669</td>\n",
       "      <td>-0.212716</td>\n",
       "      <td>0.0</td>\n",
       "      <td>0.000000</td>\n",
       "      <td>0.0</td>\n",
       "      <td>...</td>\n",
       "      <td>0</td>\n",
       "      <td>0</td>\n",
       "      <td>0</td>\n",
       "      <td>0</td>\n",
       "      <td>0</td>\n",
       "      <td>0</td>\n",
       "      <td>0</td>\n",
       "      <td>0</td>\n",
       "      <td>0</td>\n",
       "      <td>0</td>\n",
       "    </tr>\n",
       "    <tr>\n",
       "      <th>35826</th>\n",
       "      <td>masitinib</td>\n",
       "      <td>1.00</td>\n",
       "      <td>0.895365</td>\n",
       "      <td>0.629408</td>\n",
       "      <td>0.0</td>\n",
       "      <td>-0.478263</td>\n",
       "      <td>-0.317027</td>\n",
       "      <td>0.0</td>\n",
       "      <td>0.000000</td>\n",
       "      <td>0.0</td>\n",
       "      <td>...</td>\n",
       "      <td>0</td>\n",
       "      <td>0</td>\n",
       "      <td>0</td>\n",
       "      <td>0</td>\n",
       "      <td>0</td>\n",
       "      <td>0</td>\n",
       "      <td>0</td>\n",
       "      <td>0</td>\n",
       "      <td>0</td>\n",
       "      <td>0</td>\n",
       "    </tr>\n",
       "    <tr>\n",
       "      <th>43312</th>\n",
       "      <td>osi027</td>\n",
       "      <td>30.00</td>\n",
       "      <td>-0.056795</td>\n",
       "      <td>-0.045292</td>\n",
       "      <td>0.0</td>\n",
       "      <td>0.000000</td>\n",
       "      <td>0.000000</td>\n",
       "      <td>0.0</td>\n",
       "      <td>-9.642757</td>\n",
       "      <td>0.0</td>\n",
       "      <td>...</td>\n",
       "      <td>0</td>\n",
       "      <td>0</td>\n",
       "      <td>0</td>\n",
       "      <td>0</td>\n",
       "      <td>0</td>\n",
       "      <td>0</td>\n",
       "      <td>0</td>\n",
       "      <td>0</td>\n",
       "      <td>0</td>\n",
       "      <td>0</td>\n",
       "    </tr>\n",
       "  </tbody>\n",
       "</table>\n",
       "<p>5 rows × 666 columns</p>\n",
       "</div>"
      ],
      "text/plain": [
       "                Drug  Concentration    Target    Growth  AAK1      ABL1  \\\n",
       "53257  silmitasertib           3.00 -0.426184 -0.330026   0.0  0.000000   \n",
       "42989         osi027           0.03  2.489425  0.987205   0.0  0.000000   \n",
       "36715        mgcd265           0.30  3.085930  0.997971   0.0 -0.367669   \n",
       "35826      masitinib           1.00  0.895365  0.629408   0.0 -0.478263   \n",
       "43312         osi027          30.00 -0.056795 -0.045292   0.0  0.000000   \n",
       "\n",
       "           ABL2  ACVR1    ACVR1B  ACVR2B  ...    uacc812  uacc893  umc11  \\\n",
       "53257  0.000000    0.0  0.000000     0.0  ...          0        0      0   \n",
       "42989  0.000000    0.0  0.076540     0.0  ...          0        0      0   \n",
       "36715 -0.212716    0.0  0.000000     0.0  ...          0        0      0   \n",
       "35826 -0.317027    0.0  0.000000     0.0  ...          0        0      0   \n",
       "43312  0.000000    0.0 -9.642757     0.0  ...          0        0      0   \n",
       "\n",
       "       umuc3  vmrclcd  wm115  wm2664  yapc  zr751  zr75b  \n",
       "53257      0        0      0       0     0      0      0  \n",
       "42989      0        0      0       0     0      0      0  \n",
       "36715      0        0      0       0     0      0      0  \n",
       "35826      0        0      0       0     0      0      0  \n",
       "43312      0        0      0       0     0      0      0  \n",
       "\n",
       "[5 rows x 666 columns]"
      ]
     },
     "execution_count": 359,
     "metadata": {},
     "output_type": "execute_result"
    }
   ],
   "source": [
    "agg_dat = pd.concat([X['train'], X['dev'], X['test']])\n",
    "agg_dat[['Drug', 'Concentration']] = pd.concat([ref['train'], ref['dev'], ref['test']])\n",
    "agg_dat['Target'] = np.hstack([targ['train'], targ['dev'], targ['test']])\n",
    "agg_dat['Growth'] = np.hstack([y['train'], y['dev'], y['test']])\n",
    "agg_dat = agg_dat[list(agg_dat.columns[-4:]) + list(agg_dat.columns[:-4])]\n",
    "agg_dat.head()"
   ]
  },
  {
   "cell_type": "code",
   "execution_count": 360,
   "metadata": {},
   "outputs": [],
   "source": [
    "agg_dat.to_csv('../data/agg_growth.csv')"
   ]
  },
  {
   "cell_type": "code",
   "execution_count": 361,
   "metadata": {},
   "outputs": [],
   "source": [
    "### write predictions\n",
    "thresh = 1e-12\n",
    "clf_transformer = ft.partial(thresholder, thresh)\n",
    "\n",
    "clf =  BaggingClassifier(base_estimator=SGDClassifier(penalty='elasticnet',\n",
    "                                                      loss='modified_huber',\n",
    "                                                      learning_rate='optimal',\n",
    "                                                      class_weight='balanced',\n",
    "                                                      l1_ratio=0.5,\n",
    "                                                      alpha=1e-3,\n",
    "                                                      random_state=1920),\n",
    "                         n_estimators=30,\n",
    "                         max_samples=0.632,\n",
    "                         n_jobs=15)\n",
    "\n",
    "clf.fit(agg_dat.values[:, 5:], clf_transformer(agg_dat.values[:, 2]))\n",
    "\n",
    "preds = clf.predict_proba(agg_dat.values[:, 5:])"
   ]
  },
  {
   "cell_type": "code",
   "execution_count": 362,
   "metadata": {},
   "outputs": [],
   "source": [
    "pd.DataFrame(preds, index=agg_dat.index).to_csv('../results/best_roc_auc_proba.csv')"
   ]
  },
  {
   "cell_type": "code",
   "execution_count": 363,
   "metadata": {},
   "outputs": [],
   "source": [
    "### write predictions\n",
    "thresh = 5e-2\n",
    "clf_transformer = ft.partial(thresholder, thresh)\n",
    "\n",
    "clf =  BaggingClassifier(base_estimator=SGDClassifier(penalty='elasticnet',\n",
    "                                                      loss='modified_huber',\n",
    "                                                      learning_rate='optimal',\n",
    "                                                      class_weight=None,\n",
    "                                                      l1_ratio=0.5,\n",
    "                                                      alpha=1e-3,\n",
    "                                                      random_state=1920),\n",
    "                         n_estimators=30,\n",
    "                         max_samples=0.632,\n",
    "                         n_jobs=15)\n",
    "\n",
    "clf.fit(agg_dat.values[:, 4:], clf_transformer(agg_dat.values[:, 2]))\n",
    "\n",
    "preds = clf.predict_proba(agg_dat.values[:, 4:])"
   ]
  },
  {
   "cell_type": "code",
   "execution_count": 364,
   "metadata": {},
   "outputs": [],
   "source": [
    "pd.DataFrame(preds, index=agg_dat.index).to_csv('../results/best_ap_score_proba.csv')"
   ]
  },
  {
   "cell_type": "code",
   "execution_count": 378,
   "metadata": {},
   "outputs": [
    {
     "name": "stdout",
     "output_type": "stream",
     "text": [
      "(0.5984111517803943, 0.0)\n"
     ]
    },
    {
     "data": {
      "text/plain": [
       "0.7537679579271421"
      ]
     },
     "execution_count": 378,
     "metadata": {},
     "output_type": "execute_result"
    }
   ],
   "source": [
    "print(pearsonr(preds[:,1]>0.7, agg_dat['Growth']>1-5e-2))\n",
    "accuracy_score(y_true=agg_dat['Growth']>1-5e-2, y_pred=(preds[:,1]>0.5)*1.)"
   ]
  },
  {
   "cell_type": "code",
   "execution_count": 142,
   "metadata": {},
   "outputs": [
    {
     "data": {
      "image/png": "[encoded data removed]",
      "text/plain": [
       "<Figure size 864x360 with 4 Axes>"
      ]
     },
     "metadata": {
      "needs_background": "light"
     },
     "output_type": "display_data"
    }
   ],
   "source": [
    "fig, axes = plt.subplots(figsize=(12,5), ncols=2, nrows=2, sharey=True, sharex=True)\n",
    "\n",
    "axes[0][0].hist(clf_transformer(y['train']), bins=20, density=True, color='b')\n",
    "axes[0][1].hist(clf_transformer(y['dev']), bins=20, density=True, color='g')\n",
    "\n",
    "p_train = clf.predict(X['train'])\n",
    "p_dev = clf.predict(X['dev'])\n",
    "\n",
    "axes[1][0].hist(p_train, bins=20, density=True, color='b')\n",
    "axes[1][1].hist(p_dev, bins=20, density=True, color='g')\n",
    "\n",
    "plt.show()"
   ]
  },
  {
   "cell_type": "markdown",
   "metadata": {},
   "source": [
    "### Test Set Analysis"
   ]
  },
  {
   "cell_type": "code",
   "execution_count": 197,
   "metadata": {},
   "outputs": [
    {
     "name": "stdout",
     "output_type": "stream",
     "text": [
      "0.7992610709960385\n",
      "0.7699324940704251\n",
      "0.7978194644861312\n"
     ]
    }
   ],
   "source": [
    "thresh = 5e-2\n",
    "clf_transformer = ft.partial(thresholder, thresh)\n",
    "\n",
    "clf =  BaggingClassifier(base_estimator=SGDClassifier(penalty='elasticnet',\n",
    "                                                      loss='modified_huber',\n",
    "                                                      learning_rate='optimal',\n",
    "                                                      class_weight='balanced',\n",
    "                                                      l1_ratio=0.5,\n",
    "                                                      alpha=1e-4,\n",
    "                                                      random_state=1920),\n",
    "                         n_estimators=30, max_samples=0.632, n_jobs=n_jobs)\n",
    "clf.fit(pd.concat([X['train'], X['dev']]), clf_transformer(pd.concat([y['train'], y['dev']])))\n",
    "\n",
    "preds = clf.predict(X['test'])\n",
    "\n",
    "print(roc_auc_score(clf_transformer(y['test']), preds))\n",
    "print(f1_score(clf_transformer(y['test']), preds))\n",
    "print(accuracy_score(clf_transformer(y['test']), preds))"
   ]
  },
  {
   "cell_type": "code",
   "execution_count": 143,
   "metadata": {},
   "outputs": [
    {
     "name": "stdout",
     "output_type": "stream",
     "text": [
      "              precision    recall  f1-score   support\n",
      "\n",
      "         0.0       0.58      0.55      0.56      3626\n",
      "         1.0       0.42      0.46      0.44      2611\n",
      "\n",
      "   micro avg       0.51      0.51      0.51      6237\n",
      "   macro avg       0.50      0.50      0.50      6237\n",
      "weighted avg       0.52      0.51      0.51      6237\n",
      "\n"
     ]
    }
   ],
   "source": [
    "print(classification_report(clf_transformer(y['test']), preds))"
   ]
  },
  {
   "cell_type": "code",
   "execution_count": 198,
   "metadata": {},
   "outputs": [
    {
     "name": "stdout",
     "output_type": "stream",
     "text": [
      "0.40450784370859333\n",
      "0.5345509741745587\n",
      "0.5756311455713544\n",
      "0.5840434164739177\n",
      "0.5957427343758674\n",
      "0.5924272828870928\n",
      "0.5802272474658623\n",
      "0.550942804175156\n",
      "0.518378319907015\n",
      "0.4508527592154399\n",
      "nan\n"
     ]
    },
    {
     "name": "stderr",
     "output_type": "stream",
     "text": [
      "/opt/anaconda/lib/python3.7/site-packages/scipy/stats/stats.py:3038: RuntimeWarning: invalid value encountered in double_scalars\n",
      "  r = r_num / r_den\n"
     ]
    }
   ],
   "source": [
    "from scipy.stats import pearsonr\n",
    "proba = clf.predict_proba(X['test'])\n",
    "\n",
    "for i in range(11):\n",
    "    print(pearsonr(clf_transformer(y['test']),(proba[:, 1] > i/10.)*1.)[0])"
   ]
  },
  {
   "cell_type": "code",
   "execution_count": 296,
   "metadata": {},
   "outputs": [],
   "source": [
    "\n",
    "class ElasticNet_py(LinearModel):\n",
    "    '''\n",
    "    Wrapper to reshape the pyglmnet to the \n",
    "    '''\n",
    "    def __init__(self, kwarg_dict):\n",
    "        self.kwargs = kwarg_dict\n",
    "        self.model = None\n",
    "        \n",
    "    def fit(self, X, y):\n",
    "        \n",
    "        self.model = glmnet(X, y, 'gaussian', **kwarg_dict)\n",
    "        \n",
    "    def predict(self, X):\n",
    "        preds = glmnetPredict(self.model, X)\n",
    "        return preds.reshape(-1,1)\n",
    "    \n",
    "# we want to extend a regressor, although we have to consider adding in a classifier\n",
    "class HierarchicalClfRegressor(LinearModel, RegressorMixin):\n",
    "    \n",
    "\n",
    "    def __init__(self, thresh, clf_loss='hinge', \n",
    "                 clf_cv_metric=f1_score, n_jobs=max(1, mp.cpu_count()-1), \n",
    "                 clf_l1_ratio=0.5, clf_cv=5, clf_class_weight='balanced', \n",
    "                 reg_cv=5, reg_l1_ratio=0.5, reg_alpha=0.1,\n",
    "                 clf_ensemble_method='CV', prefit_clf=None, prefit_clf_proba=0.5,\n",
    "                 use_pyglmnet=False, pyglmnet_groups=None,\n",
    "                 reg_metric=mean_squared_error):\n",
    "        '''\n",
    "        n_jobs -- maximum number of jobs to use\n",
    "        thresh -- used to determine the class targets for the clf\n",
    "        \n",
    "        '''\n",
    "        self.thresh = thresh\n",
    "        self.clf_ensemble_method = clf_ensemble_method\n",
    "        \n",
    "        self.clf_cv_metric = clf_cv_metric\n",
    "        self.clf_loss = clf_loss\n",
    "        self.clf_l1_ratio = clf_l1_ratio\n",
    "        self.clf_cv = clf_cv\n",
    "        self.clf_class_weight = clf_class_weight\n",
    "        \n",
    "        self.n_jobs = n_jobs\n",
    "        \n",
    "        if type(reg_l1_ratio) == list:\n",
    "            self.reg_l1_ratio = reg_l1_ratio\n",
    "        else:\n",
    "            self.reg_l1_ratio = [reg_l1_ratio]\n",
    "            \n",
    "        if type(reg_alpha) == list:\n",
    "            self.reg_alpha = reg_alpha\n",
    "        else:\n",
    "            self.reg_alpha = [reg_alpha]\n",
    "            \n",
    "        self.reg_cv = reg_cv\n",
    "        \n",
    "        self.clf_cross_val = None\n",
    "        \n",
    "        self.prefit_clf_proba = prefit_clf_proba\n",
    "        self.prefit_clf = False\n",
    "        \n",
    "        if prefit_clf is not None:\n",
    "            self.prefit_clf = True\n",
    "            self.clf = prefit_clf\n",
    "        elif self.clf_ensemble_method == 'CV':\n",
    "            self.clf = SGDClassifier(n_jobs=self.n_jobs//self.clf_cv, penalty='elasticnet', loss=self.clf_loss,\n",
    "                                     learning_rate='optimal', class_weight=self.clf_class_weight, l1_ratio=self.clf_l1_ratio)\n",
    "        elif self.clf_ensemble_method == 'early_stopping':\n",
    "            self.clf = SGDClassifier(n_jobs=self.n_jobs, penalty='elasticnet', loss=self.clf_loss,\n",
    "                                     learning_rate='optimal', class_weight=self.clf_class_weight, l1_ratio=self.clf_l1_ratio,\n",
    "                                     early_stopping=True, validation_fraction=.2, max_iter=10, tol=1e-6)\n",
    "        else:\n",
    "            self.clf = BaggingClassifier(base_estimator=SGDClassifier(penalty='elasticnet', loss=self.clf_loss, learning_rate='optimal', class_weight=self.clf_class_weight, l1_ratio=self.clf_l1_ratio),\n",
    "                                        n_estimators=20, max_samples=0.632, oob_score=True, n_jobs=n_jobs)\n",
    "            \n",
    "        self.pyglmnet = use_pyglmnet\n",
    "        self.pyglmnet_groups = pyglmnet_groups\n",
    "        self.reg_metric= reg_metric\n",
    "            \n",
    "        if use_pyglmnet:\n",
    "            self.reg = ElasticNetCV(l1_ratio=self.reg_l1_ratio, n_jobs=self.n_jobs//self.reg_cv, fit_intercept=False, cv=self.reg_cv)\n",
    "        else:\n",
    "            self.reg = None\n",
    "        \n",
    "        \n",
    "    def fit(self, X, y=None, y_clf=None, y_reg=None, cv_groups=None):\n",
    "        '''\n",
    "        Either y or both y_clf and y_reg must be not None\n",
    "        y_clf and y_reg are transformations of each other (same dimensions)\n",
    "        '''\n",
    "        if y is None:\n",
    "            pass\n",
    "        else:\n",
    "            y_clf = y\n",
    "            y_reg = y\n",
    "        \n",
    "        if self.prefit_clf:\n",
    "            # extract the clf predictions\n",
    "            clf_predictions = (self.clf.predict_proba(X)[:, 1] > self.prefit_clf_proba)*1.\n",
    "            self.clf_mean_prediction = np.mean(y_reg[clf_predictions==1])\n",
    "        else:\n",
    "            # fit the classifier\n",
    "            target = (y_clf >= 1. - self.thresh)*1.\n",
    "\n",
    "            if self.clf_ensemble_method == 'CV':\n",
    "                self.clf_cross_val = cross_validate(self.clf, X, target, scoring=make_scorer(self.clf_cv_metric),\n",
    "                                                    cv=self.clf_cv, n_jobs=self.clf_cv,\n",
    "                                                    return_estimator=True)\n",
    "\n",
    "                max_clf_cv = np.argmax(self.clf_cross_val['test_score'])\n",
    "\n",
    "                self.clf = self.clf_cross_val['estimator'][max_clf_cv]\n",
    "            else:\n",
    "                self.clf.fit(X, target)\n",
    "\n",
    "            # extract the clf predictions\n",
    "            clf_predictions = self.clf.predict(X)\n",
    "        \n",
    "            # estimate the clf best prediction for the y_reg\n",
    "            self.clf_mean_prediction = np.mean(y_reg[clf_predictions==1])\n",
    "        \n",
    "        if self.pyglmnet:\n",
    "            logo = LeaveOneGroupOut()\n",
    "            self.num_splits = logo.get_n_splits(groups=cv_groups[clf_predictions==0])\n",
    "            self.splits = logo.split(X[clf_predictions==0], y_reg[clf_predictions==0], cv_groups[clf_predictions==0])\n",
    "            self.reg_cross_val = {}\n",
    "            \n",
    "            # perform cross validation for very l1, alpha value\n",
    "            for l1_ratio in self.reg_l1_ratio:\n",
    "                for alpha in self.reg_alpha:\n",
    "                    #mod = cvWrapper_pyElasticNet(pyElasticNet(distr='gaussian', alpha=l1_ratio, reg_lambda=alpha, group=self.pyglmnet_groups))\n",
    "                    mod = LinearRegression()\n",
    "                    s = cross_validate(mod, X[clf_predictions==0].values, y_reg[clf_predictions==0], scoring=make_scorer(self.reg_metric),\n",
    "                                       cv=self.splits, n_jobs=self.n_jobs, return_estimator=True)\n",
    "                    \n",
    "                    running_error = 0.0\n",
    "                    running_count = 0\n",
    "                    \n",
    "                    # enumerate over the splits (variable size)\n",
    "                    for idx, split_indices in enumerate(logo.split(X[clf_predictions==0], y_reg[clf_predictions==0], cv_groups[clf_predictions==0])):\n",
    "                        count = split_indices[0].shape[0]\n",
    "                        \n",
    "                        # aggregate mse\n",
    "                        running_error += count * s['test_score'][idx]\n",
    "                        running_count += count\n",
    "                        \n",
    "                    s['agg_score'] = running_error/running_count\n",
    "                    \n",
    "                    self.reg_cross_val[(l1_ratio, alpha)] = s\n",
    "            \n",
    "        else:\n",
    "            # use the clf to fit the class zero predictions with a linear model\n",
    "            self.reg.fit(X[clf_predictions==0], y_reg[clf_predictions==0])\n",
    "        \n",
    "    def predict(self, X):\n",
    "        # final predictions to output\n",
    "        end_preds = np.zeros((X.shape[0]))\n",
    "    \n",
    "        # estimate with the clf predictors\n",
    "        clf_preds = self.clf.predict(X)\n",
    "        end_preds[clf_preds==1] = self.clf_mean_prediction\n",
    "        \n",
    "        # predict the clf_negatives\n",
    "        reg_preds = self.reg.predict(X[clf_preds==0])\n",
    "        end_preds[clf_preds==0] = reg_preds\n",
    "        \n",
    "        return end_preds\n",
    "        "
   ]
  },
  {
   "cell_type": "code",
   "execution_count": 309,
   "metadata": {},
   "outputs": [],
   "source": []
  },
  {
   "cell_type": "code",
   "execution_count": 313,
   "metadata": {},
   "outputs": [
    {
     "data": {
      "text/plain": [
       "(6237, 85)"
      ]
     },
     "execution_count": 313,
     "metadata": {},
     "output_type": "execute_result"
    }
   ],
   "source": [
    "glmnetPredict(tmod, X['dev']).shape"
   ]
  },
  {
   "cell_type": "code",
   "execution_count": 303,
   "metadata": {},
   "outputs": [
    {
     "data": {
      "text/plain": [
       "array([[0.4550801],\n",
       "       [0.4550801],\n",
       "       [0.4550801],\n",
       "       ...,\n",
       "       [0.4550801],\n",
       "       [0.4550801],\n",
       "       [0.4550801]])"
      ]
     },
     "execution_count": 303,
     "metadata": {},
     "output_type": "execute_result"
    }
   ],
   "source": [
    "tmod.predict(X['train'].values)"
   ]
  },
  {
   "cell_type": "code",
   "execution_count": 298,
   "metadata": {},
   "outputs": [],
   "source": [
    "mod = HierarchicalClfRegressor(thresh=0.05, n_jobs=15, reg_l1_ratio=0.5, reg_alpha=0.1, reg_metric=mean_squared_error, prefit_clf=clf, use_pyglmnet=True)"
   ]
  },
  {
   "cell_type": "code",
   "execution_count": 299,
   "metadata": {},
   "outputs": [],
   "source": [
    "mod.fit(X['train'], y=targ['train'], cv_groups=ref['train']['Drug'])"
   ]
  },
  {
   "cell_type": "code",
   "execution_count": 172,
   "metadata": {},
   "outputs": [
    {
     "data": {
      "text/plain": [
       "(1, 662)"
      ]
     },
     "execution_count": 172,
     "metadata": {},
     "output_type": "execute_result"
    }
   ],
   "source": [
    "clf.estimators_[0].coef_.shape"
   ]
  },
  {
   "cell_type": "code",
   "execution_count": 183,
   "metadata": {},
   "outputs": [
    {
     "data": {
      "image/png": "[encoded data removed]",
      "text/plain": [
       "<Figure size 432x288 with 1 Axes>"
      ]
     },
     "metadata": {
      "needs_background": "light"
     },
     "output_type": "display_data"
    }
   ],
   "source": [
    "coef = np.mean(np.vstack([e.coef_ for e in clf.estimators_]), axis=0)\n",
    "plt.hist(coef, bins=30)\n",
    "plt.show()"
   ]
  },
  {
   "cell_type": "code",
   "execution_count": 404,
   "metadata": {},
   "outputs": [
    {
     "data": {
      "image/png": "[encoded data removed]",
      "text/plain": [
       "<Figure size 864x360 with 4 Axes>"
      ]
     },
     "metadata": {
      "needs_background": "light"
     },
     "output_type": "display_data"
    }
   ],
   "source": [
    "fig, axes = plt.subplots(figsize=(12,5), ncols=2, nrows=2, sharey=True, sharex=True)\n",
    "\n",
    "plt.suptitle('GR Metrics Growth Prediction', y=1.05, fontsize=20)\n",
    "#plt.title('+1 = No Effect, 0 = Cytostatic response, -1 = Cell Death', y=1.0, fontsize=10)\n",
    "\n",
    "axes[0][0].hist(y['train'], bins=20, density=True, color='b')\n",
    "axes[0][0].set_title('Training Set, True Values', y=.8)\n",
    "\n",
    "axes[0][1].hist(y['dev'], bins=20, density=True, color='g')\n",
    "axes[0][1].set_title('Validation Set, True Values', y=.8)\n",
    "\n",
    "axes[1][0].hist((norm.cdf(p_train)-.5)*2, bins=20, density=True, color='b')\n",
    "axes[1][0].set_title('Training Set, Predicted Values', y=.8)\n",
    "\n",
    "axes[1][1].hist((norm.cdf(p_dev)-.5)*2, bins=20, density=True, color='g')\n",
    "axes[1][1].set_title('Validation Set, Predicted Values', y=.8)\n",
    "\n",
    "plt.show()"
   ]
  },
  {
   "cell_type": "code",
   "execution_count": 431,
   "metadata": {},
   "outputs": [
    {
     "name": "stdout",
     "output_type": "stream",
     "text": [
      "[[1.         0.62368565]\n",
      " [0.62368565 1.        ]]\n",
      "[[1.         0.61981648]\n",
      " [0.61981648 1.        ]]\n"
     ]
    }
   ],
   "source": [
    "print(np.corrcoef(y['train'], p_train))\n",
    "print(np.corrcoef(y['dev'], p_dev))"
   ]
  },
  {
   "cell_type": "code",
   "execution_count": 429,
   "metadata": {},
   "outputs": [
    {
     "data": {
      "image/png": "[encoded data removed]",
      "text/plain": [
       "<Figure size 720x360 with 2 Axes>"
      ]
     },
     "metadata": {
      "needs_background": "light"
     },
     "output_type": "display_data"
    }
   ],
   "source": [
    "fig, axes = plt.subplots(figsize=(10,5), ncols=2, sharey=True)\n",
    "\n",
    "plt.suptitle('GR Metrics Growth Prediction', y=1.05, fontsize=20)\n",
    "#plt.title('+1 = No Effect, 0 = Cytostatic response, -1 = Cell Death', y=1.0, fontsize=10)\n",
    "\n",
    "sns.kdeplot(y['train'], (norm.cdf(p_train)-.5)*2,ax=axes[0], shade=True)\n",
    "axes[0].set_title('Training Set', y=1.05)\n",
    "\n",
    "sns.kdeplot(y['dev'], (norm.cdf(p_dev)-.5)*2, ax = axes[1], shade=True)\n",
    "axes[1].set_title('Validation Set', y=1.05)\n",
    "\n",
    "plt.show()"
   ]
  },
  {
   "cell_type": "code",
   "execution_count": null,
   "metadata": {},
   "outputs": [],
   "source": [
    "fig, axes = plt.subplots(figsize=(12,5), ncols=2, sharey=True)\n",
    "\n",
    "p_train = mod.predict(X['train'])\n",
    "p_dev = mod.predict(X['dev'])\n",
    "\n",
    "axes[0].hist(p_train, bins=20, density=True, color='b')\n",
    "axes[1].hist(p_dev, bins=20, density=True, color='g')\n",
    "\n",
    "plt.show()"
   ]
  },
  {
   "cell_type": "code",
   "execution_count": 405,
   "metadata": {},
   "outputs": [
    {
     "data": {
      "text/plain": [
       "0.8066378066378066"
      ]
     },
     "execution_count": 405,
     "metadata": {},
     "output_type": "execute_result"
    }
   ],
   "source": [
    "mod.clf.score(X['dev'], (y['dev']>1-1e-12)*1.)"
   ]
  },
  {
   "cell_type": "code",
   "execution_count": 388,
   "metadata": {},
   "outputs": [
    {
     "data": {
      "text/plain": [
       "8.0"
      ]
     },
     "metadata": {},
     "output_type": "display_data"
    },
    {
     "data": {
      "text/plain": [
       "8.0"
      ]
     },
     "metadata": {},
     "output_type": "display_data"
    }
   ],
   "source": [
    "display(np.mean(targ['train'][y['train']>1-1e-12]))\n",
    "display(np.mean(targ['dev'][y['dev']>1-1e-12]))"
   ]
  },
  {
   "cell_type": "code",
   "execution_count": 29,
   "metadata": {},
   "outputs": [
    {
     "data": {
      "image/png": "[encoded data removed]",
      "text/plain": [
       "<Figure size 432x288 with 1 Axes>"
      ]
     },
     "metadata": {
      "needs_background": "light"
     },
     "output_type": "display_data"
    }
   ],
   "source": [
    "plt.hist(clf.predict(X['dev']), alpha=0.6)\n",
    "plt.hist(clf_transformer(y['dev']), alpha=0.6)\n",
    "\n",
    "plt.show()"
   ]
  }
 ],
 "metadata": {
  "kernelspec": {
   "display_name": "Python 3",
   "language": "python",
   "name": "python3"
  },
  "language_info": {
   "codemirror_mode": {
    "name": "ipython",
    "version": 3
   },
   "file_extension": ".py",
   "mimetype": "text/x-python",
   "name": "python",
   "nbconvert_exporter": "python",
   "pygments_lexer": "ipython3",
   "version": "3.7.3"
  }
 },
 "nbformat": 4,
 "nbformat_minor": 2
}
