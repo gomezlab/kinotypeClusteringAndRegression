{
 "cells": [
  {
   "cell_type": "code",
   "execution_count": 1,
   "metadata": {},
   "outputs": [],
   "source": [
    "import pandas as pd\n",
    "import numpy as np\n",
    "import matplotlib.pyplot as plt\n",
    "import seaborn as sns\n",
    "import itertools as it\n",
    "import functools as ft\n",
    "from tools import helpers as h\n",
    "from copy import copy\n",
    "\n",
    "from umap import UMAP\n",
    "from sklearn.decomposition import PCA\n",
    "from sklearn.manifold import TSNE\n",
    "\n",
    "from collections import OrderedDict\n",
    "from sklearn.preprocessing import Normalizer\n",
    "\n",
    "%matplotlib inline"
   ]
  },
  {
   "cell_type": "code",
   "execution_count": 2,
   "metadata": {},
   "outputs": [
    {
     "data": {
      "text/html": [
       "<div>\n",
       "<style scoped>\n",
       "    .dataframe tbody tr th:only-of-type {\n",
       "        vertical-align: middle;\n",
       "    }\n",
       "\n",
       "    .dataframe tbody tr th {\n",
       "        vertical-align: top;\n",
       "    }\n",
       "\n",
       "    .dataframe thead th {\n",
       "        text-align: right;\n",
       "    }\n",
       "</style>\n",
       "<table border=\"1\" class=\"dataframe\">\n",
       "  <thead>\n",
       "    <tr style=\"text-align: right;\">\n",
       "      <th></th>\n",
       "      <th>cluster_super</th>\n",
       "      <th>cluster_sub</th>\n",
       "    </tr>\n",
       "    <tr>\n",
       "      <th>names</th>\n",
       "      <th></th>\n",
       "      <th></th>\n",
       "    </tr>\n",
       "  </thead>\n",
       "  <tbody>\n",
       "    <tr>\n",
       "      <th>MST1R</th>\n",
       "      <td>3</td>\n",
       "      <td>11</td>\n",
       "    </tr>\n",
       "    <tr>\n",
       "      <th>YES1</th>\n",
       "      <td>3</td>\n",
       "      <td>11</td>\n",
       "    </tr>\n",
       "    <tr>\n",
       "      <th>TYRO3</th>\n",
       "      <td>3</td>\n",
       "      <td>11</td>\n",
       "    </tr>\n",
       "    <tr>\n",
       "      <th>FGR</th>\n",
       "      <td>3</td>\n",
       "      <td>11</td>\n",
       "    </tr>\n",
       "    <tr>\n",
       "      <th>SRC</th>\n",
       "      <td>3</td>\n",
       "      <td>11</td>\n",
       "    </tr>\n",
       "  </tbody>\n",
       "</table>\n",
       "</div>"
      ],
      "text/plain": [
       "       cluster_super  cluster_sub\n",
       "names                            \n",
       "MST1R              3           11\n",
       "YES1               3           11\n",
       "TYRO3              3           11\n",
       "FGR                3           11\n",
       "SRC                3           11"
      ]
     },
     "execution_count": 2,
     "metadata": {},
     "output_type": "execute_result"
    }
   ],
   "source": [
    "louv = pd.read_csv('../data/cluster/louvain_clusters.txt', index_col=0, sep='\\t')\n",
    "louv.columns = ['cluster_super']\n",
    "louv = louv.merge(pd.read_csv('../data/cluster/louvain_small_clusters.txt', index_col=0, sep='\\t'), left_index=True, right_index=True)\n",
    "louv.columns = ['cluster_super', 'cluster_sub']\n",
    "louv.head()"
   ]
  },
  {
   "cell_type": "code",
   "execution_count": 3,
   "metadata": {},
   "outputs": [],
   "source": [
    "hgnc_mapper = h.fetch_hgnc_mapper()"
   ]
  },
  {
   "cell_type": "code",
   "execution_count": 4,
   "metadata": {},
   "outputs": [
    {
     "name": "stdout",
     "output_type": "stream",
     "text": [
      "217  drugs present for our analysis\n"
     ]
    },
    {
     "data": {
      "text/html": [
       "<div>\n",
       "<style scoped>\n",
       "    .dataframe tbody tr th:only-of-type {\n",
       "        vertical-align: middle;\n",
       "    }\n",
       "\n",
       "    .dataframe tbody tr th {\n",
       "        vertical-align: top;\n",
       "    }\n",
       "\n",
       "    .dataframe thead th {\n",
       "        text-align: right;\n",
       "    }\n",
       "</style>\n",
       "<table border=\"1\" class=\"dataframe\">\n",
       "  <thead>\n",
       "    <tr style=\"text-align: right;\">\n",
       "      <th></th>\n",
       "      <th>Target</th>\n",
       "      <th>Drug</th>\n",
       "      <th>At</th>\n",
       "      <th>CATDS</th>\n",
       "    </tr>\n",
       "  </thead>\n",
       "  <tbody>\n",
       "    <tr>\n",
       "      <th>0</th>\n",
       "      <td>AURKA</td>\n",
       "      <td>mk5108</td>\n",
       "      <td>0.120921</td>\n",
       "      <td>0.657165</td>\n",
       "    </tr>\n",
       "    <tr>\n",
       "      <th>1</th>\n",
       "      <td>CHEK1</td>\n",
       "      <td>pf477736</td>\n",
       "      <td>0.243725</td>\n",
       "      <td>0.733257</td>\n",
       "    </tr>\n",
       "    <tr>\n",
       "      <th>2</th>\n",
       "      <td>FLT3</td>\n",
       "      <td>dovitinib</td>\n",
       "      <td>0.265240</td>\n",
       "      <td>0.860803</td>\n",
       "    </tr>\n",
       "    <tr>\n",
       "      <th>4</th>\n",
       "      <td>MET</td>\n",
       "      <td>capmatinib</td>\n",
       "      <td>0.337514</td>\n",
       "      <td>1.000000</td>\n",
       "    </tr>\n",
       "    <tr>\n",
       "      <th>5</th>\n",
       "      <td>MAPKAPK2</td>\n",
       "      <td>vx702</td>\n",
       "      <td>0.342705</td>\n",
       "      <td>0.743594</td>\n",
       "    </tr>\n",
       "  </tbody>\n",
       "</table>\n",
       "</div>"
      ],
      "text/plain": [
       "     Target        Drug        At     CATDS\n",
       "0     AURKA      mk5108  0.120921  0.657165\n",
       "1     CHEK1    pf477736  0.243725  0.733257\n",
       "2      FLT3   dovitinib  0.265240  0.860803\n",
       "4       MET  capmatinib  0.337514  1.000000\n",
       "5  MAPKAPK2       vx702  0.342705  0.743594"
      ]
     },
     "execution_count": 4,
     "metadata": {},
     "output_type": "execute_result"
    }
   ],
   "source": [
    "# initial target list -- not for linear programming\n",
    "klaeger = pd.read_excel('../data/ref/Klaeger_Science_2017 Supplementary Table 6 Selectivities.xlsx', sheet_name='CATDS target')\n",
    "\n",
    "# a number of drugs have very similar targets listed in the same row\n",
    "# we parse to separate these out \n",
    "double_drug_targets = klaeger[klaeger['Target'].apply(lambda x: ';' in x)]\n",
    "\n",
    "# get the first and second gene\n",
    "first_genes = double_drug_targets['Target'].apply(lambda x: x.split(';')[0])\n",
    "second_genes = double_drug_targets['Target'].apply(lambda x: x.split(';')[1])\n",
    "\n",
    "# fix the double targets\n",
    "repaired_double_targets = double_drug_targets.drop('Target', axis=1).assign(**{'Target':first_genes})\n",
    "repaired_double_targets = repaired_double_targets.append(double_drug_targets.drop('Target', axis=1).assign(**{'Target':second_genes})) \n",
    "klaeger = klaeger.drop(double_drug_targets.index).append(repaired_double_targets, sort=False)\n",
    "\n",
    "# filter to only hgnc keys\n",
    "klaeger = klaeger[klaeger.Target.isin(hgnc_mapper.keys())]\n",
    "\n",
    "# convert to hgnc\n",
    "klaeger.Target = klaeger.Target.apply(lambda x: hgnc_mapper[x])\n",
    "\n",
    "# filter to our kinases\n",
    "klaeger = klaeger[klaeger.Target.isin(set(louv.index))]\n",
    "\n",
    "# save total drug list information\n",
    "drug_list = list(sorted(set(klaeger.Drug)))\n",
    "print(len(drug_list), ' drugs present for our analysis')\n",
    "\n",
    "# sort columns\n",
    "klaeger = klaeger[['Target', 'Drug', 'At', 'CATDS']]\n",
    "\n",
    "klaeger['Drug'] = [x.lower().replace('-', '') for x in klaeger.Drug]\n",
    "klaeger.head()"
   ]
  },
  {
   "cell_type": "code",
   "execution_count": 5,
   "metadata": {},
   "outputs": [
    {
     "name": "stdout",
     "output_type": "stream",
     "text": [
      "217 drugs in the Klaeger 2017 Science Paper with known targets\n"
     ]
    }
   ],
   "source": [
    "klaeger_drugs = set(klaeger.Drug)\n",
    "print(len(klaeger_drugs), 'drugs in the Klaeger 2017 Science Paper with known targets')"
   ]
  },
  {
   "cell_type": "markdown",
   "metadata": {},
   "source": [
    "### Klaeger All hits data (4-cell line mix)"
   ]
  },
  {
   "cell_type": "code",
   "execution_count": 6,
   "metadata": {},
   "outputs": [
    {
     "data": {
      "text/html": [
       "<div>\n",
       "<style scoped>\n",
       "    .dataframe tbody tr th:only-of-type {\n",
       "        vertical-align: middle;\n",
       "    }\n",
       "\n",
       "    .dataframe tbody tr th {\n",
       "        vertical-align: top;\n",
       "    }\n",
       "\n",
       "    .dataframe thead th {\n",
       "        text-align: right;\n",
       "    }\n",
       "</style>\n",
       "<table border=\"1\" class=\"dataframe\">\n",
       "  <thead>\n",
       "    <tr style=\"text-align: right;\">\n",
       "      <th></th>\n",
       "      <th>Drug</th>\n",
       "      <th>Lysate</th>\n",
       "      <th>Beads</th>\n",
       "      <th>Gene Name</th>\n",
       "      <th>Relative Intensity DMSO</th>\n",
       "      <th>Relative Intensity 3 nM</th>\n",
       "      <th>Relative Intensity 10 nM</th>\n",
       "      <th>Relative Intensity 30 nM</th>\n",
       "      <th>Relative Intensity 100 nM</th>\n",
       "      <th>Relative Intensity 300 nM</th>\n",
       "      <th>...</th>\n",
       "      <th>Bottom</th>\n",
       "      <th>Top</th>\n",
       "      <th>Inflection</th>\n",
       "      <th>EC50</th>\n",
       "      <th>EC50 Standard Error</th>\n",
       "      <th>Correction Factor</th>\n",
       "      <th>Apparent Kd</th>\n",
       "      <th>R2</th>\n",
       "      <th>BIC</th>\n",
       "      <th>Target Classification</th>\n",
       "    </tr>\n",
       "  </thead>\n",
       "  <tbody>\n",
       "    <tr>\n",
       "      <th>0</th>\n",
       "      <td>abemaciclib</td>\n",
       "      <td>4 cell line mix</td>\n",
       "      <td>Kinobeads</td>\n",
       "      <td>AAK1</td>\n",
       "      <td>1</td>\n",
       "      <td>0.905556</td>\n",
       "      <td>0.791054</td>\n",
       "      <td>0.738292</td>\n",
       "      <td>0.639565</td>\n",
       "      <td>0.323354</td>\n",
       "      <td>...</td>\n",
       "      <td>0.009092</td>\n",
       "      <td>0.957905</td>\n",
       "      <td>151.288760</td>\n",
       "      <td>151.288760</td>\n",
       "      <td>45.696999</td>\n",
       "      <td>0.673073</td>\n",
       "      <td>101.828368</td>\n",
       "      <td>0.985386</td>\n",
       "      <td>-20.503519</td>\n",
       "      <td>High confidence</td>\n",
       "    </tr>\n",
       "    <tr>\n",
       "      <th>1</th>\n",
       "      <td>abemaciclib</td>\n",
       "      <td>4 cell line mix</td>\n",
       "      <td>Kinobeads</td>\n",
       "      <td>ADCK1</td>\n",
       "      <td>1</td>\n",
       "      <td>1.045974</td>\n",
       "      <td>0.869866</td>\n",
       "      <td>1.141565</td>\n",
       "      <td>0.000000</td>\n",
       "      <td>0.000000</td>\n",
       "      <td>...</td>\n",
       "      <td>-0.001200</td>\n",
       "      <td>1.014355</td>\n",
       "      <td>63.935536</td>\n",
       "      <td>63.935536</td>\n",
       "      <td>68.832970</td>\n",
       "      <td>0.622595</td>\n",
       "      <td>39.805937</td>\n",
       "      <td>0.983520</td>\n",
       "      <td>-12.606135</td>\n",
       "      <td>High confidence</td>\n",
       "    </tr>\n",
       "    <tr>\n",
       "      <th>2</th>\n",
       "      <td>abemaciclib</td>\n",
       "      <td>4 cell line mix</td>\n",
       "      <td>Kinobeads</td>\n",
       "      <td>BMP2K</td>\n",
       "      <td>1</td>\n",
       "      <td>1.101696</td>\n",
       "      <td>1.012297</td>\n",
       "      <td>1.087891</td>\n",
       "      <td>0.973740</td>\n",
       "      <td>0.863230</td>\n",
       "      <td>...</td>\n",
       "      <td>-1.003278</td>\n",
       "      <td>1.034558</td>\n",
       "      <td>84774.108960</td>\n",
       "      <td>84774.108960</td>\n",
       "      <td>217756.243215</td>\n",
       "      <td>0.660952</td>\n",
       "      <td>56031.642989</td>\n",
       "      <td>0.937247</td>\n",
       "      <td>-15.330485</td>\n",
       "      <td>High confidence</td>\n",
       "    </tr>\n",
       "    <tr>\n",
       "      <th>3</th>\n",
       "      <td>abemaciclib</td>\n",
       "      <td>4 cell line mix</td>\n",
       "      <td>Kinobeads</td>\n",
       "      <td>CAMK2D</td>\n",
       "      <td>1</td>\n",
       "      <td>0.894551</td>\n",
       "      <td>0.984481</td>\n",
       "      <td>0.900583</td>\n",
       "      <td>0.440384</td>\n",
       "      <td>0.178266</td>\n",
       "      <td>...</td>\n",
       "      <td>0.018690</td>\n",
       "      <td>0.972850</td>\n",
       "      <td>95.373379</td>\n",
       "      <td>95.373379</td>\n",
       "      <td>12.131433</td>\n",
       "      <td>0.203913</td>\n",
       "      <td>19.447883</td>\n",
       "      <td>0.992088</td>\n",
       "      <td>-22.486948</td>\n",
       "      <td>High confidence</td>\n",
       "    </tr>\n",
       "    <tr>\n",
       "      <th>4</th>\n",
       "      <td>abemaciclib</td>\n",
       "      <td>4 cell line mix</td>\n",
       "      <td>Kinobeads</td>\n",
       "      <td>CAMK2G</td>\n",
       "      <td>1</td>\n",
       "      <td>1.125435</td>\n",
       "      <td>1.565245</td>\n",
       "      <td>1.236451</td>\n",
       "      <td>0.315507</td>\n",
       "      <td>0.139777</td>\n",
       "      <td>...</td>\n",
       "      <td>0.043265</td>\n",
       "      <td>1.232332</td>\n",
       "      <td>82.363844</td>\n",
       "      <td>82.363844</td>\n",
       "      <td>NaN</td>\n",
       "      <td>0.217204</td>\n",
       "      <td>17.889794</td>\n",
       "      <td>0.939239</td>\n",
       "      <td>1.734623</td>\n",
       "      <td>High confidence</td>\n",
       "    </tr>\n",
       "  </tbody>\n",
       "</table>\n",
       "<p>5 rows × 26 columns</p>\n",
       "</div>"
      ],
      "text/plain": [
       "          Drug           Lysate      Beads Gene Name  Relative Intensity DMSO  \\\n",
       "0  abemaciclib  4 cell line mix  Kinobeads      AAK1                        1   \n",
       "1  abemaciclib  4 cell line mix  Kinobeads     ADCK1                        1   \n",
       "2  abemaciclib  4 cell line mix  Kinobeads     BMP2K                        1   \n",
       "3  abemaciclib  4 cell line mix  Kinobeads    CAMK2D                        1   \n",
       "4  abemaciclib  4 cell line mix  Kinobeads    CAMK2G                        1   \n",
       "\n",
       "   Relative Intensity 3 nM  Relative Intensity 10 nM  \\\n",
       "0                 0.905556                  0.791054   \n",
       "1                 1.045974                  0.869866   \n",
       "2                 1.101696                  1.012297   \n",
       "3                 0.894551                  0.984481   \n",
       "4                 1.125435                  1.565245   \n",
       "\n",
       "   Relative Intensity 30 nM  Relative Intensity 100 nM  \\\n",
       "0                  0.738292                   0.639565   \n",
       "1                  1.141565                   0.000000   \n",
       "2                  1.087891                   0.973740   \n",
       "3                  0.900583                   0.440384   \n",
       "4                  1.236451                   0.315507   \n",
       "\n",
       "   Relative Intensity 300 nM          ...              Bottom       Top  \\\n",
       "0                   0.323354          ...            0.009092  0.957905   \n",
       "1                   0.000000          ...           -0.001200  1.014355   \n",
       "2                   0.863230          ...           -1.003278  1.034558   \n",
       "3                   0.178266          ...            0.018690  0.972850   \n",
       "4                   0.139777          ...            0.043265  1.232332   \n",
       "\n",
       "     Inflection          EC50 EC50 Standard Error  Correction Factor  \\\n",
       "0    151.288760    151.288760           45.696999           0.673073   \n",
       "1     63.935536     63.935536           68.832970           0.622595   \n",
       "2  84774.108960  84774.108960       217756.243215           0.660952   \n",
       "3     95.373379     95.373379           12.131433           0.203913   \n",
       "4     82.363844     82.363844                 NaN           0.217204   \n",
       "\n",
       "    Apparent Kd        R2        BIC  Target Classification  \n",
       "0    101.828368  0.985386 -20.503519        High confidence  \n",
       "1     39.805937  0.983520 -12.606135        High confidence  \n",
       "2  56031.642989  0.937247 -15.330485        High confidence  \n",
       "3     19.447883  0.992088 -22.486948        High confidence  \n",
       "4     17.889794  0.939239   1.734623        High confidence  \n",
       "\n",
       "[5 rows x 26 columns]"
      ]
     },
     "execution_count": 6,
     "metadata": {},
     "output_type": "execute_result"
    }
   ],
   "source": [
    "allhits = pd.read_excel('../data/ref/Klaeger_Science_2017 Supplementary Table 2 Target Lists.xlsx', sheet_name='Kinobeads')\n",
    "\n",
    "allhits_double_drug_targets = allhits[allhits['Gene Name'].apply(lambda x: ';' in x)]\n",
    "\n",
    "# get the first and second gene\n",
    "allhits_first_genes = allhits_double_drug_targets['Gene Name'].apply(lambda x: x.split(';')[0])\n",
    "allhits_second_genes = allhits_double_drug_targets['Gene Name'].apply(lambda x: x.split(';')[1])\n",
    "\n",
    "# fix the double targets\n",
    "allhits_repaired_double_targets = allhits_double_drug_targets.drop('Gene Name', axis=1).assign(**{'Gene Name':allhits_first_genes})\n",
    "allhits_repaired_double_targets = allhits_repaired_double_targets.append(allhits_double_drug_targets.drop('Gene Name', axis=1).assign(**{'Gene Name':allhits_second_genes})) \n",
    "allhits = allhits.drop(allhits_double_drug_targets.index).append(allhits_repaired_double_targets, sort=False)\n",
    "\n",
    "# filter to only hgnc keys\n",
    "allhits = allhits[allhits['Gene Name'].isin(hgnc_mapper.keys())]\n",
    "\n",
    "# convert to hgnc\n",
    "allhits['Gene Name'] = allhits['Gene Name'].apply(lambda x: hgnc_mapper[x])\n",
    "\n",
    "# filter to our kinases\n",
    "allhits = allhits[allhits['Gene Name'].isin(set(louv.index))]\n",
    "\n",
    "# lower drug names\n",
    "allhits['Drug'] = [x.lower().replace('-', '') for x in allhits.Drug]\n",
    "\n",
    "allhits.head()"
   ]
  },
  {
   "cell_type": "code",
   "execution_count": 7,
   "metadata": {},
   "outputs": [
    {
     "data": {
      "text/plain": [
       "220"
      ]
     },
     "execution_count": 7,
     "metadata": {},
     "output_type": "execute_result"
    }
   ],
   "source": [
    "len(set(allhits.Drug))"
   ]
  },
  {
   "cell_type": "code",
   "execution_count": 8,
   "metadata": {},
   "outputs": [
    {
     "data": {
      "image/png": "[encoded data removed]",
      "text/plain": [
       "<Figure size 432x288 with 1 Axes>"
      ]
     },
     "metadata": {
      "needs_background": "light"
     },
     "output_type": "display_data"
    }
   ],
   "source": [
    "plt.hist(allhits['Relative Intensity DMSO'])\n",
    "plt.show()"
   ]
  },
  {
   "cell_type": "code",
   "execution_count": 9,
   "metadata": {},
   "outputs": [
    {
     "data": {
      "text/html": [
       "<div>\n",
       "<style scoped>\n",
       "    .dataframe tbody tr th:only-of-type {\n",
       "        vertical-align: middle;\n",
       "    }\n",
       "\n",
       "    .dataframe tbody tr th {\n",
       "        vertical-align: top;\n",
       "    }\n",
       "\n",
       "    .dataframe thead th {\n",
       "        text-align: right;\n",
       "    }\n",
       "</style>\n",
       "<table border=\"1\" class=\"dataframe\">\n",
       "  <thead>\n",
       "    <tr style=\"text-align: right;\">\n",
       "      <th></th>\n",
       "      <th>Drug</th>\n",
       "      <th>Gene Name</th>\n",
       "      <th>Relative Intensity 3 nM</th>\n",
       "      <th>Relative Intensity 10 nM</th>\n",
       "      <th>Relative Intensity 30 nM</th>\n",
       "      <th>Relative Intensity 100 nM</th>\n",
       "      <th>Relative Intensity 300 nM</th>\n",
       "      <th>Relative Intensity 1000 nM</th>\n",
       "      <th>Relative Intensity 3000 nM</th>\n",
       "      <th>Relative Intensity 30000 nM</th>\n",
       "    </tr>\n",
       "  </thead>\n",
       "  <tbody>\n",
       "    <tr>\n",
       "      <th>0</th>\n",
       "      <td>abemaciclib</td>\n",
       "      <td>AAK1</td>\n",
       "      <td>0.905556</td>\n",
       "      <td>0.791054</td>\n",
       "      <td>0.738292</td>\n",
       "      <td>0.639565</td>\n",
       "      <td>0.323354</td>\n",
       "      <td>0.181984</td>\n",
       "      <td>0.063421</td>\n",
       "      <td>0.057103</td>\n",
       "    </tr>\n",
       "    <tr>\n",
       "      <th>1</th>\n",
       "      <td>abemaciclib</td>\n",
       "      <td>ADCK1</td>\n",
       "      <td>1.045974</td>\n",
       "      <td>0.869866</td>\n",
       "      <td>1.141565</td>\n",
       "      <td>0.000000</td>\n",
       "      <td>0.000000</td>\n",
       "      <td>0.000000</td>\n",
       "      <td>0.000000</td>\n",
       "      <td>0.000000</td>\n",
       "    </tr>\n",
       "    <tr>\n",
       "      <th>2</th>\n",
       "      <td>abemaciclib</td>\n",
       "      <td>BMP2K</td>\n",
       "      <td>1.101696</td>\n",
       "      <td>1.012297</td>\n",
       "      <td>1.087891</td>\n",
       "      <td>0.973740</td>\n",
       "      <td>0.863230</td>\n",
       "      <td>0.885498</td>\n",
       "      <td>0.862572</td>\n",
       "      <td>0.313434</td>\n",
       "    </tr>\n",
       "    <tr>\n",
       "      <th>3</th>\n",
       "      <td>abemaciclib</td>\n",
       "      <td>CAMK2D</td>\n",
       "      <td>0.894551</td>\n",
       "      <td>0.984481</td>\n",
       "      <td>0.900583</td>\n",
       "      <td>0.440384</td>\n",
       "      <td>0.178266</td>\n",
       "      <td>0.021331</td>\n",
       "      <td>0.004220</td>\n",
       "      <td>0.017424</td>\n",
       "    </tr>\n",
       "    <tr>\n",
       "      <th>4</th>\n",
       "      <td>abemaciclib</td>\n",
       "      <td>CAMK2G</td>\n",
       "      <td>1.125435</td>\n",
       "      <td>1.565245</td>\n",
       "      <td>1.236451</td>\n",
       "      <td>0.315507</td>\n",
       "      <td>0.139777</td>\n",
       "      <td>0.013431</td>\n",
       "      <td>0.005382</td>\n",
       "      <td>0.017473</td>\n",
       "    </tr>\n",
       "  </tbody>\n",
       "</table>\n",
       "</div>"
      ],
      "text/plain": [
       "          Drug Gene Name  Relative Intensity 3 nM  Relative Intensity 10 nM  \\\n",
       "0  abemaciclib      AAK1                 0.905556                  0.791054   \n",
       "1  abemaciclib     ADCK1                 1.045974                  0.869866   \n",
       "2  abemaciclib     BMP2K                 1.101696                  1.012297   \n",
       "3  abemaciclib    CAMK2D                 0.894551                  0.984481   \n",
       "4  abemaciclib    CAMK2G                 1.125435                  1.565245   \n",
       "\n",
       "   Relative Intensity 30 nM  Relative Intensity 100 nM  \\\n",
       "0                  0.738292                   0.639565   \n",
       "1                  1.141565                   0.000000   \n",
       "2                  1.087891                   0.973740   \n",
       "3                  0.900583                   0.440384   \n",
       "4                  1.236451                   0.315507   \n",
       "\n",
       "   Relative Intensity 300 nM  Relative Intensity 1000 nM  \\\n",
       "0                   0.323354                    0.181984   \n",
       "1                   0.000000                    0.000000   \n",
       "2                   0.863230                    0.885498   \n",
       "3                   0.178266                    0.021331   \n",
       "4                   0.139777                    0.013431   \n",
       "\n",
       "   Relative Intensity 3000 nM  Relative Intensity 30000 nM  \n",
       "0                    0.063421                     0.057103  \n",
       "1                    0.000000                     0.000000  \n",
       "2                    0.862572                     0.313434  \n",
       "3                    0.004220                     0.017424  \n",
       "4                    0.005382                     0.017473  "
      ]
     },
     "execution_count": 9,
     "metadata": {},
     "output_type": "execute_result"
    }
   ],
   "source": [
    "raw_conc_data = allhits[['Drug', 'Gene Name'] + [x for x in allhits.columns if 'Relative Intensity' in x and 'DMSO' not in x]]\n",
    "raw_conc_data.head()"
   ]
  },
  {
   "cell_type": "code",
   "execution_count": 110,
   "metadata": {},
   "outputs": [
    {
     "data": {
      "image/png": "[encoded data removed]",
      "text/plain": [
       "<Figure size 432x288 with 1 Axes>"
      ]
     },
     "metadata": {
      "needs_background": "light"
     },
     "output_type": "display_data"
    }
   ],
   "source": [
    "plt.hist(agg.sample(frac=.1)['GR50'])\n",
    "plt.show()"
   ]
  },
  {
   "cell_type": "code",
   "execution_count": 58,
   "metadata": {},
   "outputs": [],
   "source": [
    "from numba import jit\n",
    "\n",
    "#@jit()\n",
    "def gr(conc, GRinf, GR50, GR_Hill_Coeff):\n",
    "    return GRinf + np.divide(1- GRinf, 1 + np.power(np.divide(conc,GR50+1.e-20), GR_Hill_Coeff)+1.e-20)"
   ]
  },
  {
   "cell_type": "code",
   "execution_count": 69,
   "metadata": {},
   "outputs": [],
   "source": [
    "\n",
    "def extract_metrics(df, molecule):\n",
    "    # look for the molecule in the dataframe and extract the relevant items\n",
    "    return df[df['molecule']==molecule]"
   ]
  },
  {
   "cell_type": "code",
   "execution_count": 70,
   "metadata": {},
   "outputs": [
    {
     "data": {
      "text/plain": [
       "\"temp_row = agg[(agg['molecule']=='at7519') & (agg['cellline']=='bt20')]\\ntemp_gr50, temp_grinf, temp_grhill = temp_row[['GR50', 'GRinf', 'GR_Hill_Coeff']].values[0]\""
      ]
     },
     "execution_count": 70,
     "metadata": {},
     "output_type": "execute_result"
    }
   ],
   "source": [
    "'''temp_row = agg[(agg['molecule']=='at7519') & (agg['cellline']=='bt20')]\n",
    "temp_gr50, temp_grinf, temp_grhill = temp_row[['GR50', 'GRinf', 'GR_Hill_Coeff']].values[0]'''"
   ]
  },
  {
   "cell_type": "code",
   "execution_count": 66,
   "metadata": {},
   "outputs": [
    {
     "data": {
      "text/plain": [
       "0.9711585004524448"
      ]
     },
     "execution_count": 66,
     "metadata": {},
     "output_type": "execute_result"
    }
   ],
   "source": [
    "'''gr(.01, temp_grinf, temp_gr50, temp_grhill)'''"
   ]
  },
  {
   "cell_type": "markdown",
   "metadata": {},
   "source": [
    "## See what molecules we can predict"
   ]
  },
  {
   "cell_type": "code",
   "execution_count": 11,
   "metadata": {
    "scrolled": true
   },
   "outputs": [
    {
     "data": {
      "text/html": [
       "<div>\n",
       "<style scoped>\n",
       "    .dataframe tbody tr th:only-of-type {\n",
       "        vertical-align: middle;\n",
       "    }\n",
       "\n",
       "    .dataframe tbody tr th {\n",
       "        vertical-align: top;\n",
       "    }\n",
       "\n",
       "    .dataframe thead th {\n",
       "        text-align: right;\n",
       "    }\n",
       "</style>\n",
       "<table border=\"1\" class=\"dataframe\">\n",
       "  <thead>\n",
       "    <tr style=\"text-align: right;\">\n",
       "      <th></th>\n",
       "      <th>molecule</th>\n",
       "      <th>cellline</th>\n",
       "      <th>GR50</th>\n",
       "      <th>GRmax</th>\n",
       "      <th>GRinf</th>\n",
       "      <th>GR_Hill_Coeff</th>\n",
       "      <th>GR_AOC</th>\n",
       "      <th>GR_r2</th>\n",
       "      <th>inf_50</th>\n",
       "      <th>missing_50</th>\n",
       "      <th>normal_50</th>\n",
       "    </tr>\n",
       "  </thead>\n",
       "  <tbody>\n",
       "    <tr>\n",
       "      <th>0</th>\n",
       "      <td>seliciclib</td>\n",
       "      <td>bt20</td>\n",
       "      <td>1.898774</td>\n",
       "      <td>0.194160</td>\n",
       "      <td>-1.00000</td>\n",
       "      <td>1.17820</td>\n",
       "      <td>0.17548</td>\n",
       "      <td>0.97227</td>\n",
       "      <td>0.0</td>\n",
       "      <td>0.0</td>\n",
       "      <td>1.0</td>\n",
       "    </tr>\n",
       "    <tr>\n",
       "      <th>1</th>\n",
       "      <td>a443654</td>\n",
       "      <td>bt20</td>\n",
       "      <td>0.051675</td>\n",
       "      <td>-0.492210</td>\n",
       "      <td>-0.63357</td>\n",
       "      <td>0.55758</td>\n",
       "      <td>1.00120</td>\n",
       "      <td>0.98743</td>\n",
       "      <td>0.0</td>\n",
       "      <td>0.0</td>\n",
       "      <td>1.0</td>\n",
       "    </tr>\n",
       "    <tr>\n",
       "      <th>3</th>\n",
       "      <td>at7519</td>\n",
       "      <td>bt20</td>\n",
       "      <td>0.186015</td>\n",
       "      <td>-0.401780</td>\n",
       "      <td>-0.40563</td>\n",
       "      <td>1.32240</td>\n",
       "      <td>0.86351</td>\n",
       "      <td>0.99936</td>\n",
       "      <td>0.0</td>\n",
       "      <td>0.0</td>\n",
       "      <td>1.0</td>\n",
       "    </tr>\n",
       "    <tr>\n",
       "      <th>4</th>\n",
       "      <td>azd5438</td>\n",
       "      <td>bt20</td>\n",
       "      <td>0.219866</td>\n",
       "      <td>-0.354640</td>\n",
       "      <td>-0.44610</td>\n",
       "      <td>0.79155</td>\n",
       "      <td>0.74810</td>\n",
       "      <td>0.99091</td>\n",
       "      <td>0.0</td>\n",
       "      <td>0.0</td>\n",
       "      <td>1.0</td>\n",
       "    </tr>\n",
       "    <tr>\n",
       "      <th>5</th>\n",
       "      <td>azd6482</td>\n",
       "      <td>bt20</td>\n",
       "      <td>0.827110</td>\n",
       "      <td>-0.081485</td>\n",
       "      <td>-0.54825</td>\n",
       "      <td>0.76277</td>\n",
       "      <td>0.42682</td>\n",
       "      <td>0.99881</td>\n",
       "      <td>0.0</td>\n",
       "      <td>0.0</td>\n",
       "      <td>1.0</td>\n",
       "    </tr>\n",
       "  </tbody>\n",
       "</table>\n",
       "</div>"
      ],
      "text/plain": [
       "     molecule cellline      GR50     GRmax    GRinf  GR_Hill_Coeff   GR_AOC  \\\n",
       "0  seliciclib     bt20  1.898774  0.194160 -1.00000        1.17820  0.17548   \n",
       "1     a443654     bt20  0.051675 -0.492210 -0.63357        0.55758  1.00120   \n",
       "3      at7519     bt20  0.186015 -0.401780 -0.40563        1.32240  0.86351   \n",
       "4     azd5438     bt20  0.219866 -0.354640 -0.44610        0.79155  0.74810   \n",
       "5     azd6482     bt20  0.827110 -0.081485 -0.54825        0.76277  0.42682   \n",
       "\n",
       "     GR_r2  inf_50  missing_50  normal_50  \n",
       "0  0.97227     0.0         0.0        1.0  \n",
       "1  0.98743     0.0         0.0        1.0  \n",
       "3  0.99936     0.0         0.0        1.0  \n",
       "4  0.99091     0.0         0.0        1.0  \n",
       "5  0.99881     0.0         0.0        1.0  "
      ]
     },
     "execution_count": 11,
     "metadata": {},
     "output_type": "execute_result"
    }
   ],
   "source": [
    "agg = pd.read_csv('../data/modelInputs/input_grMetrics.tsv', sep='\\t', header=0, index_col=None)\n",
    "\n",
    "# filter to high r2 values\n",
    "agg = agg[agg['GR_r2'] > .6]\n",
    "agg.head()"
   ]
  },
  {
   "cell_type": "code",
   "execution_count": 114,
   "metadata": {},
   "outputs": [],
   "source": [
    "# filter out nans\n",
    "agg = agg[agg['GR50'] > 0]"
   ]
  },
  {
   "cell_type": "markdown",
   "metadata": {},
   "source": [
    "## Note: the concentration inputs to gr calculator are micromolar"
   ]
  },
  {
   "cell_type": "code",
   "execution_count": 12,
   "metadata": {},
   "outputs": [
    {
     "data": {
      "text/plain": [
       "82"
      ]
     },
     "metadata": {},
     "output_type": "display_data"
    },
    {
     "data": {
      "text/plain": [
       "82"
      ]
     },
     "metadata": {},
     "output_type": "display_data"
    }
   ],
   "source": [
    "display(len(set(agg.molecule)& klaeger_drugs))\n",
    "display(len(set(agg.molecule) & set(raw_conc_data.Drug)))"
   ]
  },
  {
   "cell_type": "code",
   "execution_count": 13,
   "metadata": {},
   "outputs": [],
   "source": [
    "common_drugs = set(agg.molecule) & set(raw_conc_data.Drug)"
   ]
  },
  {
   "cell_type": "markdown",
   "metadata": {},
   "source": [
    "### Filter to shared molecules"
   ]
  },
  {
   "cell_type": "code",
   "execution_count": 14,
   "metadata": {},
   "outputs": [],
   "source": [
    "agg = agg[agg.molecule.isin(common_drugs)]\n",
    "conc_data = raw_conc_data[raw_conc_data.Drug.isin(common_drugs)]"
   ]
  },
  {
   "cell_type": "code",
   "execution_count": 15,
   "metadata": {},
   "outputs": [
    {
     "data": {
      "text/html": [
       "<div>\n",
       "<style scoped>\n",
       "    .dataframe tbody tr th:only-of-type {\n",
       "        vertical-align: middle;\n",
       "    }\n",
       "\n",
       "    .dataframe tbody tr th {\n",
       "        vertical-align: top;\n",
       "    }\n",
       "\n",
       "    .dataframe thead th {\n",
       "        text-align: right;\n",
       "    }\n",
       "</style>\n",
       "<table border=\"1\" class=\"dataframe\">\n",
       "  <thead>\n",
       "    <tr style=\"text-align: right;\">\n",
       "      <th></th>\n",
       "      <th>Drug</th>\n",
       "      <th>Gene Name</th>\n",
       "      <th>Relative Intensity 3 nM</th>\n",
       "      <th>Relative Intensity 10 nM</th>\n",
       "      <th>Relative Intensity 30 nM</th>\n",
       "      <th>Relative Intensity 100 nM</th>\n",
       "      <th>Relative Intensity 300 nM</th>\n",
       "      <th>Relative Intensity 1000 nM</th>\n",
       "      <th>Relative Intensity 3000 nM</th>\n",
       "      <th>Relative Intensity 30000 nM</th>\n",
       "    </tr>\n",
       "  </thead>\n",
       "  <tbody>\n",
       "    <tr>\n",
       "      <th>116</th>\n",
       "      <td>afatinib</td>\n",
       "      <td>ADK</td>\n",
       "      <td>1.101254</td>\n",
       "      <td>1.486669</td>\n",
       "      <td>1.077845</td>\n",
       "      <td>1.114982</td>\n",
       "      <td>1.371766</td>\n",
       "      <td>1.106729</td>\n",
       "      <td>0.704253</td>\n",
       "      <td>0.000000</td>\n",
       "    </tr>\n",
       "    <tr>\n",
       "      <th>117</th>\n",
       "      <td>afatinib</td>\n",
       "      <td>EGFR</td>\n",
       "      <td>0.501030</td>\n",
       "      <td>0.000000</td>\n",
       "      <td>0.000000</td>\n",
       "      <td>0.000000</td>\n",
       "      <td>0.000000</td>\n",
       "      <td>0.000000</td>\n",
       "      <td>0.000000</td>\n",
       "      <td>0.000000</td>\n",
       "    </tr>\n",
       "    <tr>\n",
       "      <th>118</th>\n",
       "      <td>afatinib</td>\n",
       "      <td>GAK</td>\n",
       "      <td>1.105101</td>\n",
       "      <td>1.006153</td>\n",
       "      <td>1.025470</td>\n",
       "      <td>1.015382</td>\n",
       "      <td>1.002719</td>\n",
       "      <td>0.931173</td>\n",
       "      <td>0.625327</td>\n",
       "      <td>0.203584</td>\n",
       "    </tr>\n",
       "    <tr>\n",
       "      <th>120</th>\n",
       "      <td>afatinib</td>\n",
       "      <td>MAPK11</td>\n",
       "      <td>0.929032</td>\n",
       "      <td>1.081225</td>\n",
       "      <td>1.307298</td>\n",
       "      <td>1.440432</td>\n",
       "      <td>1.221845</td>\n",
       "      <td>0.860905</td>\n",
       "      <td>0.741909</td>\n",
       "      <td>0.000000</td>\n",
       "    </tr>\n",
       "    <tr>\n",
       "      <th>121</th>\n",
       "      <td>afatinib</td>\n",
       "      <td>MAPK14</td>\n",
       "      <td>1.098158</td>\n",
       "      <td>1.151929</td>\n",
       "      <td>1.147222</td>\n",
       "      <td>1.065271</td>\n",
       "      <td>0.968552</td>\n",
       "      <td>0.814896</td>\n",
       "      <td>0.503224</td>\n",
       "      <td>0.171431</td>\n",
       "    </tr>\n",
       "  </tbody>\n",
       "</table>\n",
       "</div>"
      ],
      "text/plain": [
       "         Drug Gene Name  Relative Intensity 3 nM  Relative Intensity 10 nM  \\\n",
       "116  afatinib       ADK                 1.101254                  1.486669   \n",
       "117  afatinib      EGFR                 0.501030                  0.000000   \n",
       "118  afatinib       GAK                 1.105101                  1.006153   \n",
       "120  afatinib    MAPK11                 0.929032                  1.081225   \n",
       "121  afatinib    MAPK14                 1.098158                  1.151929   \n",
       "\n",
       "     Relative Intensity 30 nM  Relative Intensity 100 nM  \\\n",
       "116                  1.077845                   1.114982   \n",
       "117                  0.000000                   0.000000   \n",
       "118                  1.025470                   1.015382   \n",
       "120                  1.307298                   1.440432   \n",
       "121                  1.147222                   1.065271   \n",
       "\n",
       "     Relative Intensity 300 nM  Relative Intensity 1000 nM  \\\n",
       "116                   1.371766                    1.106729   \n",
       "117                   0.000000                    0.000000   \n",
       "118                   1.002719                    0.931173   \n",
       "120                   1.221845                    0.860905   \n",
       "121                   0.968552                    0.814896   \n",
       "\n",
       "     Relative Intensity 3000 nM  Relative Intensity 30000 nM  \n",
       "116                    0.704253                     0.000000  \n",
       "117                    0.000000                     0.000000  \n",
       "118                    0.625327                     0.203584  \n",
       "120                    0.741909                     0.000000  \n",
       "121                    0.503224                     0.171431  "
      ]
     },
     "execution_count": 15,
     "metadata": {},
     "output_type": "execute_result"
    }
   ],
   "source": [
    "conc_data.head()"
   ]
  },
  {
   "cell_type": "markdown",
   "metadata": {},
   "source": [
    "### Examine distributions/missing observations"
   ]
  },
  {
   "cell_type": "code",
   "execution_count": 16,
   "metadata": {},
   "outputs": [
    {
     "data": {
      "text/plain": [
       "[('lestaurtinib', 86),\n",
       " ('pf3758309', 84),\n",
       " ('sunitinib', 72),\n",
       " ('azd7762', 69),\n",
       " ('dasatinib', 69),\n",
       " ('pf477736', 64),\n",
       " ('dovitinib', 54),\n",
       " ('kw2449', 52),\n",
       " ('dabrafenib', 49),\n",
       " ('pf562271', 48),\n",
       " ('bosutinib', 46),\n",
       " ('saracatinib', 44),\n",
       " ('nintedanib', 42),\n",
       " ('foretinib', 39),\n",
       " ('silmitasertib', 39),\n",
       " ('gsk1070916', 36),\n",
       " ('momelotinib', 34),\n",
       " ('alvocidib', 32),\n",
       " ('gsk690693', 31),\n",
       " ('ruxolitinib', 31)]"
      ]
     },
     "metadata": {},
     "output_type": "display_data"
    }
   ],
   "source": [
    "from collections import Counter\n",
    "c = Counter(conc_data.Drug)\n",
    "display( c.most_common(20) )"
   ]
  },
  {
   "cell_type": "code",
   "execution_count": 17,
   "metadata": {},
   "outputs": [
    {
     "data": {
      "text/plain": [
       "[('RET', 36),\n",
       " ('ABL1', 27),\n",
       " ('FLT3', 27),\n",
       " ('BMP2K', 24),\n",
       " ('STK10', 24),\n",
       " ('CSNK2A2', 23),\n",
       " ('PDGFRB', 23),\n",
       " ('AURKB', 22),\n",
       " ('MAP4K5', 22),\n",
       " ('DDR1', 22),\n",
       " ('CSNK2A1', 22),\n",
       " ('ABL2', 21),\n",
       " ('GAK', 20),\n",
       " ('SLK', 20),\n",
       " ('MAP2K5', 20),\n",
       " ('RIPK2', 20),\n",
       " ('DDR2', 19),\n",
       " ('AAK1', 18),\n",
       " ('RIPK3', 18),\n",
       " ('HCK', 17)]"
      ]
     },
     "metadata": {},
     "output_type": "display_data"
    }
   ],
   "source": [
    "c= Counter(conc_data['Gene Name'])\n",
    "display( c.most_common(20) )"
   ]
  },
  {
   "cell_type": "code",
   "execution_count": 18,
   "metadata": {},
   "outputs": [
    {
     "data": {
      "text/plain": [
       "(1771, 10)"
      ]
     },
     "execution_count": 18,
     "metadata": {},
     "output_type": "execute_result"
    }
   ],
   "source": [
    "conc_data.shape"
   ]
  },
  {
   "cell_type": "markdown",
   "metadata": {},
   "source": [
    "### Melt the concentrations"
   ]
  },
  {
   "cell_type": "code",
   "execution_count": 19,
   "metadata": {},
   "outputs": [
    {
     "data": {
      "text/html": [
       "<div>\n",
       "<style scoped>\n",
       "    .dataframe tbody tr th:only-of-type {\n",
       "        vertical-align: middle;\n",
       "    }\n",
       "\n",
       "    .dataframe tbody tr th {\n",
       "        vertical-align: top;\n",
       "    }\n",
       "\n",
       "    .dataframe thead th {\n",
       "        text-align: right;\n",
       "    }\n",
       "</style>\n",
       "<table border=\"1\" class=\"dataframe\">\n",
       "  <thead>\n",
       "    <tr style=\"text-align: right;\">\n",
       "      <th></th>\n",
       "      <th>Drug</th>\n",
       "      <th>Gene Name</th>\n",
       "      <th>variable</th>\n",
       "      <th>Intensity</th>\n",
       "    </tr>\n",
       "  </thead>\n",
       "  <tbody>\n",
       "    <tr>\n",
       "      <th>0</th>\n",
       "      <td>afatinib</td>\n",
       "      <td>ADK</td>\n",
       "      <td>Relative Intensity 3 nM</td>\n",
       "      <td>1.101254</td>\n",
       "    </tr>\n",
       "    <tr>\n",
       "      <th>1</th>\n",
       "      <td>afatinib</td>\n",
       "      <td>EGFR</td>\n",
       "      <td>Relative Intensity 3 nM</td>\n",
       "      <td>0.501030</td>\n",
       "    </tr>\n",
       "    <tr>\n",
       "      <th>2</th>\n",
       "      <td>afatinib</td>\n",
       "      <td>GAK</td>\n",
       "      <td>Relative Intensity 3 nM</td>\n",
       "      <td>1.105101</td>\n",
       "    </tr>\n",
       "    <tr>\n",
       "      <th>3</th>\n",
       "      <td>afatinib</td>\n",
       "      <td>MAPK11</td>\n",
       "      <td>Relative Intensity 3 nM</td>\n",
       "      <td>0.929032</td>\n",
       "    </tr>\n",
       "    <tr>\n",
       "      <th>4</th>\n",
       "      <td>afatinib</td>\n",
       "      <td>MAPK14</td>\n",
       "      <td>Relative Intensity 3 nM</td>\n",
       "      <td>1.098158</td>\n",
       "    </tr>\n",
       "  </tbody>\n",
       "</table>\n",
       "</div>"
      ],
      "text/plain": [
       "       Drug Gene Name                 variable  Intensity\n",
       "0  afatinib       ADK  Relative Intensity 3 nM   1.101254\n",
       "1  afatinib      EGFR  Relative Intensity 3 nM   0.501030\n",
       "2  afatinib       GAK  Relative Intensity 3 nM   1.105101\n",
       "3  afatinib    MAPK11  Relative Intensity 3 nM   0.929032\n",
       "4  afatinib    MAPK14  Relative Intensity 3 nM   1.098158"
      ]
     },
     "execution_count": 19,
     "metadata": {},
     "output_type": "execute_result"
    }
   ],
   "source": [
    "partial_obs = conc_data.melt(id_vars=['Drug', 'Gene Name'], value_name='Intensity')\n",
    "partial_obs.head()"
   ]
  },
  {
   "cell_type": "markdown",
   "metadata": {},
   "source": [
    "### Construct the full obsevation matrix (with ones)"
   ]
  },
  {
   "cell_type": "code",
   "execution_count": 20,
   "metadata": {},
   "outputs": [
    {
     "name": "stdout",
     "output_type": "stream",
     "text": [
      "152848\n"
     ]
    }
   ],
   "source": [
    "remaining_drugs = list(partial_obs.Drug.unique())\n",
    "remaining_genes = list(partial_obs['Gene Name'].unique())\n",
    "intensities_unique = list(partial_obs['variable'].unique())\n",
    "\n",
    "complete_combos = list(it.product(remaining_drugs, remaining_genes, intensities_unique))\n",
    "print(len(complete_combos))"
   ]
  },
  {
   "cell_type": "code",
   "execution_count": 21,
   "metadata": {},
   "outputs": [
    {
     "data": {
      "text/html": [
       "<div>\n",
       "<style scoped>\n",
       "    .dataframe tbody tr th:only-of-type {\n",
       "        vertical-align: middle;\n",
       "    }\n",
       "\n",
       "    .dataframe tbody tr th {\n",
       "        vertical-align: top;\n",
       "    }\n",
       "\n",
       "    .dataframe thead th {\n",
       "        text-align: right;\n",
       "    }\n",
       "</style>\n",
       "<table border=\"1\" class=\"dataframe\">\n",
       "  <thead>\n",
       "    <tr style=\"text-align: right;\">\n",
       "      <th></th>\n",
       "      <th>Drug</th>\n",
       "      <th>Gene Name</th>\n",
       "      <th>Concentration</th>\n",
       "      <th>Intensity</th>\n",
       "    </tr>\n",
       "  </thead>\n",
       "  <tbody>\n",
       "    <tr>\n",
       "      <th>1</th>\n",
       "      <td>afatinib</td>\n",
       "      <td>ADK</td>\n",
       "      <td>Relative Intensity 10 nM</td>\n",
       "      <td>1</td>\n",
       "    </tr>\n",
       "    <tr>\n",
       "      <th>9</th>\n",
       "      <td>afatinib</td>\n",
       "      <td>EGFR</td>\n",
       "      <td>Relative Intensity 10 nM</td>\n",
       "      <td>1</td>\n",
       "    </tr>\n",
       "    <tr>\n",
       "      <th>17</th>\n",
       "      <td>afatinib</td>\n",
       "      <td>GAK</td>\n",
       "      <td>Relative Intensity 10 nM</td>\n",
       "      <td>1</td>\n",
       "    </tr>\n",
       "    <tr>\n",
       "      <th>25</th>\n",
       "      <td>afatinib</td>\n",
       "      <td>MAPK11</td>\n",
       "      <td>Relative Intensity 10 nM</td>\n",
       "      <td>1</td>\n",
       "    </tr>\n",
       "    <tr>\n",
       "      <th>33</th>\n",
       "      <td>afatinib</td>\n",
       "      <td>MAPK14</td>\n",
       "      <td>Relative Intensity 10 nM</td>\n",
       "      <td>1</td>\n",
       "    </tr>\n",
       "    <tr>\n",
       "      <th>41</th>\n",
       "      <td>afatinib</td>\n",
       "      <td>MAPK9</td>\n",
       "      <td>Relative Intensity 10 nM</td>\n",
       "      <td>1</td>\n",
       "    </tr>\n",
       "    <tr>\n",
       "      <th>49</th>\n",
       "      <td>afatinib</td>\n",
       "      <td>MAPKAPK2</td>\n",
       "      <td>Relative Intensity 10 nM</td>\n",
       "      <td>1</td>\n",
       "    </tr>\n",
       "    <tr>\n",
       "      <th>57</th>\n",
       "      <td>afatinib</td>\n",
       "      <td>MET</td>\n",
       "      <td>Relative Intensity 10 nM</td>\n",
       "      <td>1</td>\n",
       "    </tr>\n",
       "    <tr>\n",
       "      <th>65</th>\n",
       "      <td>afatinib</td>\n",
       "      <td>MYLK</td>\n",
       "      <td>Relative Intensity 10 nM</td>\n",
       "      <td>1</td>\n",
       "    </tr>\n",
       "    <tr>\n",
       "      <th>73</th>\n",
       "      <td>afatinib</td>\n",
       "      <td>PHKG2</td>\n",
       "      <td>Relative Intensity 10 nM</td>\n",
       "      <td>1</td>\n",
       "    </tr>\n",
       "  </tbody>\n",
       "</table>\n",
       "</div>"
      ],
      "text/plain": [
       "        Drug Gene Name             Concentration  Intensity\n",
       "1   afatinib       ADK  Relative Intensity 10 nM          1\n",
       "9   afatinib      EGFR  Relative Intensity 10 nM          1\n",
       "17  afatinib       GAK  Relative Intensity 10 nM          1\n",
       "25  afatinib    MAPK11  Relative Intensity 10 nM          1\n",
       "33  afatinib    MAPK14  Relative Intensity 10 nM          1\n",
       "41  afatinib     MAPK9  Relative Intensity 10 nM          1\n",
       "49  afatinib  MAPKAPK2  Relative Intensity 10 nM          1\n",
       "57  afatinib       MET  Relative Intensity 10 nM          1\n",
       "65  afatinib      MYLK  Relative Intensity 10 nM          1\n",
       "73  afatinib     PHKG2  Relative Intensity 10 nM          1"
      ]
     },
     "execution_count": 21,
     "metadata": {},
     "output_type": "execute_result"
    }
   ],
   "source": [
    "complete_obs = pd.DataFrame(complete_combos)\n",
    "complete_obs[4] = 1\n",
    "complete_obs.columns=['Drug','Gene Name','Concentration','Intensity']\n",
    "complete_obs.sort_values(by=['Concentration', 'Drug'], inplace=True)\n",
    "complete_obs.head(10)"
   ]
  },
  {
   "cell_type": "code",
   "execution_count": 22,
   "metadata": {},
   "outputs": [],
   "source": [
    "# fill the observations with known data\n",
    "# we use a multiindex to slice quickly\n",
    "complete_obs = complete_obs.groupby(['Drug', 'Gene Name', 'Concentration'])['Intensity'].sum()\n",
    "partial_obs = partial_obs.groupby(['Drug', 'Gene Name', 'variable'])['Intensity'].sum()"
   ]
  },
  {
   "cell_type": "code",
   "execution_count": 23,
   "metadata": {},
   "outputs": [],
   "source": [
    "for observation in partial_obs.index:\n",
    "    complete_obs.loc[observation] = partial_obs[observation]\n",
    "    \n",
    "complete_obs = complete_obs.reset_index()\n",
    "partial_obs = partial_obs.reset_index()"
   ]
  },
  {
   "cell_type": "code",
   "execution_count": 24,
   "metadata": {},
   "outputs": [
    {
     "data": {
      "image/png": "[encoded data removed]",
      "text/plain": [
       "<Figure size 432x288 with 1 Axes>"
      ]
     },
     "metadata": {
      "needs_background": "light"
     },
     "output_type": "display_data"
    }
   ],
   "source": [
    "plt.hist(complete_obs.sample(frac=.2)['Intensity'], bins=30)\n",
    "plt.show()"
   ]
  },
  {
   "cell_type": "code",
   "execution_count": 25,
   "metadata": {},
   "outputs": [],
   "source": [
    "# print the 10 smallest values of intensity to show a good epsilon\n",
    "list(sorted(complete_obs['Intensity'][complete_obs['Intensity']>0]))[:20]\n",
    "\n",
    "# extract min\n",
    "min_observed = min(complete_obs['Intensity'][complete_obs['Intensity']>0])"
   ]
  },
  {
   "cell_type": "code",
   "execution_count": 26,
   "metadata": {},
   "outputs": [
    {
     "name": "stderr",
     "output_type": "stream",
     "text": [
      "/Users/isrobson/anaconda3/lib/python3.7/site-packages/ipykernel_launcher.py:3: SettingWithCopyWarning: \n",
      "A value is trying to be set on a copy of a slice from a DataFrame\n",
      "\n",
      "See the caveats in the documentation: http://pandas.pydata.org/pandas-docs/stable/indexing.html#indexing-view-versus-copy\n",
      "  This is separate from the ipykernel package so we can avoid doing imports until\n"
     ]
    }
   ],
   "source": [
    "# min_cutter assumes machine precision half of smallest\n",
    "min_cutter = 2\n",
    "complete_obs['Intensity'][complete_obs['Intensity'] == 0] = min_observed/min_cutter"
   ]
  },
  {
   "cell_type": "code",
   "execution_count": 27,
   "metadata": {},
   "outputs": [
    {
     "data": {
      "text/html": [
       "<div>\n",
       "<style scoped>\n",
       "    .dataframe tbody tr th:only-of-type {\n",
       "        vertical-align: middle;\n",
       "    }\n",
       "\n",
       "    .dataframe tbody tr th {\n",
       "        vertical-align: top;\n",
       "    }\n",
       "\n",
       "    .dataframe thead th {\n",
       "        text-align: right;\n",
       "    }\n",
       "</style>\n",
       "<table border=\"1\" class=\"dataframe\">\n",
       "  <thead>\n",
       "    <tr style=\"text-align: right;\">\n",
       "      <th></th>\n",
       "      <th>Drug</th>\n",
       "      <th>Gene Name</th>\n",
       "      <th>Concentration</th>\n",
       "      <th>Intensity</th>\n",
       "    </tr>\n",
       "  </thead>\n",
       "  <tbody>\n",
       "    <tr>\n",
       "      <th>0</th>\n",
       "      <td>afatinib</td>\n",
       "      <td>AAK1</td>\n",
       "      <td>Relative Intensity 10 nM</td>\n",
       "      <td>0.0</td>\n",
       "    </tr>\n",
       "    <tr>\n",
       "      <th>1</th>\n",
       "      <td>afatinib</td>\n",
       "      <td>AAK1</td>\n",
       "      <td>Relative Intensity 100 nM</td>\n",
       "      <td>0.0</td>\n",
       "    </tr>\n",
       "    <tr>\n",
       "      <th>2</th>\n",
       "      <td>afatinib</td>\n",
       "      <td>AAK1</td>\n",
       "      <td>Relative Intensity 1000 nM</td>\n",
       "      <td>0.0</td>\n",
       "    </tr>\n",
       "    <tr>\n",
       "      <th>3</th>\n",
       "      <td>afatinib</td>\n",
       "      <td>AAK1</td>\n",
       "      <td>Relative Intensity 3 nM</td>\n",
       "      <td>0.0</td>\n",
       "    </tr>\n",
       "    <tr>\n",
       "      <th>4</th>\n",
       "      <td>afatinib</td>\n",
       "      <td>AAK1</td>\n",
       "      <td>Relative Intensity 30 nM</td>\n",
       "      <td>0.0</td>\n",
       "    </tr>\n",
       "  </tbody>\n",
       "</table>\n",
       "</div>"
      ],
      "text/plain": [
       "       Drug Gene Name               Concentration  Intensity\n",
       "0  afatinib      AAK1    Relative Intensity 10 nM        0.0\n",
       "1  afatinib      AAK1   Relative Intensity 100 nM        0.0\n",
       "2  afatinib      AAK1  Relative Intensity 1000 nM        0.0\n",
       "3  afatinib      AAK1     Relative Intensity 3 nM        0.0\n",
       "4  afatinib      AAK1    Relative Intensity 30 nM        0.0"
      ]
     },
     "execution_count": 27,
     "metadata": {},
     "output_type": "execute_result"
    }
   ],
   "source": [
    "# log2 transform the data\n",
    "complete_obs['Intensity'] = np.log2(complete_obs['Intensity'].values)\n",
    "complete_obs.head()"
   ]
  },
  {
   "cell_type": "code",
   "execution_count": 28,
   "metadata": {},
   "outputs": [
    {
     "data": {
      "image/png": "[encoded data removed]",
      "text/plain": [
       "<Figure size 432x288 with 1 Axes>"
      ]
     },
     "metadata": {
      "needs_background": "light"
     },
     "output_type": "display_data"
    }
   ],
   "source": [
    "plt.hist(complete_obs.sample(frac=.2)['Intensity'], bins=30)\n",
    "plt.show()"
   ]
  },
  {
   "cell_type": "markdown",
   "metadata": {},
   "source": [
    "### Interpolate the growth at each concentration"
   ]
  },
  {
   "cell_type": "code",
   "execution_count": 73,
   "metadata": {},
   "outputs": [
    {
     "data": {
      "text/html": [
       "<div>\n",
       "<style scoped>\n",
       "    .dataframe tbody tr th:only-of-type {\n",
       "        vertical-align: middle;\n",
       "    }\n",
       "\n",
       "    .dataframe tbody tr th {\n",
       "        vertical-align: top;\n",
       "    }\n",
       "\n",
       "    .dataframe thead th {\n",
       "        text-align: right;\n",
       "    }\n",
       "</style>\n",
       "<table border=\"1\" class=\"dataframe\">\n",
       "  <thead>\n",
       "    <tr style=\"text-align: right;\">\n",
       "      <th></th>\n",
       "      <th>Drug</th>\n",
       "      <th>Gene Name</th>\n",
       "      <th>Concentration</th>\n",
       "      <th>Intensity</th>\n",
       "    </tr>\n",
       "  </thead>\n",
       "  <tbody>\n",
       "    <tr>\n",
       "      <th>0</th>\n",
       "      <td>afatinib</td>\n",
       "      <td>AAK1</td>\n",
       "      <td>0.010</td>\n",
       "      <td>0.0</td>\n",
       "    </tr>\n",
       "    <tr>\n",
       "      <th>1</th>\n",
       "      <td>afatinib</td>\n",
       "      <td>AAK1</td>\n",
       "      <td>0.100</td>\n",
       "      <td>0.0</td>\n",
       "    </tr>\n",
       "    <tr>\n",
       "      <th>2</th>\n",
       "      <td>afatinib</td>\n",
       "      <td>AAK1</td>\n",
       "      <td>1.000</td>\n",
       "      <td>0.0</td>\n",
       "    </tr>\n",
       "    <tr>\n",
       "      <th>3</th>\n",
       "      <td>afatinib</td>\n",
       "      <td>AAK1</td>\n",
       "      <td>0.003</td>\n",
       "      <td>0.0</td>\n",
       "    </tr>\n",
       "    <tr>\n",
       "      <th>4</th>\n",
       "      <td>afatinib</td>\n",
       "      <td>AAK1</td>\n",
       "      <td>0.030</td>\n",
       "      <td>0.0</td>\n",
       "    </tr>\n",
       "  </tbody>\n",
       "</table>\n",
       "</div>"
      ],
      "text/plain": [
       "       Drug Gene Name  Concentration  Intensity\n",
       "0  afatinib      AAK1          0.010        0.0\n",
       "1  afatinib      AAK1          0.100        0.0\n",
       "2  afatinib      AAK1          1.000        0.0\n",
       "3  afatinib      AAK1          0.003        0.0\n",
       "4  afatinib      AAK1          0.030        0.0"
      ]
     },
     "execution_count": 73,
     "metadata": {},
     "output_type": "execute_result"
    }
   ],
   "source": [
    "# first, convert concentration to micromolar (numeric)\n",
    "complete_obs['Concentration'] = complete_obs['Concentration'].apply(lambda x: float(x.split(' ')[2]))/1000\n",
    "complete_obs.head()"
   ]
  },
  {
   "cell_type": "code",
   "execution_count": 83,
   "metadata": {},
   "outputs": [
    {
     "data": {
      "text/plain": [
       "[('afatinib', 'AAK1'),\n",
       " ('afatinib', 'ABL1'),\n",
       " ('afatinib', 'ABL2'),\n",
       " ('afatinib', 'ACVR1'),\n",
       " ('afatinib', 'ACVR1B')]"
      ]
     },
     "execution_count": 83,
     "metadata": {},
     "output_type": "execute_result"
    }
   ],
   "source": [
    "drug_gene_combos = list(zip(complete_obs.groupby(['Drug', 'Gene Name']).agg(np.sum).reset_index().Drug, complete_obs.groupby(['Drug', 'Gene Name']).agg(np.sum).reset_index()['Gene Name']))\n",
    "drug_gene_combos[:5]"
   ]
  },
  {
   "cell_type": "code",
   "execution_count": 117,
   "metadata": {},
   "outputs": [],
   "source": [
    "from time import time"
   ]
  },
  {
   "cell_type": "markdown",
   "metadata": {},
   "source": [
    "### This should not be looking at genes"
   ]
  },
  {
   "cell_type": "code",
   "execution_count": 121,
   "metadata": {
    "scrolled": true
   },
   "outputs": [
    {
     "name": "stdout",
     "output_type": "stream",
     "text": [
      "Done with combo 0/19106\n",
      "Done with combo 1000/19106\n",
      "Done with combo 2000/19106\n",
      "Done with combo 3000/19106\n",
      "Done with combo 4000/19106\n",
      "Done with combo 5000/19106\n",
      "Done with combo 6000/19106\n",
      "Done with combo 7000/19106\n",
      "Done with combo 8000/19106\n",
      "Done with combo 9000/19106\n",
      "Done with combo 10000/19106\n",
      "Done with combo 11000/19106\n",
      "Done with combo 12000/19106\n",
      "Done with combo 13000/19106\n",
      "Done with combo 14000/19106\n",
      "Done with combo 15000/19106\n",
      "Done with combo 16000/19106\n",
      "Done with combo 17000/19106\n",
      "Done with combo 18000/19106\n",
      "Done with combo 19000/19106\n"
     ]
    },
    {
     "ename": "TypeError",
     "evalue": "unsupported operand type(s) for -: 'builtin_function_or_method' and 'float'",
     "output_type": "error",
     "traceback": [
      "\u001b[0;31m---------------------------------------------------------------------------\u001b[0m",
      "\u001b[0;31mTypeError\u001b[0m                                 Traceback (most recent call last)",
      "\u001b[0;32m<ipython-input-121-f44de9e20495>\u001b[0m in \u001b[0;36m<module>\u001b[0;34m\u001b[0m\n\u001b[1;32m     18\u001b[0m         \u001b[0mprint\u001b[0m\u001b[0;34m(\u001b[0m\u001b[0;34m'Done with combo '\u001b[0m  \u001b[0;34m+\u001b[0m \u001b[0mstr\u001b[0m\u001b[0;34m(\u001b[0m\u001b[0mcount\u001b[0m\u001b[0;34m)\u001b[0m \u001b[0;34m+\u001b[0m \u001b[0;34m'/'\u001b[0m \u001b[0;34m+\u001b[0m \u001b[0mstr\u001b[0m\u001b[0;34m(\u001b[0m\u001b[0mlen\u001b[0m\u001b[0;34m(\u001b[0m\u001b[0mdrug_gene_combos\u001b[0m\u001b[0;34m)\u001b[0m\u001b[0;34m)\u001b[0m\u001b[0;34m)\u001b[0m\u001b[0;34m\u001b[0m\u001b[0;34m\u001b[0m\u001b[0m\n\u001b[1;32m     19\u001b[0m     \u001b[0mcount\u001b[0m \u001b[0;34m+=\u001b[0m\u001b[0;36m1\u001b[0m\u001b[0;34m\u001b[0m\u001b[0;34m\u001b[0m\u001b[0m\n\u001b[0;32m---> 20\u001b[0;31m \u001b[0mprint\u001b[0m\u001b[0;34m(\u001b[0m\u001b[0mtime\u001b[0m\u001b[0;34m-\u001b[0m\u001b[0ms\u001b[0m\u001b[0;34m)\u001b[0m\u001b[0;34m\u001b[0m\u001b[0;34m\u001b[0m\u001b[0m\n\u001b[0m",
      "\u001b[0;31mTypeError\u001b[0m: unsupported operand type(s) for -: 'builtin_function_or_method' and 'float'"
     ]
    }
   ],
   "source": [
    "s = time()\n",
    "interpolated_data = {}\n",
    "concentrations = list(complete_obs.Concentration.unique())\n",
    "\n",
    "count = 0\n",
    "# loop through the observations and create new data\n",
    "for d, g in drug_gene_combos:\n",
    "    # select observed data\n",
    "    gr_data_to_interpolate_with = extract_metrics(agg, d)\n",
    "    \n",
    "    for i, gr_row in gr_data_to_interpolate_with.iterrows():\n",
    "        local_gr50, local_grinf, local_grhill, local_cellline = list(gr_row[['GR50', 'GRinf', 'GR_Hill_Coeff', 'cellline']].values)\n",
    "        \n",
    "        for c in concentrations:\n",
    "            interpolated_data[(d, g, local_cellline, c)] = gr(c, local_grinf, local_gr50, local_grhill)\n",
    "        \n",
    "    if count % 1000 == 0: \n",
    "        print('Done with combo '  + str(count) + '/' + str(len(drug_gene_combos)))\n",
    "    count +=1\n",
    "print(time()-s)"
   ]
  },
  {
   "cell_type": "code",
   "execution_count": 123,
   "metadata": {},
   "outputs": [
    {
     "data": {
      "text/plain": [
       "afatinib  AAK1  hs578t  0.010    0.999997\n",
       "                        0.100    0.998848\n",
       "                        1.000    0.674671\n",
       "                        0.003    1.000000\n",
       "                        0.030    0.999945\n",
       "dtype: float64"
      ]
     },
     "execution_count": 123,
     "metadata": {},
     "output_type": "execute_result"
    }
   ],
   "source": [
    "interpolated_df = pd.Series(interpolated_data)\n",
    "interpolated_df.head()"
   ]
  },
  {
   "cell_type": "code",
   "execution_count": 124,
   "metadata": {},
   "outputs": [
    {
     "data": {
      "text/html": [
       "<div>\n",
       "<style scoped>\n",
       "    .dataframe tbody tr th:only-of-type {\n",
       "        vertical-align: middle;\n",
       "    }\n",
       "\n",
       "    .dataframe tbody tr th {\n",
       "        vertical-align: top;\n",
       "    }\n",
       "\n",
       "    .dataframe thead th {\n",
       "        text-align: right;\n",
       "    }\n",
       "</style>\n",
       "<table border=\"1\" class=\"dataframe\">\n",
       "  <thead>\n",
       "    <tr style=\"text-align: right;\">\n",
       "      <th></th>\n",
       "      <th></th>\n",
       "      <th></th>\n",
       "      <th></th>\n",
       "      <th>0</th>\n",
       "    </tr>\n",
       "  </thead>\n",
       "  <tbody>\n",
       "    <tr>\n",
       "      <th rowspan=\"5\" valign=\"top\">afatinib</th>\n",
       "      <th rowspan=\"5\" valign=\"top\">AAK1</th>\n",
       "      <th rowspan=\"5\" valign=\"top\">hs578t</th>\n",
       "      <th>0.010</th>\n",
       "      <td>0.999997</td>\n",
       "    </tr>\n",
       "    <tr>\n",
       "      <th>0.100</th>\n",
       "      <td>0.998848</td>\n",
       "    </tr>\n",
       "    <tr>\n",
       "      <th>1.000</th>\n",
       "      <td>0.674671</td>\n",
       "    </tr>\n",
       "    <tr>\n",
       "      <th>0.003</th>\n",
       "      <td>1.000000</td>\n",
       "    </tr>\n",
       "    <tr>\n",
       "      <th>0.030</th>\n",
       "      <td>0.999945</td>\n",
       "    </tr>\n",
       "  </tbody>\n",
       "</table>\n",
       "</div>"
      ],
      "text/plain": [
       "                                   0\n",
       "afatinib AAK1 hs578t 0.010  0.999997\n",
       "                     0.100  0.998848\n",
       "                     1.000  0.674671\n",
       "                     0.003  1.000000\n",
       "                     0.030  0.999945"
      ]
     },
     "execution_count": 124,
     "metadata": {},
     "output_type": "execute_result"
    }
   ],
   "source": [
    "interpolated_df = pd.DataFrame(interpolated_df)\n",
    "interpolated_df.head()"
   ]
  },
  {
   "cell_type": "code",
   "execution_count": 126,
   "metadata": {},
   "outputs": [],
   "source": [
    "interpolated_df = interpolated_df.reset_index()\n",
    "interpolated_df.columns = ['Drug', 'Gene', 'Cellline', 'Concentration', 'Growth']"
   ]
  },
  {
   "cell_type": "code",
   "execution_count": 129,
   "metadata": {},
   "outputs": [
    {
     "data": {
      "text/html": [
       "<div>\n",
       "<style scoped>\n",
       "    .dataframe tbody tr th:only-of-type {\n",
       "        vertical-align: middle;\n",
       "    }\n",
       "\n",
       "    .dataframe tbody tr th {\n",
       "        vertical-align: top;\n",
       "    }\n",
       "\n",
       "    .dataframe thead th {\n",
       "        text-align: right;\n",
       "    }\n",
       "</style>\n",
       "<table border=\"1\" class=\"dataframe\">\n",
       "  <thead>\n",
       "    <tr style=\"text-align: right;\">\n",
       "      <th></th>\n",
       "      <th>Drug</th>\n",
       "      <th>Gene</th>\n",
       "      <th>Cellline</th>\n",
       "      <th>Concentration</th>\n",
       "      <th>Growth</th>\n",
       "    </tr>\n",
       "  </thead>\n",
       "  <tbody>\n",
       "    <tr>\n",
       "      <th>0</th>\n",
       "      <td>afatinib</td>\n",
       "      <td>AAK1</td>\n",
       "      <td>hs578t</td>\n",
       "      <td>0.010</td>\n",
       "      <td>0.999997</td>\n",
       "    </tr>\n",
       "    <tr>\n",
       "      <th>1</th>\n",
       "      <td>afatinib</td>\n",
       "      <td>AAK1</td>\n",
       "      <td>hs578t</td>\n",
       "      <td>0.100</td>\n",
       "      <td>0.998848</td>\n",
       "    </tr>\n",
       "    <tr>\n",
       "      <th>2</th>\n",
       "      <td>afatinib</td>\n",
       "      <td>AAK1</td>\n",
       "      <td>hs578t</td>\n",
       "      <td>1.000</td>\n",
       "      <td>0.674671</td>\n",
       "    </tr>\n",
       "    <tr>\n",
       "      <th>3</th>\n",
       "      <td>afatinib</td>\n",
       "      <td>AAK1</td>\n",
       "      <td>hs578t</td>\n",
       "      <td>0.003</td>\n",
       "      <td>1.000000</td>\n",
       "    </tr>\n",
       "    <tr>\n",
       "      <th>4</th>\n",
       "      <td>afatinib</td>\n",
       "      <td>AAK1</td>\n",
       "      <td>hs578t</td>\n",
       "      <td>0.030</td>\n",
       "      <td>0.999945</td>\n",
       "    </tr>\n",
       "  </tbody>\n",
       "</table>\n",
       "</div>"
      ],
      "text/plain": [
       "       Drug  Gene Cellline  Concentration    Growth\n",
       "0  afatinib  AAK1   hs578t          0.010  0.999997\n",
       "1  afatinib  AAK1   hs578t          0.100  0.998848\n",
       "2  afatinib  AAK1   hs578t          1.000  0.674671\n",
       "3  afatinib  AAK1   hs578t          0.003  1.000000\n",
       "4  afatinib  AAK1   hs578t          0.030  0.999945"
      ]
     },
     "execution_count": 129,
     "metadata": {},
     "output_type": "execute_result"
    }
   ],
   "source": [
    "interpolated_df.head()"
   ]
  },
  {
   "cell_type": "code",
   "execution_count": 131,
   "metadata": {},
   "outputs": [],
   "source": [
    "interpolated_df['idx'] = interpolated_df['Drug'] + interpolated_df['Gene'] + interpolated_df['Concentration'].apply(str)\n",
    "complete_obs['idx'] = complete_obs['Drug'] + complete_obs['Gene Name'] + complete_obs['Concentration'].apply(str)"
   ]
  },
  {
   "cell_type": "code",
   "execution_count": 137,
   "metadata": {},
   "outputs": [],
   "source": [
    "df = interpolated_df.merge(complete_obs, how='left', on='idx')"
   ]
  },
  {
   "cell_type": "code",
   "execution_count": 140,
   "metadata": {},
   "outputs": [
    {
     "data": {
      "text/html": [
       "<div>\n",
       "<style scoped>\n",
       "    .dataframe tbody tr th:only-of-type {\n",
       "        vertical-align: middle;\n",
       "    }\n",
       "\n",
       "    .dataframe tbody tr th {\n",
       "        vertical-align: top;\n",
       "    }\n",
       "\n",
       "    .dataframe thead th {\n",
       "        text-align: right;\n",
       "    }\n",
       "</style>\n",
       "<table border=\"1\" class=\"dataframe\">\n",
       "  <thead>\n",
       "    <tr style=\"text-align: right;\">\n",
       "      <th></th>\n",
       "      <th>Drug</th>\n",
       "      <th>Gene</th>\n",
       "      <th>Cellline</th>\n",
       "      <th>Concentration</th>\n",
       "      <th>Intensity</th>\n",
       "      <th>Growth</th>\n",
       "    </tr>\n",
       "  </thead>\n",
       "  <tbody>\n",
       "    <tr>\n",
       "      <th>0</th>\n",
       "      <td>afatinib</td>\n",
       "      <td>AAK1</td>\n",
       "      <td>hs578t</td>\n",
       "      <td>0.010</td>\n",
       "      <td>0.0</td>\n",
       "      <td>0.999997</td>\n",
       "    </tr>\n",
       "    <tr>\n",
       "      <th>1</th>\n",
       "      <td>afatinib</td>\n",
       "      <td>AAK1</td>\n",
       "      <td>hs578t</td>\n",
       "      <td>0.100</td>\n",
       "      <td>0.0</td>\n",
       "      <td>0.998848</td>\n",
       "    </tr>\n",
       "    <tr>\n",
       "      <th>2</th>\n",
       "      <td>afatinib</td>\n",
       "      <td>AAK1</td>\n",
       "      <td>hs578t</td>\n",
       "      <td>1.000</td>\n",
       "      <td>0.0</td>\n",
       "      <td>0.674671</td>\n",
       "    </tr>\n",
       "    <tr>\n",
       "      <th>3</th>\n",
       "      <td>afatinib</td>\n",
       "      <td>AAK1</td>\n",
       "      <td>hs578t</td>\n",
       "      <td>0.003</td>\n",
       "      <td>0.0</td>\n",
       "      <td>1.000000</td>\n",
       "    </tr>\n",
       "    <tr>\n",
       "      <th>4</th>\n",
       "      <td>afatinib</td>\n",
       "      <td>AAK1</td>\n",
       "      <td>hs578t</td>\n",
       "      <td>0.030</td>\n",
       "      <td>0.0</td>\n",
       "      <td>0.999945</td>\n",
       "    </tr>\n",
       "  </tbody>\n",
       "</table>\n",
       "</div>"
      ],
      "text/plain": [
       "       Drug  Gene Cellline  Concentration  Intensity    Growth\n",
       "0  afatinib  AAK1   hs578t          0.010        0.0  0.999997\n",
       "1  afatinib  AAK1   hs578t          0.100        0.0  0.998848\n",
       "2  afatinib  AAK1   hs578t          1.000        0.0  0.674671\n",
       "3  afatinib  AAK1   hs578t          0.003        0.0  1.000000\n",
       "4  afatinib  AAK1   hs578t          0.030        0.0  0.999945"
      ]
     },
     "execution_count": 140,
     "metadata": {},
     "output_type": "execute_result"
    }
   ],
   "source": [
    "df = df[['Drug_x', 'Gene', 'Cellline', 'Concentration_x', 'Intensity', 'Growth']]\n",
    "df.columns = ['Drug', 'Gene', 'Cellline', 'Concentration', 'Intensity', 'Growth']\n",
    "df.head()"
   ]
  },
  {
   "cell_type": "code",
   "execution_count": 146,
   "metadata": {},
   "outputs": [],
   "source": [
    "t = df.pivot_table(index=['Drug', 'Cellline', 'Growth', 'Concentration'], columns='Gene')"
   ]
  },
  {
   "cell_type": "code",
   "execution_count": 154,
   "metadata": {},
   "outputs": [],
   "source": [
    "gene_cols = t.head().reset_index().columns.get_level_values(1).tolist()\n",
    "gene_cols[:4] = ['Drug', 'Gene', 'Cellline', 'Concentration']"
   ]
  },
  {
   "cell_type": "code",
   "execution_count": 158,
   "metadata": {},
   "outputs": [],
   "source": [
    "t = t.reset_index()\n",
    "t.columns = gene_cols"
   ]
  },
  {
   "cell_type": "code",
   "execution_count": 162,
   "metadata": {},
   "outputs": [
    {
     "data": {
      "text/plain": [
       "(62368, 237)"
      ]
     },
     "execution_count": 162,
     "metadata": {},
     "output_type": "execute_result"
    }
   ],
   "source": [
    "t.shape"
   ]
  },
  {
   "cell_type": "code",
   "execution_count": 163,
   "metadata": {},
   "outputs": [],
   "source": [
    "t.to_csv('../data/interpolated_conc_df.csv', index=False)"
   ]
  },
  {
   "cell_type": "code",
   "execution_count": null,
   "metadata": {},
   "outputs": [],
   "source": []
  }
 ],
 "metadata": {
  "kernelspec": {
   "display_name": "Python 3",
   "language": "python",
   "name": "python3"
  },
  "language_info": {
   "codemirror_mode": {
    "name": "ipython",
    "version": 3
   },
   "file_extension": ".py",
   "mimetype": "text/x-python",
   "name": "python",
   "nbconvert_exporter": "python",
   "pygments_lexer": "ipython3",
   "version": "3.7.3"
  }
 },
 "nbformat": 4,
 "nbformat_minor": 2
}
